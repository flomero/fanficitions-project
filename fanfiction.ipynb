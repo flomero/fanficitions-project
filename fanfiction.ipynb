{
 "cells": [
  {
   "cell_type": "markdown",
   "metadata": {},
   "source": [
    "# Datenvisualisierung und Auswertung"
   ]
  },
  {
   "cell_type": "code",
   "execution_count": 88,
   "metadata": {},
   "outputs": [],
   "source": [
    "import sqlite3\n",
    "import plotly.graph_objects as go\n",
    "\n",
    "db = sqlite3.connect('fanfictions2.db')\n",
    "\n",
    "def freq_graph(data, count = 30):\n",
    "    x = []\n",
    "    y = []\n",
    "    \n",
    "    for item in data:\n",
    "        x.append(item[0])\n",
    "        y.append(item[1])\n",
    "\n",
    "    fig = go.Figure([go.Bar(x=x[:count], y = y[:count])])\n",
    "    return fig\n",
    "\n",
    "def get_frequency(column, data, *args):\n",
    "    cursor = db.cursor()\n",
    "    query = 'SELECT {} FROM {}'.format(column, data)\n",
    "    cursor.execute(query)\n",
    "    tags = cursor.fetchall()\n",
    "\n",
    "    frequency = {}\n",
    "\n",
    "    for row in tags: \n",
    "        list = row[0].split(\", \")\n",
    "        for item in list:\n",
    "            if item != \"\":\n",
    "               if (item in frequency):\n",
    "                  frequency[item] += 1\n",
    "               else:\n",
    "                  frequency[item] = 1\n",
    "    if not args:\n",
    "        frequency = sorted(frequency.items(), key=lambda x: x[1], reverse=True)\n",
    "\n",
    "    return frequency\n",
    "\n",
    "def get_words(data):\n",
    "    cursor = db.cursor()\n",
    "    query = 'SELECT Words FROM {}'.format(data)\n",
    "    cursor.execute(query)\n",
    "    words = cursor.fetchall()\n",
    "    words2 = []\n",
    "    for w in words:\n",
    "        w = str(w[0])[:-1]\n",
    "        words2.append(w)\n",
    "    return words2"
   ]
  },
  {
   "cell_type": "code",
   "execution_count": 37,
   "metadata": {},
   "outputs": [
    {
     "data": {
      "application/vnd.plotly.v1+json": {
       "config": {
        "plotlyServerURL": "https://plot.ly"
       },
       "data": [
        {
         "type": "bar",
         "x": [
          "Annabeth Chase/Percy Jackson",
          "Nico di Angelo/Will Solace",
          "Jason Grace/Piper McLean",
          "Hermione Granger/Ron Weasley",
          "Hazel Levesque/Frank Zhang",
          "Draco Malfoy/Harry Potter",
          "Harry Potter/Ginny Weasley",
          "Calypso/Leo Valdez",
          "Percy Jackson/Harry Potter",
          "Jason Grace/Percy Jackson",
          "Thalia Grace/Reyna Avila Ramírez-Arellano",
          "Percy Jackson & Harry Potter",
          "Hermione Granger/Harry Potter",
          "Sirius Black/Remus Lupin",
          "Hermione Granger & Harry Potter & Ron Weasley",
          "Nico di Angelo/Harry Potter",
          "Luna Lovegood/Ginny Weasley",
          "James Potter/Lily Evans Potter",
          "Nico di Angelo/Percy Jackson",
          "Percy Jackson/Annabeth Chase"
         ],
         "y": [
          157,
          84,
          60,
          56,
          52,
          36,
          33,
          32,
          21,
          14,
          13,
          12,
          11,
          11,
          10,
          10,
          9,
          9,
          9,
          8
         ]
        }
       ],
       "layout": {
        "template": {
         "data": {
          "bar": [
           {
            "error_x": {
             "color": "#2a3f5f"
            },
            "error_y": {
             "color": "#2a3f5f"
            },
            "marker": {
             "line": {
              "color": "#E5ECF6",
              "width": 0.5
             }
            },
            "type": "bar"
           }
          ],
          "barpolar": [
           {
            "marker": {
             "line": {
              "color": "#E5ECF6",
              "width": 0.5
             }
            },
            "type": "barpolar"
           }
          ],
          "carpet": [
           {
            "aaxis": {
             "endlinecolor": "#2a3f5f",
             "gridcolor": "white",
             "linecolor": "white",
             "minorgridcolor": "white",
             "startlinecolor": "#2a3f5f"
            },
            "baxis": {
             "endlinecolor": "#2a3f5f",
             "gridcolor": "white",
             "linecolor": "white",
             "minorgridcolor": "white",
             "startlinecolor": "#2a3f5f"
            },
            "type": "carpet"
           }
          ],
          "choropleth": [
           {
            "colorbar": {
             "outlinewidth": 0,
             "ticks": ""
            },
            "type": "choropleth"
           }
          ],
          "contour": [
           {
            "colorbar": {
             "outlinewidth": 0,
             "ticks": ""
            },
            "colorscale": [
             [
              0,
              "#0d0887"
             ],
             [
              0.1111111111111111,
              "#46039f"
             ],
             [
              0.2222222222222222,
              "#7201a8"
             ],
             [
              0.3333333333333333,
              "#9c179e"
             ],
             [
              0.4444444444444444,
              "#bd3786"
             ],
             [
              0.5555555555555556,
              "#d8576b"
             ],
             [
              0.6666666666666666,
              "#ed7953"
             ],
             [
              0.7777777777777778,
              "#fb9f3a"
             ],
             [
              0.8888888888888888,
              "#fdca26"
             ],
             [
              1,
              "#f0f921"
             ]
            ],
            "type": "contour"
           }
          ],
          "contourcarpet": [
           {
            "colorbar": {
             "outlinewidth": 0,
             "ticks": ""
            },
            "type": "contourcarpet"
           }
          ],
          "heatmap": [
           {
            "colorbar": {
             "outlinewidth": 0,
             "ticks": ""
            },
            "colorscale": [
             [
              0,
              "#0d0887"
             ],
             [
              0.1111111111111111,
              "#46039f"
             ],
             [
              0.2222222222222222,
              "#7201a8"
             ],
             [
              0.3333333333333333,
              "#9c179e"
             ],
             [
              0.4444444444444444,
              "#bd3786"
             ],
             [
              0.5555555555555556,
              "#d8576b"
             ],
             [
              0.6666666666666666,
              "#ed7953"
             ],
             [
              0.7777777777777778,
              "#fb9f3a"
             ],
             [
              0.8888888888888888,
              "#fdca26"
             ],
             [
              1,
              "#f0f921"
             ]
            ],
            "type": "heatmap"
           }
          ],
          "heatmapgl": [
           {
            "colorbar": {
             "outlinewidth": 0,
             "ticks": ""
            },
            "colorscale": [
             [
              0,
              "#0d0887"
             ],
             [
              0.1111111111111111,
              "#46039f"
             ],
             [
              0.2222222222222222,
              "#7201a8"
             ],
             [
              0.3333333333333333,
              "#9c179e"
             ],
             [
              0.4444444444444444,
              "#bd3786"
             ],
             [
              0.5555555555555556,
              "#d8576b"
             ],
             [
              0.6666666666666666,
              "#ed7953"
             ],
             [
              0.7777777777777778,
              "#fb9f3a"
             ],
             [
              0.8888888888888888,
              "#fdca26"
             ],
             [
              1,
              "#f0f921"
             ]
            ],
            "type": "heatmapgl"
           }
          ],
          "histogram": [
           {
            "marker": {
             "colorbar": {
              "outlinewidth": 0,
              "ticks": ""
             }
            },
            "type": "histogram"
           }
          ],
          "histogram2d": [
           {
            "colorbar": {
             "outlinewidth": 0,
             "ticks": ""
            },
            "colorscale": [
             [
              0,
              "#0d0887"
             ],
             [
              0.1111111111111111,
              "#46039f"
             ],
             [
              0.2222222222222222,
              "#7201a8"
             ],
             [
              0.3333333333333333,
              "#9c179e"
             ],
             [
              0.4444444444444444,
              "#bd3786"
             ],
             [
              0.5555555555555556,
              "#d8576b"
             ],
             [
              0.6666666666666666,
              "#ed7953"
             ],
             [
              0.7777777777777778,
              "#fb9f3a"
             ],
             [
              0.8888888888888888,
              "#fdca26"
             ],
             [
              1,
              "#f0f921"
             ]
            ],
            "type": "histogram2d"
           }
          ],
          "histogram2dcontour": [
           {
            "colorbar": {
             "outlinewidth": 0,
             "ticks": ""
            },
            "colorscale": [
             [
              0,
              "#0d0887"
             ],
             [
              0.1111111111111111,
              "#46039f"
             ],
             [
              0.2222222222222222,
              "#7201a8"
             ],
             [
              0.3333333333333333,
              "#9c179e"
             ],
             [
              0.4444444444444444,
              "#bd3786"
             ],
             [
              0.5555555555555556,
              "#d8576b"
             ],
             [
              0.6666666666666666,
              "#ed7953"
             ],
             [
              0.7777777777777778,
              "#fb9f3a"
             ],
             [
              0.8888888888888888,
              "#fdca26"
             ],
             [
              1,
              "#f0f921"
             ]
            ],
            "type": "histogram2dcontour"
           }
          ],
          "mesh3d": [
           {
            "colorbar": {
             "outlinewidth": 0,
             "ticks": ""
            },
            "type": "mesh3d"
           }
          ],
          "parcoords": [
           {
            "line": {
             "colorbar": {
              "outlinewidth": 0,
              "ticks": ""
             }
            },
            "type": "parcoords"
           }
          ],
          "pie": [
           {
            "automargin": true,
            "type": "pie"
           }
          ],
          "scatter": [
           {
            "marker": {
             "colorbar": {
              "outlinewidth": 0,
              "ticks": ""
             }
            },
            "type": "scatter"
           }
          ],
          "scatter3d": [
           {
            "line": {
             "colorbar": {
              "outlinewidth": 0,
              "ticks": ""
             }
            },
            "marker": {
             "colorbar": {
              "outlinewidth": 0,
              "ticks": ""
             }
            },
            "type": "scatter3d"
           }
          ],
          "scattercarpet": [
           {
            "marker": {
             "colorbar": {
              "outlinewidth": 0,
              "ticks": ""
             }
            },
            "type": "scattercarpet"
           }
          ],
          "scattergeo": [
           {
            "marker": {
             "colorbar": {
              "outlinewidth": 0,
              "ticks": ""
             }
            },
            "type": "scattergeo"
           }
          ],
          "scattergl": [
           {
            "marker": {
             "colorbar": {
              "outlinewidth": 0,
              "ticks": ""
             }
            },
            "type": "scattergl"
           }
          ],
          "scattermapbox": [
           {
            "marker": {
             "colorbar": {
              "outlinewidth": 0,
              "ticks": ""
             }
            },
            "type": "scattermapbox"
           }
          ],
          "scatterpolar": [
           {
            "marker": {
             "colorbar": {
              "outlinewidth": 0,
              "ticks": ""
             }
            },
            "type": "scatterpolar"
           }
          ],
          "scatterpolargl": [
           {
            "marker": {
             "colorbar": {
              "outlinewidth": 0,
              "ticks": ""
             }
            },
            "type": "scatterpolargl"
           }
          ],
          "scatterternary": [
           {
            "marker": {
             "colorbar": {
              "outlinewidth": 0,
              "ticks": ""
             }
            },
            "type": "scatterternary"
           }
          ],
          "surface": [
           {
            "colorbar": {
             "outlinewidth": 0,
             "ticks": ""
            },
            "colorscale": [
             [
              0,
              "#0d0887"
             ],
             [
              0.1111111111111111,
              "#46039f"
             ],
             [
              0.2222222222222222,
              "#7201a8"
             ],
             [
              0.3333333333333333,
              "#9c179e"
             ],
             [
              0.4444444444444444,
              "#bd3786"
             ],
             [
              0.5555555555555556,
              "#d8576b"
             ],
             [
              0.6666666666666666,
              "#ed7953"
             ],
             [
              0.7777777777777778,
              "#fb9f3a"
             ],
             [
              0.8888888888888888,
              "#fdca26"
             ],
             [
              1,
              "#f0f921"
             ]
            ],
            "type": "surface"
           }
          ],
          "table": [
           {
            "cells": {
             "fill": {
              "color": "#EBF0F8"
             },
             "line": {
              "color": "white"
             }
            },
            "header": {
             "fill": {
              "color": "#C8D4E3"
             },
             "line": {
              "color": "white"
             }
            },
            "type": "table"
           }
          ]
         },
         "layout": {
          "annotationdefaults": {
           "arrowcolor": "#2a3f5f",
           "arrowhead": 0,
           "arrowwidth": 1
          },
          "coloraxis": {
           "colorbar": {
            "outlinewidth": 0,
            "ticks": ""
           }
          },
          "colorscale": {
           "diverging": [
            [
             0,
             "#8e0152"
            ],
            [
             0.1,
             "#c51b7d"
            ],
            [
             0.2,
             "#de77ae"
            ],
            [
             0.3,
             "#f1b6da"
            ],
            [
             0.4,
             "#fde0ef"
            ],
            [
             0.5,
             "#f7f7f7"
            ],
            [
             0.6,
             "#e6f5d0"
            ],
            [
             0.7,
             "#b8e186"
            ],
            [
             0.8,
             "#7fbc41"
            ],
            [
             0.9,
             "#4d9221"
            ],
            [
             1,
             "#276419"
            ]
           ],
           "sequential": [
            [
             0,
             "#0d0887"
            ],
            [
             0.1111111111111111,
             "#46039f"
            ],
            [
             0.2222222222222222,
             "#7201a8"
            ],
            [
             0.3333333333333333,
             "#9c179e"
            ],
            [
             0.4444444444444444,
             "#bd3786"
            ],
            [
             0.5555555555555556,
             "#d8576b"
            ],
            [
             0.6666666666666666,
             "#ed7953"
            ],
            [
             0.7777777777777778,
             "#fb9f3a"
            ],
            [
             0.8888888888888888,
             "#fdca26"
            ],
            [
             1,
             "#f0f921"
            ]
           ],
           "sequentialminus": [
            [
             0,
             "#0d0887"
            ],
            [
             0.1111111111111111,
             "#46039f"
            ],
            [
             0.2222222222222222,
             "#7201a8"
            ],
            [
             0.3333333333333333,
             "#9c179e"
            ],
            [
             0.4444444444444444,
             "#bd3786"
            ],
            [
             0.5555555555555556,
             "#d8576b"
            ],
            [
             0.6666666666666666,
             "#ed7953"
            ],
            [
             0.7777777777777778,
             "#fb9f3a"
            ],
            [
             0.8888888888888888,
             "#fdca26"
            ],
            [
             1,
             "#f0f921"
            ]
           ]
          },
          "colorway": [
           "#636efa",
           "#EF553B",
           "#00cc96",
           "#ab63fa",
           "#FFA15A",
           "#19d3f3",
           "#FF6692",
           "#B6E880",
           "#FF97FF",
           "#FECB52"
          ],
          "font": {
           "color": "#2a3f5f"
          },
          "geo": {
           "bgcolor": "white",
           "lakecolor": "white",
           "landcolor": "#E5ECF6",
           "showlakes": true,
           "showland": true,
           "subunitcolor": "white"
          },
          "hoverlabel": {
           "align": "left"
          },
          "hovermode": "closest",
          "mapbox": {
           "style": "light"
          },
          "paper_bgcolor": "white",
          "plot_bgcolor": "#E5ECF6",
          "polar": {
           "angularaxis": {
            "gridcolor": "white",
            "linecolor": "white",
            "ticks": ""
           },
           "bgcolor": "#E5ECF6",
           "radialaxis": {
            "gridcolor": "white",
            "linecolor": "white",
            "ticks": ""
           }
          },
          "scene": {
           "xaxis": {
            "backgroundcolor": "#E5ECF6",
            "gridcolor": "white",
            "gridwidth": 2,
            "linecolor": "white",
            "showbackground": true,
            "ticks": "",
            "zerolinecolor": "white"
           },
           "yaxis": {
            "backgroundcolor": "#E5ECF6",
            "gridcolor": "white",
            "gridwidth": 2,
            "linecolor": "white",
            "showbackground": true,
            "ticks": "",
            "zerolinecolor": "white"
           },
           "zaxis": {
            "backgroundcolor": "#E5ECF6",
            "gridcolor": "white",
            "gridwidth": 2,
            "linecolor": "white",
            "showbackground": true,
            "ticks": "",
            "zerolinecolor": "white"
           }
          },
          "shapedefaults": {
           "line": {
            "color": "#2a3f5f"
           }
          },
          "ternary": {
           "aaxis": {
            "gridcolor": "white",
            "linecolor": "white",
            "ticks": ""
           },
           "baxis": {
            "gridcolor": "white",
            "linecolor": "white",
            "ticks": ""
           },
           "bgcolor": "#E5ECF6",
           "caxis": {
            "gridcolor": "white",
            "linecolor": "white",
            "ticks": ""
           }
          },
          "title": {
           "x": 0.05
          },
          "xaxis": {
           "automargin": true,
           "gridcolor": "white",
           "linecolor": "white",
           "ticks": "",
           "title": {
            "standoff": 15
           },
           "zerolinecolor": "white",
           "zerolinewidth": 2
          },
          "yaxis": {
           "automargin": true,
           "gridcolor": "white",
           "linecolor": "white",
           "ticks": "",
           "title": {
            "standoff": 15
           },
           "zerolinecolor": "white",
           "zerolinewidth": 2
          }
         }
        }
       }
      },
      "text/html": [
       "<div>\n",
       "        \n",
       "        \n",
       "            <div id=\"0a9cd06c-44de-45d1-9565-cb14644d8197\" class=\"plotly-graph-div\" style=\"height:525px; width:100%;\"></div>\n",
       "            <script type=\"text/javascript\">\n",
       "                require([\"plotly\"], function(Plotly) {\n",
       "                    window.PLOTLYENV=window.PLOTLYENV || {};\n",
       "                    \n",
       "                if (document.getElementById(\"0a9cd06c-44de-45d1-9565-cb14644d8197\")) {\n",
       "                    Plotly.newPlot(\n",
       "                        '0a9cd06c-44de-45d1-9565-cb14644d8197',\n",
       "                        [{\"type\": \"bar\", \"x\": [\"Annabeth Chase/Percy Jackson\", \"Nico di Angelo/Will Solace\", \"Jason Grace/Piper McLean\", \"Hermione Granger/Ron Weasley\", \"Hazel Levesque/Frank Zhang\", \"Draco Malfoy/Harry Potter\", \"Harry Potter/Ginny Weasley\", \"Calypso/Leo Valdez\", \"Percy Jackson/Harry Potter\", \"Jason Grace/Percy Jackson\", \"Thalia Grace/Reyna Avila Ram\\u00edrez-Arellano\", \"Percy Jackson & Harry Potter\", \"Hermione Granger/Harry Potter\", \"Sirius Black/Remus Lupin\", \"Hermione Granger & Harry Potter & Ron Weasley\", \"Nico di Angelo/Harry Potter\", \"Luna Lovegood/Ginny Weasley\", \"James Potter/Lily Evans Potter\", \"Nico di Angelo/Percy Jackson\", \"Percy Jackson/Annabeth Chase\"], \"y\": [157, 84, 60, 56, 52, 36, 33, 32, 21, 14, 13, 12, 11, 11, 10, 10, 9, 9, 9, 8]}],\n",
       "                        {\"template\": {\"data\": {\"bar\": [{\"error_x\": {\"color\": \"#2a3f5f\"}, \"error_y\": {\"color\": \"#2a3f5f\"}, \"marker\": {\"line\": {\"color\": \"#E5ECF6\", \"width\": 0.5}}, \"type\": \"bar\"}], \"barpolar\": [{\"marker\": {\"line\": {\"color\": \"#E5ECF6\", \"width\": 0.5}}, \"type\": \"barpolar\"}], \"carpet\": [{\"aaxis\": {\"endlinecolor\": \"#2a3f5f\", \"gridcolor\": \"white\", \"linecolor\": \"white\", \"minorgridcolor\": \"white\", \"startlinecolor\": \"#2a3f5f\"}, \"baxis\": {\"endlinecolor\": \"#2a3f5f\", \"gridcolor\": \"white\", \"linecolor\": \"white\", \"minorgridcolor\": \"white\", \"startlinecolor\": \"#2a3f5f\"}, \"type\": \"carpet\"}], \"choropleth\": [{\"colorbar\": {\"outlinewidth\": 0, \"ticks\": \"\"}, \"type\": \"choropleth\"}], \"contour\": [{\"colorbar\": {\"outlinewidth\": 0, \"ticks\": \"\"}, \"colorscale\": [[0.0, \"#0d0887\"], [0.1111111111111111, \"#46039f\"], [0.2222222222222222, \"#7201a8\"], [0.3333333333333333, \"#9c179e\"], [0.4444444444444444, \"#bd3786\"], [0.5555555555555556, \"#d8576b\"], [0.6666666666666666, \"#ed7953\"], [0.7777777777777778, \"#fb9f3a\"], [0.8888888888888888, \"#fdca26\"], [1.0, \"#f0f921\"]], \"type\": \"contour\"}], \"contourcarpet\": [{\"colorbar\": {\"outlinewidth\": 0, \"ticks\": \"\"}, \"type\": \"contourcarpet\"}], \"heatmap\": [{\"colorbar\": {\"outlinewidth\": 0, \"ticks\": \"\"}, \"colorscale\": [[0.0, \"#0d0887\"], [0.1111111111111111, \"#46039f\"], [0.2222222222222222, \"#7201a8\"], [0.3333333333333333, \"#9c179e\"], [0.4444444444444444, \"#bd3786\"], [0.5555555555555556, \"#d8576b\"], [0.6666666666666666, \"#ed7953\"], [0.7777777777777778, \"#fb9f3a\"], [0.8888888888888888, \"#fdca26\"], [1.0, \"#f0f921\"]], \"type\": \"heatmap\"}], \"heatmapgl\": [{\"colorbar\": {\"outlinewidth\": 0, \"ticks\": \"\"}, \"colorscale\": [[0.0, \"#0d0887\"], [0.1111111111111111, \"#46039f\"], [0.2222222222222222, \"#7201a8\"], [0.3333333333333333, \"#9c179e\"], [0.4444444444444444, \"#bd3786\"], [0.5555555555555556, \"#d8576b\"], [0.6666666666666666, \"#ed7953\"], [0.7777777777777778, \"#fb9f3a\"], [0.8888888888888888, \"#fdca26\"], [1.0, \"#f0f921\"]], \"type\": \"heatmapgl\"}], \"histogram\": [{\"marker\": {\"colorbar\": {\"outlinewidth\": 0, \"ticks\": \"\"}}, \"type\": \"histogram\"}], \"histogram2d\": [{\"colorbar\": {\"outlinewidth\": 0, \"ticks\": \"\"}, \"colorscale\": [[0.0, \"#0d0887\"], [0.1111111111111111, \"#46039f\"], [0.2222222222222222, \"#7201a8\"], [0.3333333333333333, \"#9c179e\"], [0.4444444444444444, \"#bd3786\"], [0.5555555555555556, \"#d8576b\"], [0.6666666666666666, \"#ed7953\"], [0.7777777777777778, \"#fb9f3a\"], [0.8888888888888888, \"#fdca26\"], [1.0, \"#f0f921\"]], \"type\": \"histogram2d\"}], \"histogram2dcontour\": [{\"colorbar\": {\"outlinewidth\": 0, \"ticks\": \"\"}, \"colorscale\": [[0.0, \"#0d0887\"], [0.1111111111111111, \"#46039f\"], [0.2222222222222222, \"#7201a8\"], [0.3333333333333333, \"#9c179e\"], [0.4444444444444444, \"#bd3786\"], [0.5555555555555556, \"#d8576b\"], [0.6666666666666666, \"#ed7953\"], [0.7777777777777778, \"#fb9f3a\"], [0.8888888888888888, \"#fdca26\"], [1.0, \"#f0f921\"]], \"type\": \"histogram2dcontour\"}], \"mesh3d\": [{\"colorbar\": {\"outlinewidth\": 0, \"ticks\": \"\"}, \"type\": \"mesh3d\"}], \"parcoords\": [{\"line\": {\"colorbar\": {\"outlinewidth\": 0, \"ticks\": \"\"}}, \"type\": \"parcoords\"}], \"pie\": [{\"automargin\": true, \"type\": \"pie\"}], \"scatter\": [{\"marker\": {\"colorbar\": {\"outlinewidth\": 0, \"ticks\": \"\"}}, \"type\": \"scatter\"}], \"scatter3d\": [{\"line\": {\"colorbar\": {\"outlinewidth\": 0, \"ticks\": \"\"}}, \"marker\": {\"colorbar\": {\"outlinewidth\": 0, \"ticks\": \"\"}}, \"type\": \"scatter3d\"}], \"scattercarpet\": [{\"marker\": {\"colorbar\": {\"outlinewidth\": 0, \"ticks\": \"\"}}, \"type\": \"scattercarpet\"}], \"scattergeo\": [{\"marker\": {\"colorbar\": {\"outlinewidth\": 0, \"ticks\": \"\"}}, \"type\": \"scattergeo\"}], \"scattergl\": [{\"marker\": {\"colorbar\": {\"outlinewidth\": 0, \"ticks\": \"\"}}, \"type\": \"scattergl\"}], \"scattermapbox\": [{\"marker\": {\"colorbar\": {\"outlinewidth\": 0, \"ticks\": \"\"}}, \"type\": \"scattermapbox\"}], \"scatterpolar\": [{\"marker\": {\"colorbar\": {\"outlinewidth\": 0, \"ticks\": \"\"}}, \"type\": \"scatterpolar\"}], \"scatterpolargl\": [{\"marker\": {\"colorbar\": {\"outlinewidth\": 0, \"ticks\": \"\"}}, \"type\": \"scatterpolargl\"}], \"scatterternary\": [{\"marker\": {\"colorbar\": {\"outlinewidth\": 0, \"ticks\": \"\"}}, \"type\": \"scatterternary\"}], \"surface\": [{\"colorbar\": {\"outlinewidth\": 0, \"ticks\": \"\"}, \"colorscale\": [[0.0, \"#0d0887\"], [0.1111111111111111, \"#46039f\"], [0.2222222222222222, \"#7201a8\"], [0.3333333333333333, \"#9c179e\"], [0.4444444444444444, \"#bd3786\"], [0.5555555555555556, \"#d8576b\"], [0.6666666666666666, \"#ed7953\"], [0.7777777777777778, \"#fb9f3a\"], [0.8888888888888888, \"#fdca26\"], [1.0, \"#f0f921\"]], \"type\": \"surface\"}], \"table\": [{\"cells\": {\"fill\": {\"color\": \"#EBF0F8\"}, \"line\": {\"color\": \"white\"}}, \"header\": {\"fill\": {\"color\": \"#C8D4E3\"}, \"line\": {\"color\": \"white\"}}, \"type\": \"table\"}]}, \"layout\": {\"annotationdefaults\": {\"arrowcolor\": \"#2a3f5f\", \"arrowhead\": 0, \"arrowwidth\": 1}, \"coloraxis\": {\"colorbar\": {\"outlinewidth\": 0, \"ticks\": \"\"}}, \"colorscale\": {\"diverging\": [[0, \"#8e0152\"], [0.1, \"#c51b7d\"], [0.2, \"#de77ae\"], [0.3, \"#f1b6da\"], [0.4, \"#fde0ef\"], [0.5, \"#f7f7f7\"], [0.6, \"#e6f5d0\"], [0.7, \"#b8e186\"], [0.8, \"#7fbc41\"], [0.9, \"#4d9221\"], [1, \"#276419\"]], \"sequential\": [[0.0, \"#0d0887\"], [0.1111111111111111, \"#46039f\"], [0.2222222222222222, \"#7201a8\"], [0.3333333333333333, \"#9c179e\"], [0.4444444444444444, \"#bd3786\"], [0.5555555555555556, \"#d8576b\"], [0.6666666666666666, \"#ed7953\"], [0.7777777777777778, \"#fb9f3a\"], [0.8888888888888888, \"#fdca26\"], [1.0, \"#f0f921\"]], \"sequentialminus\": [[0.0, \"#0d0887\"], [0.1111111111111111, \"#46039f\"], [0.2222222222222222, \"#7201a8\"], [0.3333333333333333, \"#9c179e\"], [0.4444444444444444, \"#bd3786\"], [0.5555555555555556, \"#d8576b\"], [0.6666666666666666, \"#ed7953\"], [0.7777777777777778, \"#fb9f3a\"], [0.8888888888888888, \"#fdca26\"], [1.0, \"#f0f921\"]]}, \"colorway\": [\"#636efa\", \"#EF553B\", \"#00cc96\", \"#ab63fa\", \"#FFA15A\", \"#19d3f3\", \"#FF6692\", \"#B6E880\", \"#FF97FF\", \"#FECB52\"], \"font\": {\"color\": \"#2a3f5f\"}, \"geo\": {\"bgcolor\": \"white\", \"lakecolor\": \"white\", \"landcolor\": \"#E5ECF6\", \"showlakes\": true, \"showland\": true, \"subunitcolor\": \"white\"}, \"hoverlabel\": {\"align\": \"left\"}, \"hovermode\": \"closest\", \"mapbox\": {\"style\": \"light\"}, \"paper_bgcolor\": \"white\", \"plot_bgcolor\": \"#E5ECF6\", \"polar\": {\"angularaxis\": {\"gridcolor\": \"white\", \"linecolor\": \"white\", \"ticks\": \"\"}, \"bgcolor\": \"#E5ECF6\", \"radialaxis\": {\"gridcolor\": \"white\", \"linecolor\": \"white\", \"ticks\": \"\"}}, \"scene\": {\"xaxis\": {\"backgroundcolor\": \"#E5ECF6\", \"gridcolor\": \"white\", \"gridwidth\": 2, \"linecolor\": \"white\", \"showbackground\": true, \"ticks\": \"\", \"zerolinecolor\": \"white\"}, \"yaxis\": {\"backgroundcolor\": \"#E5ECF6\", \"gridcolor\": \"white\", \"gridwidth\": 2, \"linecolor\": \"white\", \"showbackground\": true, \"ticks\": \"\", \"zerolinecolor\": \"white\"}, \"zaxis\": {\"backgroundcolor\": \"#E5ECF6\", \"gridcolor\": \"white\", \"gridwidth\": 2, \"linecolor\": \"white\", \"showbackground\": true, \"ticks\": \"\", \"zerolinecolor\": \"white\"}}, \"shapedefaults\": {\"line\": {\"color\": \"#2a3f5f\"}}, \"ternary\": {\"aaxis\": {\"gridcolor\": \"white\", \"linecolor\": \"white\", \"ticks\": \"\"}, \"baxis\": {\"gridcolor\": \"white\", \"linecolor\": \"white\", \"ticks\": \"\"}, \"bgcolor\": \"#E5ECF6\", \"caxis\": {\"gridcolor\": \"white\", \"linecolor\": \"white\", \"ticks\": \"\"}}, \"title\": {\"x\": 0.05}, \"xaxis\": {\"automargin\": true, \"gridcolor\": \"white\", \"linecolor\": \"white\", \"ticks\": \"\", \"title\": {\"standoff\": 15}, \"zerolinecolor\": \"white\", \"zerolinewidth\": 2}, \"yaxis\": {\"automargin\": true, \"gridcolor\": \"white\", \"linecolor\": \"white\", \"ticks\": \"\", \"title\": {\"standoff\": 15}, \"zerolinecolor\": \"white\", \"zerolinewidth\": 2}}}},\n",
       "                        {\"responsive\": true}\n",
       "                    ).then(function(){\n",
       "                            \n",
       "var gd = document.getElementById('0a9cd06c-44de-45d1-9565-cb14644d8197');\n",
       "var x = new MutationObserver(function (mutations, observer) {{\n",
       "        var display = window.getComputedStyle(gd).display;\n",
       "        if (!display || display === 'none') {{\n",
       "            console.log([gd, 'removed!']);\n",
       "            Plotly.purge(gd);\n",
       "            observer.disconnect();\n",
       "        }}\n",
       "}});\n",
       "\n",
       "// Listen for the removal of the full notebook cells\n",
       "var notebookContainer = gd.closest('#notebook-container');\n",
       "if (notebookContainer) {{\n",
       "    x.observe(notebookContainer, {childList: true});\n",
       "}}\n",
       "\n",
       "// Listen for the clearing of the current output cell\n",
       "var outputEl = gd.closest('.output');\n",
       "if (outputEl) {{\n",
       "    x.observe(outputEl, {childList: true});\n",
       "}}\n",
       "\n",
       "                        })\n",
       "                };\n",
       "                });\n",
       "            </script>\n",
       "        </div>"
      ]
     },
     "metadata": {},
     "output_type": "display_data"
    }
   ],
   "source": [
    "co_r = get_frequency(\"Relationships\", \"co\")\n",
    "co_r = freq_graph(co_r, 20)\n",
    "co_r"
   ]
  },
  {
   "cell_type": "code",
   "execution_count": 38,
   "metadata": {},
   "outputs": [
    {
     "data": {
      "application/vnd.plotly.v1+json": {
       "config": {
        "plotlyServerURL": "https://plot.ly"
       },
       "data": [
        {
         "type": "bar",
         "x": [
          "Percy Jackson",
          "Harry Potter",
          "Hermione Granger",
          "Nico di Angelo",
          "Annabeth Chase",
          "Ron Weasley",
          "Jason Grace",
          "Draco Malfoy",
          "Piper McLean",
          "Leo Valdez",
          "Hazel Levesque",
          "Frank Zhang",
          "Will Solace",
          "Annabeth Chase (Percy Jackson)",
          "Albus Dumbledore",
          "Ginny Weasley",
          "Thalia Grace",
          "Sirius Black",
          "Luna Lovegood",
          "Severus Snape",
          "Chiron (Percy Jackson)",
          "Neville Longbottom",
          "Remus Lupin",
          "George Weasley",
          "Fred Weasley",
          "Minerva McGonagall",
          "Reyna Avila Ramírez-Arellano",
          "Tom Riddle | Voldemort",
          "Grover Underwood",
          "Luke Castellan",
          "Original Female Character(s)",
          "Hades (Percy Jackson)",
          "Poseidon (Percy Jackson)",
          "Sally Jackson",
          "Molly Weasley",
          "James Potter",
          "Clarisse La Rue",
          "Tony Stark",
          "Original Characters",
          "Zeus (Percy Jackson)"
         ],
         "y": [
          417,
          309,
          204,
          184,
          182,
          170,
          130,
          118,
          114,
          101,
          101,
          86,
          85,
          74,
          70,
          68,
          67,
          61,
          60,
          58,
          52,
          51,
          47,
          47,
          46,
          44,
          44,
          41,
          40,
          35,
          34,
          34,
          31,
          30,
          30,
          27,
          27,
          26,
          26,
          25
         ]
        }
       ],
       "layout": {
        "template": {
         "data": {
          "bar": [
           {
            "error_x": {
             "color": "#2a3f5f"
            },
            "error_y": {
             "color": "#2a3f5f"
            },
            "marker": {
             "line": {
              "color": "#E5ECF6",
              "width": 0.5
             }
            },
            "type": "bar"
           }
          ],
          "barpolar": [
           {
            "marker": {
             "line": {
              "color": "#E5ECF6",
              "width": 0.5
             }
            },
            "type": "barpolar"
           }
          ],
          "carpet": [
           {
            "aaxis": {
             "endlinecolor": "#2a3f5f",
             "gridcolor": "white",
             "linecolor": "white",
             "minorgridcolor": "white",
             "startlinecolor": "#2a3f5f"
            },
            "baxis": {
             "endlinecolor": "#2a3f5f",
             "gridcolor": "white",
             "linecolor": "white",
             "minorgridcolor": "white",
             "startlinecolor": "#2a3f5f"
            },
            "type": "carpet"
           }
          ],
          "choropleth": [
           {
            "colorbar": {
             "outlinewidth": 0,
             "ticks": ""
            },
            "type": "choropleth"
           }
          ],
          "contour": [
           {
            "colorbar": {
             "outlinewidth": 0,
             "ticks": ""
            },
            "colorscale": [
             [
              0,
              "#0d0887"
             ],
             [
              0.1111111111111111,
              "#46039f"
             ],
             [
              0.2222222222222222,
              "#7201a8"
             ],
             [
              0.3333333333333333,
              "#9c179e"
             ],
             [
              0.4444444444444444,
              "#bd3786"
             ],
             [
              0.5555555555555556,
              "#d8576b"
             ],
             [
              0.6666666666666666,
              "#ed7953"
             ],
             [
              0.7777777777777778,
              "#fb9f3a"
             ],
             [
              0.8888888888888888,
              "#fdca26"
             ],
             [
              1,
              "#f0f921"
             ]
            ],
            "type": "contour"
           }
          ],
          "contourcarpet": [
           {
            "colorbar": {
             "outlinewidth": 0,
             "ticks": ""
            },
            "type": "contourcarpet"
           }
          ],
          "heatmap": [
           {
            "colorbar": {
             "outlinewidth": 0,
             "ticks": ""
            },
            "colorscale": [
             [
              0,
              "#0d0887"
             ],
             [
              0.1111111111111111,
              "#46039f"
             ],
             [
              0.2222222222222222,
              "#7201a8"
             ],
             [
              0.3333333333333333,
              "#9c179e"
             ],
             [
              0.4444444444444444,
              "#bd3786"
             ],
             [
              0.5555555555555556,
              "#d8576b"
             ],
             [
              0.6666666666666666,
              "#ed7953"
             ],
             [
              0.7777777777777778,
              "#fb9f3a"
             ],
             [
              0.8888888888888888,
              "#fdca26"
             ],
             [
              1,
              "#f0f921"
             ]
            ],
            "type": "heatmap"
           }
          ],
          "heatmapgl": [
           {
            "colorbar": {
             "outlinewidth": 0,
             "ticks": ""
            },
            "colorscale": [
             [
              0,
              "#0d0887"
             ],
             [
              0.1111111111111111,
              "#46039f"
             ],
             [
              0.2222222222222222,
              "#7201a8"
             ],
             [
              0.3333333333333333,
              "#9c179e"
             ],
             [
              0.4444444444444444,
              "#bd3786"
             ],
             [
              0.5555555555555556,
              "#d8576b"
             ],
             [
              0.6666666666666666,
              "#ed7953"
             ],
             [
              0.7777777777777778,
              "#fb9f3a"
             ],
             [
              0.8888888888888888,
              "#fdca26"
             ],
             [
              1,
              "#f0f921"
             ]
            ],
            "type": "heatmapgl"
           }
          ],
          "histogram": [
           {
            "marker": {
             "colorbar": {
              "outlinewidth": 0,
              "ticks": ""
             }
            },
            "type": "histogram"
           }
          ],
          "histogram2d": [
           {
            "colorbar": {
             "outlinewidth": 0,
             "ticks": ""
            },
            "colorscale": [
             [
              0,
              "#0d0887"
             ],
             [
              0.1111111111111111,
              "#46039f"
             ],
             [
              0.2222222222222222,
              "#7201a8"
             ],
             [
              0.3333333333333333,
              "#9c179e"
             ],
             [
              0.4444444444444444,
              "#bd3786"
             ],
             [
              0.5555555555555556,
              "#d8576b"
             ],
             [
              0.6666666666666666,
              "#ed7953"
             ],
             [
              0.7777777777777778,
              "#fb9f3a"
             ],
             [
              0.8888888888888888,
              "#fdca26"
             ],
             [
              1,
              "#f0f921"
             ]
            ],
            "type": "histogram2d"
           }
          ],
          "histogram2dcontour": [
           {
            "colorbar": {
             "outlinewidth": 0,
             "ticks": ""
            },
            "colorscale": [
             [
              0,
              "#0d0887"
             ],
             [
              0.1111111111111111,
              "#46039f"
             ],
             [
              0.2222222222222222,
              "#7201a8"
             ],
             [
              0.3333333333333333,
              "#9c179e"
             ],
             [
              0.4444444444444444,
              "#bd3786"
             ],
             [
              0.5555555555555556,
              "#d8576b"
             ],
             [
              0.6666666666666666,
              "#ed7953"
             ],
             [
              0.7777777777777778,
              "#fb9f3a"
             ],
             [
              0.8888888888888888,
              "#fdca26"
             ],
             [
              1,
              "#f0f921"
             ]
            ],
            "type": "histogram2dcontour"
           }
          ],
          "mesh3d": [
           {
            "colorbar": {
             "outlinewidth": 0,
             "ticks": ""
            },
            "type": "mesh3d"
           }
          ],
          "parcoords": [
           {
            "line": {
             "colorbar": {
              "outlinewidth": 0,
              "ticks": ""
             }
            },
            "type": "parcoords"
           }
          ],
          "pie": [
           {
            "automargin": true,
            "type": "pie"
           }
          ],
          "scatter": [
           {
            "marker": {
             "colorbar": {
              "outlinewidth": 0,
              "ticks": ""
             }
            },
            "type": "scatter"
           }
          ],
          "scatter3d": [
           {
            "line": {
             "colorbar": {
              "outlinewidth": 0,
              "ticks": ""
             }
            },
            "marker": {
             "colorbar": {
              "outlinewidth": 0,
              "ticks": ""
             }
            },
            "type": "scatter3d"
           }
          ],
          "scattercarpet": [
           {
            "marker": {
             "colorbar": {
              "outlinewidth": 0,
              "ticks": ""
             }
            },
            "type": "scattercarpet"
           }
          ],
          "scattergeo": [
           {
            "marker": {
             "colorbar": {
              "outlinewidth": 0,
              "ticks": ""
             }
            },
            "type": "scattergeo"
           }
          ],
          "scattergl": [
           {
            "marker": {
             "colorbar": {
              "outlinewidth": 0,
              "ticks": ""
             }
            },
            "type": "scattergl"
           }
          ],
          "scattermapbox": [
           {
            "marker": {
             "colorbar": {
              "outlinewidth": 0,
              "ticks": ""
             }
            },
            "type": "scattermapbox"
           }
          ],
          "scatterpolar": [
           {
            "marker": {
             "colorbar": {
              "outlinewidth": 0,
              "ticks": ""
             }
            },
            "type": "scatterpolar"
           }
          ],
          "scatterpolargl": [
           {
            "marker": {
             "colorbar": {
              "outlinewidth": 0,
              "ticks": ""
             }
            },
            "type": "scatterpolargl"
           }
          ],
          "scatterternary": [
           {
            "marker": {
             "colorbar": {
              "outlinewidth": 0,
              "ticks": ""
             }
            },
            "type": "scatterternary"
           }
          ],
          "surface": [
           {
            "colorbar": {
             "outlinewidth": 0,
             "ticks": ""
            },
            "colorscale": [
             [
              0,
              "#0d0887"
             ],
             [
              0.1111111111111111,
              "#46039f"
             ],
             [
              0.2222222222222222,
              "#7201a8"
             ],
             [
              0.3333333333333333,
              "#9c179e"
             ],
             [
              0.4444444444444444,
              "#bd3786"
             ],
             [
              0.5555555555555556,
              "#d8576b"
             ],
             [
              0.6666666666666666,
              "#ed7953"
             ],
             [
              0.7777777777777778,
              "#fb9f3a"
             ],
             [
              0.8888888888888888,
              "#fdca26"
             ],
             [
              1,
              "#f0f921"
             ]
            ],
            "type": "surface"
           }
          ],
          "table": [
           {
            "cells": {
             "fill": {
              "color": "#EBF0F8"
             },
             "line": {
              "color": "white"
             }
            },
            "header": {
             "fill": {
              "color": "#C8D4E3"
             },
             "line": {
              "color": "white"
             }
            },
            "type": "table"
           }
          ]
         },
         "layout": {
          "annotationdefaults": {
           "arrowcolor": "#2a3f5f",
           "arrowhead": 0,
           "arrowwidth": 1
          },
          "coloraxis": {
           "colorbar": {
            "outlinewidth": 0,
            "ticks": ""
           }
          },
          "colorscale": {
           "diverging": [
            [
             0,
             "#8e0152"
            ],
            [
             0.1,
             "#c51b7d"
            ],
            [
             0.2,
             "#de77ae"
            ],
            [
             0.3,
             "#f1b6da"
            ],
            [
             0.4,
             "#fde0ef"
            ],
            [
             0.5,
             "#f7f7f7"
            ],
            [
             0.6,
             "#e6f5d0"
            ],
            [
             0.7,
             "#b8e186"
            ],
            [
             0.8,
             "#7fbc41"
            ],
            [
             0.9,
             "#4d9221"
            ],
            [
             1,
             "#276419"
            ]
           ],
           "sequential": [
            [
             0,
             "#0d0887"
            ],
            [
             0.1111111111111111,
             "#46039f"
            ],
            [
             0.2222222222222222,
             "#7201a8"
            ],
            [
             0.3333333333333333,
             "#9c179e"
            ],
            [
             0.4444444444444444,
             "#bd3786"
            ],
            [
             0.5555555555555556,
             "#d8576b"
            ],
            [
             0.6666666666666666,
             "#ed7953"
            ],
            [
             0.7777777777777778,
             "#fb9f3a"
            ],
            [
             0.8888888888888888,
             "#fdca26"
            ],
            [
             1,
             "#f0f921"
            ]
           ],
           "sequentialminus": [
            [
             0,
             "#0d0887"
            ],
            [
             0.1111111111111111,
             "#46039f"
            ],
            [
             0.2222222222222222,
             "#7201a8"
            ],
            [
             0.3333333333333333,
             "#9c179e"
            ],
            [
             0.4444444444444444,
             "#bd3786"
            ],
            [
             0.5555555555555556,
             "#d8576b"
            ],
            [
             0.6666666666666666,
             "#ed7953"
            ],
            [
             0.7777777777777778,
             "#fb9f3a"
            ],
            [
             0.8888888888888888,
             "#fdca26"
            ],
            [
             1,
             "#f0f921"
            ]
           ]
          },
          "colorway": [
           "#636efa",
           "#EF553B",
           "#00cc96",
           "#ab63fa",
           "#FFA15A",
           "#19d3f3",
           "#FF6692",
           "#B6E880",
           "#FF97FF",
           "#FECB52"
          ],
          "font": {
           "color": "#2a3f5f"
          },
          "geo": {
           "bgcolor": "white",
           "lakecolor": "white",
           "landcolor": "#E5ECF6",
           "showlakes": true,
           "showland": true,
           "subunitcolor": "white"
          },
          "hoverlabel": {
           "align": "left"
          },
          "hovermode": "closest",
          "mapbox": {
           "style": "light"
          },
          "paper_bgcolor": "white",
          "plot_bgcolor": "#E5ECF6",
          "polar": {
           "angularaxis": {
            "gridcolor": "white",
            "linecolor": "white",
            "ticks": ""
           },
           "bgcolor": "#E5ECF6",
           "radialaxis": {
            "gridcolor": "white",
            "linecolor": "white",
            "ticks": ""
           }
          },
          "scene": {
           "xaxis": {
            "backgroundcolor": "#E5ECF6",
            "gridcolor": "white",
            "gridwidth": 2,
            "linecolor": "white",
            "showbackground": true,
            "ticks": "",
            "zerolinecolor": "white"
           },
           "yaxis": {
            "backgroundcolor": "#E5ECF6",
            "gridcolor": "white",
            "gridwidth": 2,
            "linecolor": "white",
            "showbackground": true,
            "ticks": "",
            "zerolinecolor": "white"
           },
           "zaxis": {
            "backgroundcolor": "#E5ECF6",
            "gridcolor": "white",
            "gridwidth": 2,
            "linecolor": "white",
            "showbackground": true,
            "ticks": "",
            "zerolinecolor": "white"
           }
          },
          "shapedefaults": {
           "line": {
            "color": "#2a3f5f"
           }
          },
          "ternary": {
           "aaxis": {
            "gridcolor": "white",
            "linecolor": "white",
            "ticks": ""
           },
           "baxis": {
            "gridcolor": "white",
            "linecolor": "white",
            "ticks": ""
           },
           "bgcolor": "#E5ECF6",
           "caxis": {
            "gridcolor": "white",
            "linecolor": "white",
            "ticks": ""
           }
          },
          "title": {
           "x": 0.05
          },
          "xaxis": {
           "automargin": true,
           "gridcolor": "white",
           "linecolor": "white",
           "ticks": "",
           "title": {
            "standoff": 15
           },
           "zerolinecolor": "white",
           "zerolinewidth": 2
          },
          "yaxis": {
           "automargin": true,
           "gridcolor": "white",
           "linecolor": "white",
           "ticks": "",
           "title": {
            "standoff": 15
           },
           "zerolinecolor": "white",
           "zerolinewidth": 2
          }
         }
        }
       }
      },
      "text/html": [
       "<div>\n",
       "        \n",
       "        \n",
       "            <div id=\"5f12aa3d-8a41-495f-8825-45725ba289b4\" class=\"plotly-graph-div\" style=\"height:525px; width:100%;\"></div>\n",
       "            <script type=\"text/javascript\">\n",
       "                require([\"plotly\"], function(Plotly) {\n",
       "                    window.PLOTLYENV=window.PLOTLYENV || {};\n",
       "                    \n",
       "                if (document.getElementById(\"5f12aa3d-8a41-495f-8825-45725ba289b4\")) {\n",
       "                    Plotly.newPlot(\n",
       "                        '5f12aa3d-8a41-495f-8825-45725ba289b4',\n",
       "                        [{\"type\": \"bar\", \"x\": [\"Percy Jackson\", \"Harry Potter\", \"Hermione Granger\", \"Nico di Angelo\", \"Annabeth Chase\", \"Ron Weasley\", \"Jason Grace\", \"Draco Malfoy\", \"Piper McLean\", \"Leo Valdez\", \"Hazel Levesque\", \"Frank Zhang\", \"Will Solace\", \"Annabeth Chase (Percy Jackson)\", \"Albus Dumbledore\", \"Ginny Weasley\", \"Thalia Grace\", \"Sirius Black\", \"Luna Lovegood\", \"Severus Snape\", \"Chiron (Percy Jackson)\", \"Neville Longbottom\", \"Remus Lupin\", \"George Weasley\", \"Fred Weasley\", \"Minerva McGonagall\", \"Reyna Avila Ram\\u00edrez-Arellano\", \"Tom Riddle | Voldemort\", \"Grover Underwood\", \"Luke Castellan\", \"Original Female Character(s)\", \"Hades (Percy Jackson)\", \"Poseidon (Percy Jackson)\", \"Sally Jackson\", \"Molly Weasley\", \"James Potter\", \"Clarisse La Rue\", \"Tony Stark\", \"Original Characters\", \"Zeus (Percy Jackson)\"], \"y\": [417, 309, 204, 184, 182, 170, 130, 118, 114, 101, 101, 86, 85, 74, 70, 68, 67, 61, 60, 58, 52, 51, 47, 47, 46, 44, 44, 41, 40, 35, 34, 34, 31, 30, 30, 27, 27, 26, 26, 25]}],\n",
       "                        {\"template\": {\"data\": {\"bar\": [{\"error_x\": {\"color\": \"#2a3f5f\"}, \"error_y\": {\"color\": \"#2a3f5f\"}, \"marker\": {\"line\": {\"color\": \"#E5ECF6\", \"width\": 0.5}}, \"type\": \"bar\"}], \"barpolar\": [{\"marker\": {\"line\": {\"color\": \"#E5ECF6\", \"width\": 0.5}}, \"type\": \"barpolar\"}], \"carpet\": [{\"aaxis\": {\"endlinecolor\": \"#2a3f5f\", \"gridcolor\": \"white\", \"linecolor\": \"white\", \"minorgridcolor\": \"white\", \"startlinecolor\": \"#2a3f5f\"}, \"baxis\": {\"endlinecolor\": \"#2a3f5f\", \"gridcolor\": \"white\", \"linecolor\": \"white\", \"minorgridcolor\": \"white\", \"startlinecolor\": \"#2a3f5f\"}, \"type\": \"carpet\"}], \"choropleth\": [{\"colorbar\": {\"outlinewidth\": 0, \"ticks\": \"\"}, \"type\": \"choropleth\"}], \"contour\": [{\"colorbar\": {\"outlinewidth\": 0, \"ticks\": \"\"}, \"colorscale\": [[0.0, \"#0d0887\"], [0.1111111111111111, \"#46039f\"], [0.2222222222222222, \"#7201a8\"], [0.3333333333333333, \"#9c179e\"], [0.4444444444444444, \"#bd3786\"], [0.5555555555555556, \"#d8576b\"], [0.6666666666666666, \"#ed7953\"], [0.7777777777777778, \"#fb9f3a\"], [0.8888888888888888, \"#fdca26\"], [1.0, \"#f0f921\"]], \"type\": \"contour\"}], \"contourcarpet\": [{\"colorbar\": {\"outlinewidth\": 0, \"ticks\": \"\"}, \"type\": \"contourcarpet\"}], \"heatmap\": [{\"colorbar\": {\"outlinewidth\": 0, \"ticks\": \"\"}, \"colorscale\": [[0.0, \"#0d0887\"], [0.1111111111111111, \"#46039f\"], [0.2222222222222222, \"#7201a8\"], [0.3333333333333333, \"#9c179e\"], [0.4444444444444444, \"#bd3786\"], [0.5555555555555556, \"#d8576b\"], [0.6666666666666666, \"#ed7953\"], [0.7777777777777778, \"#fb9f3a\"], [0.8888888888888888, \"#fdca26\"], [1.0, \"#f0f921\"]], \"type\": \"heatmap\"}], \"heatmapgl\": [{\"colorbar\": {\"outlinewidth\": 0, \"ticks\": \"\"}, \"colorscale\": [[0.0, \"#0d0887\"], [0.1111111111111111, \"#46039f\"], [0.2222222222222222, \"#7201a8\"], [0.3333333333333333, \"#9c179e\"], [0.4444444444444444, \"#bd3786\"], [0.5555555555555556, \"#d8576b\"], [0.6666666666666666, \"#ed7953\"], [0.7777777777777778, \"#fb9f3a\"], [0.8888888888888888, \"#fdca26\"], [1.0, \"#f0f921\"]], \"type\": \"heatmapgl\"}], \"histogram\": [{\"marker\": {\"colorbar\": {\"outlinewidth\": 0, \"ticks\": \"\"}}, \"type\": \"histogram\"}], \"histogram2d\": [{\"colorbar\": {\"outlinewidth\": 0, \"ticks\": \"\"}, \"colorscale\": [[0.0, \"#0d0887\"], [0.1111111111111111, \"#46039f\"], [0.2222222222222222, \"#7201a8\"], [0.3333333333333333, \"#9c179e\"], [0.4444444444444444, \"#bd3786\"], [0.5555555555555556, \"#d8576b\"], [0.6666666666666666, \"#ed7953\"], [0.7777777777777778, \"#fb9f3a\"], [0.8888888888888888, \"#fdca26\"], [1.0, \"#f0f921\"]], \"type\": \"histogram2d\"}], \"histogram2dcontour\": [{\"colorbar\": {\"outlinewidth\": 0, \"ticks\": \"\"}, \"colorscale\": [[0.0, \"#0d0887\"], [0.1111111111111111, \"#46039f\"], [0.2222222222222222, \"#7201a8\"], [0.3333333333333333, \"#9c179e\"], [0.4444444444444444, \"#bd3786\"], [0.5555555555555556, \"#d8576b\"], [0.6666666666666666, \"#ed7953\"], [0.7777777777777778, \"#fb9f3a\"], [0.8888888888888888, \"#fdca26\"], [1.0, \"#f0f921\"]], \"type\": \"histogram2dcontour\"}], \"mesh3d\": [{\"colorbar\": {\"outlinewidth\": 0, \"ticks\": \"\"}, \"type\": \"mesh3d\"}], \"parcoords\": [{\"line\": {\"colorbar\": {\"outlinewidth\": 0, \"ticks\": \"\"}}, \"type\": \"parcoords\"}], \"pie\": [{\"automargin\": true, \"type\": \"pie\"}], \"scatter\": [{\"marker\": {\"colorbar\": {\"outlinewidth\": 0, \"ticks\": \"\"}}, \"type\": \"scatter\"}], \"scatter3d\": [{\"line\": {\"colorbar\": {\"outlinewidth\": 0, \"ticks\": \"\"}}, \"marker\": {\"colorbar\": {\"outlinewidth\": 0, \"ticks\": \"\"}}, \"type\": \"scatter3d\"}], \"scattercarpet\": [{\"marker\": {\"colorbar\": {\"outlinewidth\": 0, \"ticks\": \"\"}}, \"type\": \"scattercarpet\"}], \"scattergeo\": [{\"marker\": {\"colorbar\": {\"outlinewidth\": 0, \"ticks\": \"\"}}, \"type\": \"scattergeo\"}], \"scattergl\": [{\"marker\": {\"colorbar\": {\"outlinewidth\": 0, \"ticks\": \"\"}}, \"type\": \"scattergl\"}], \"scattermapbox\": [{\"marker\": {\"colorbar\": {\"outlinewidth\": 0, \"ticks\": \"\"}}, \"type\": \"scattermapbox\"}], \"scatterpolar\": [{\"marker\": {\"colorbar\": {\"outlinewidth\": 0, \"ticks\": \"\"}}, \"type\": \"scatterpolar\"}], \"scatterpolargl\": [{\"marker\": {\"colorbar\": {\"outlinewidth\": 0, \"ticks\": \"\"}}, \"type\": \"scatterpolargl\"}], \"scatterternary\": [{\"marker\": {\"colorbar\": {\"outlinewidth\": 0, \"ticks\": \"\"}}, \"type\": \"scatterternary\"}], \"surface\": [{\"colorbar\": {\"outlinewidth\": 0, \"ticks\": \"\"}, \"colorscale\": [[0.0, \"#0d0887\"], [0.1111111111111111, \"#46039f\"], [0.2222222222222222, \"#7201a8\"], [0.3333333333333333, \"#9c179e\"], [0.4444444444444444, \"#bd3786\"], [0.5555555555555556, \"#d8576b\"], [0.6666666666666666, \"#ed7953\"], [0.7777777777777778, \"#fb9f3a\"], [0.8888888888888888, \"#fdca26\"], [1.0, \"#f0f921\"]], \"type\": \"surface\"}], \"table\": [{\"cells\": {\"fill\": {\"color\": \"#EBF0F8\"}, \"line\": {\"color\": \"white\"}}, \"header\": {\"fill\": {\"color\": \"#C8D4E3\"}, \"line\": {\"color\": \"white\"}}, \"type\": \"table\"}]}, \"layout\": {\"annotationdefaults\": {\"arrowcolor\": \"#2a3f5f\", \"arrowhead\": 0, \"arrowwidth\": 1}, \"coloraxis\": {\"colorbar\": {\"outlinewidth\": 0, \"ticks\": \"\"}}, \"colorscale\": {\"diverging\": [[0, \"#8e0152\"], [0.1, \"#c51b7d\"], [0.2, \"#de77ae\"], [0.3, \"#f1b6da\"], [0.4, \"#fde0ef\"], [0.5, \"#f7f7f7\"], [0.6, \"#e6f5d0\"], [0.7, \"#b8e186\"], [0.8, \"#7fbc41\"], [0.9, \"#4d9221\"], [1, \"#276419\"]], \"sequential\": [[0.0, \"#0d0887\"], [0.1111111111111111, \"#46039f\"], [0.2222222222222222, \"#7201a8\"], [0.3333333333333333, \"#9c179e\"], [0.4444444444444444, \"#bd3786\"], [0.5555555555555556, \"#d8576b\"], [0.6666666666666666, \"#ed7953\"], [0.7777777777777778, \"#fb9f3a\"], [0.8888888888888888, \"#fdca26\"], [1.0, \"#f0f921\"]], \"sequentialminus\": [[0.0, \"#0d0887\"], [0.1111111111111111, \"#46039f\"], [0.2222222222222222, \"#7201a8\"], [0.3333333333333333, \"#9c179e\"], [0.4444444444444444, \"#bd3786\"], [0.5555555555555556, \"#d8576b\"], [0.6666666666666666, \"#ed7953\"], [0.7777777777777778, \"#fb9f3a\"], [0.8888888888888888, \"#fdca26\"], [1.0, \"#f0f921\"]]}, \"colorway\": [\"#636efa\", \"#EF553B\", \"#00cc96\", \"#ab63fa\", \"#FFA15A\", \"#19d3f3\", \"#FF6692\", \"#B6E880\", \"#FF97FF\", \"#FECB52\"], \"font\": {\"color\": \"#2a3f5f\"}, \"geo\": {\"bgcolor\": \"white\", \"lakecolor\": \"white\", \"landcolor\": \"#E5ECF6\", \"showlakes\": true, \"showland\": true, \"subunitcolor\": \"white\"}, \"hoverlabel\": {\"align\": \"left\"}, \"hovermode\": \"closest\", \"mapbox\": {\"style\": \"light\"}, \"paper_bgcolor\": \"white\", \"plot_bgcolor\": \"#E5ECF6\", \"polar\": {\"angularaxis\": {\"gridcolor\": \"white\", \"linecolor\": \"white\", \"ticks\": \"\"}, \"bgcolor\": \"#E5ECF6\", \"radialaxis\": {\"gridcolor\": \"white\", \"linecolor\": \"white\", \"ticks\": \"\"}}, \"scene\": {\"xaxis\": {\"backgroundcolor\": \"#E5ECF6\", \"gridcolor\": \"white\", \"gridwidth\": 2, \"linecolor\": \"white\", \"showbackground\": true, \"ticks\": \"\", \"zerolinecolor\": \"white\"}, \"yaxis\": {\"backgroundcolor\": \"#E5ECF6\", \"gridcolor\": \"white\", \"gridwidth\": 2, \"linecolor\": \"white\", \"showbackground\": true, \"ticks\": \"\", \"zerolinecolor\": \"white\"}, \"zaxis\": {\"backgroundcolor\": \"#E5ECF6\", \"gridcolor\": \"white\", \"gridwidth\": 2, \"linecolor\": \"white\", \"showbackground\": true, \"ticks\": \"\", \"zerolinecolor\": \"white\"}}, \"shapedefaults\": {\"line\": {\"color\": \"#2a3f5f\"}}, \"ternary\": {\"aaxis\": {\"gridcolor\": \"white\", \"linecolor\": \"white\", \"ticks\": \"\"}, \"baxis\": {\"gridcolor\": \"white\", \"linecolor\": \"white\", \"ticks\": \"\"}, \"bgcolor\": \"#E5ECF6\", \"caxis\": {\"gridcolor\": \"white\", \"linecolor\": \"white\", \"ticks\": \"\"}}, \"title\": {\"x\": 0.05}, \"xaxis\": {\"automargin\": true, \"gridcolor\": \"white\", \"linecolor\": \"white\", \"ticks\": \"\", \"title\": {\"standoff\": 15}, \"zerolinecolor\": \"white\", \"zerolinewidth\": 2}, \"yaxis\": {\"automargin\": true, \"gridcolor\": \"white\", \"linecolor\": \"white\", \"ticks\": \"\", \"title\": {\"standoff\": 15}, \"zerolinecolor\": \"white\", \"zerolinewidth\": 2}}}},\n",
       "                        {\"responsive\": true}\n",
       "                    ).then(function(){\n",
       "                            \n",
       "var gd = document.getElementById('5f12aa3d-8a41-495f-8825-45725ba289b4');\n",
       "var x = new MutationObserver(function (mutations, observer) {{\n",
       "        var display = window.getComputedStyle(gd).display;\n",
       "        if (!display || display === 'none') {{\n",
       "            console.log([gd, 'removed!']);\n",
       "            Plotly.purge(gd);\n",
       "            observer.disconnect();\n",
       "        }}\n",
       "}});\n",
       "\n",
       "// Listen for the removal of the full notebook cells\n",
       "var notebookContainer = gd.closest('#notebook-container');\n",
       "if (notebookContainer) {{\n",
       "    x.observe(notebookContainer, {childList: true});\n",
       "}}\n",
       "\n",
       "// Listen for the clearing of the current output cell\n",
       "var outputEl = gd.closest('.output');\n",
       "if (outputEl) {{\n",
       "    x.observe(outputEl, {childList: true});\n",
       "}}\n",
       "\n",
       "                        })\n",
       "                };\n",
       "                });\n",
       "            </script>\n",
       "        </div>"
      ]
     },
     "metadata": {},
     "output_type": "display_data"
    }
   ],
   "source": [
    "co_c = get_frequency(\"Characters\", \"co\")\n",
    "co_c_g = freq_graph(co_c, 40)\n",
    "co_c_g"
   ]
  },
  {
   "cell_type": "code",
   "execution_count": 8,
   "metadata": {},
   "outputs": [
    {
     "data": {
      "application/vnd.plotly.v1+json": {
       "config": {
        "plotlyServerURL": "https://plot.ly"
       },
       "data": [
        {
         "boxpoints": false,
         "name": "Crossover",
         "type": "box",
         "y": [
          "4659",
          "1629",
          "628",
          "76",
          "1425",
          "2387",
          "2011",
          "5807",
          "475",
          "2281",
          "462",
          "707",
          "12745",
          "7929",
          "3121",
          "20",
          "260",
          "1381",
          "319",
          "3770",
          "2939",
          "643",
          "1037",
          "2887",
          "164",
          "2172",
          "7398",
          "2507",
          "1098",
          "5007",
          "305",
          "1566",
          "992",
          "5833",
          "10786",
          "3550",
          "1298",
          "151",
          "700",
          "20719",
          "1789",
          "926",
          "15097",
          "13569",
          "564",
          "4168",
          "2240",
          "116",
          "138",
          "1295",
          "1896",
          "269",
          "3208",
          "1877",
          "4645",
          "3602",
          "512",
          "210",
          "789",
          "226",
          "585",
          "193",
          "2419",
          "1102",
          "259",
          "490",
          "6142",
          "1677",
          "1154",
          "733",
          "311",
          "688",
          "1919",
          "331",
          "64",
          "8176",
          "3819",
          "6881",
          "1117",
          "",
          "5294",
          "6738",
          "136",
          "2671",
          "1389",
          "620",
          "1868",
          "430",
          "1769",
          "1536",
          "1330",
          "776",
          "332",
          "916",
          "322",
          "62",
          "307",
          "512",
          "3808",
          "5498",
          "74",
          "234",
          "218",
          "1507",
          "133",
          "1558",
          "306",
          "421",
          "586",
          "13",
          "804",
          "3266",
          "1064",
          "430",
          "2244",
          "2111",
          "1941",
          "1465",
          "939",
          "2376",
          "2055",
          "1113",
          "556",
          "30",
          "306",
          "30",
          "717",
          "967",
          "3433",
          "4731",
          "5494",
          "369",
          "1041",
          "586",
          "314",
          "1546",
          "449",
          "2056",
          "1404",
          "1268",
          "82",
          "1985",
          "128",
          "1184",
          "4937",
          "694",
          "37",
          "528",
          "86",
          "673",
          "1127",
          "1004",
          "13521",
          "262",
          "2009",
          "210",
          "4737",
          "3483",
          "230",
          "1799",
          "1441",
          "333",
          "5073",
          "320",
          "201",
          "179",
          "152",
          "1180",
          "429",
          "74",
          "2130",
          "171",
          "1146",
          "3875",
          "212",
          "2979",
          "28",
          "3444",
          "2513",
          "923",
          "6259",
          "63",
          "253",
          "161",
          "1886",
          "183",
          "",
          "1275",
          "2901",
          "301",
          "428",
          "2352",
          "499",
          "2600",
          "348",
          "1646",
          "447",
          "277",
          "245",
          "1883",
          "2",
          "1254",
          "110",
          "48",
          "111",
          "2994",
          "1601",
          "138",
          "2613",
          "6889",
          "1059",
          "2108",
          "3720",
          "3639",
          "315",
          "32",
          "1478",
          "118",
          "1083",
          "1187",
          "1200",
          "685",
          "189",
          "483",
          "13022",
          "9800",
          "915",
          "119",
          "824",
          "117",
          "2415",
          "852",
          "458",
          "596",
          "2244",
          "1434",
          "3919",
          "258",
          "1242",
          "63",
          "143",
          "1561",
          "4602",
          "7749",
          "559",
          "407",
          "303",
          "761",
          "1583",
          "2331",
          "33",
          "189",
          "1072",
          "84",
          "94",
          "550",
          "155",
          "582",
          "1157",
          "176",
          "279",
          "320",
          "849",
          "9123",
          "10205",
          "1240",
          "240",
          "7247",
          "3103",
          "84",
          "683",
          "1525",
          "35",
          "111",
          "117",
          "1065",
          "78",
          "365",
          "38",
          "232",
          "267",
          "990",
          "219",
          "214",
          "84",
          "3010",
          "148",
          "382",
          "155",
          "305",
          "12764",
          "407",
          "156",
          "1780",
          "1425",
          "127",
          "3072",
          "137",
          "243",
          "91",
          "714",
          "1502",
          "2012",
          "419",
          "12420",
          "558",
          "294",
          "229",
          "17",
          "188",
          "193",
          "499",
          "946",
          "1641",
          "57",
          "67",
          "20990",
          "2236",
          "141",
          "297",
          "26",
          "777",
          "111",
          "1653",
          "319",
          "87",
          "129",
          "204",
          "204",
          "541",
          "449",
          "225",
          "48",
          "479",
          "483",
          "450",
          "6230",
          "3749",
          "469",
          "768",
          "27",
          "105",
          "1121",
          "2089",
          "4242",
          "162",
          "57",
          "83",
          "180",
          "7182",
          "142",
          "921",
          "3346",
          "1248",
          "739",
          "391",
          "263",
          "567",
          "779",
          "369",
          "134",
          "1267",
          "80",
          "177",
          "513",
          "666",
          "1369",
          "187",
          "121",
          "762",
          "624",
          "738",
          "641",
          "130",
          "181",
          "3551",
          "2824",
          "678",
          "566",
          "372",
          "153",
          "526",
          "676",
          "11664",
          "42",
          "547",
          "52",
          "2893",
          "264",
          "756",
          "860",
          "112",
          "87",
          "1022",
          "1413",
          "371",
          "1883",
          "1831",
          "336",
          "167",
          "370",
          "700",
          "44",
          "158",
          "468",
          "1416",
          "215",
          "677",
          "212",
          "620",
          "213",
          "642",
          "76",
          "13",
          "232",
          "719",
          "5",
          "1375",
          "105",
          "12402",
          "3513",
          "620",
          "491"
         ]
        },
        {
         "boxpoints": false,
         "name": "Percy Jackson",
         "type": "box",
         "y": [
          "128",
          "272",
          "102",
          "29",
          "17000",
          "1147",
          "2294",
          "1133",
          "63",
          "248",
          "224",
          "373",
          "330",
          "3403",
          "28943",
          "225",
          "150",
          "182",
          "98",
          "39",
          "4645",
          "2623",
          "19836",
          "51",
          "461",
          "2515",
          "189",
          "7253",
          "439",
          "1647",
          "249",
          "4585",
          "1843",
          "5178",
          "148",
          "5309",
          "69",
          "114",
          "2506",
          "704",
          "262",
          "312",
          "3829",
          "128",
          "630",
          "1068",
          "325",
          "142",
          "5085",
          "652",
          "9315",
          "414",
          "1727",
          "5533",
          "8244",
          "177",
          "2309",
          "135",
          "455",
          "76",
          "429",
          "191",
          "482",
          "3019",
          "453",
          "98",
          "634",
          "154",
          "730",
          "865",
          "139",
          "8577",
          "673",
          "6960",
          "277",
          "7620",
          "1310",
          "9946",
          "13781",
          "167",
          "244",
          "1249",
          "139",
          "475",
          "906",
          "173",
          "5989",
          "3666",
          "107",
          "1878",
          "1793",
          "2934",
          "2597",
          "2561",
          "41",
          "1314",
          "3863",
          "80",
          "307",
          "158",
          "1274",
          "357",
          "69",
          "980",
          "2073",
          "5511",
          "62",
          "4279",
          "926",
          "4384",
          "2455",
          "736",
          "54",
          "82",
          "1288",
          "2404",
          "277",
          "112",
          "130",
          "1089",
          "662",
          "1580",
          "425",
          "61",
          "112",
          "14128",
          "161",
          "294",
          "1963",
          "1025",
          "132",
          "393",
          "967",
          "3237",
          "2397",
          "809",
          "327",
          "67",
          "1240",
          "1447",
          "191",
          "4643",
          "3982",
          "330",
          "186",
          "70",
          "87",
          "201",
          "382",
          "6795",
          "244",
          "138",
          "Non",
          "303",
          "96",
          "222",
          "168",
          "5118",
          "1074",
          "235",
          "9480",
          "60",
          "71",
          "82",
          "489",
          "1523",
          "165",
          "5399",
          "406",
          "1151",
          "267",
          "331",
          "101",
          "413",
          "50",
          "252",
          "755",
          "182",
          "298",
          "4975",
          "120",
          "125",
          "256",
          "154",
          "181",
          "773",
          "210",
          "438",
          "5940",
          "281",
          "791",
          "165",
          "583",
          "105",
          "1225",
          "27",
          "50",
          "4883",
          "4575",
          "154",
          "1831",
          "194",
          "660",
          "131",
          "223",
          "672",
          "6249",
          "129",
          "7550",
          "2123",
          "11098",
          "93",
          "102",
          "173",
          "100",
          "288",
          "58",
          "68",
          "220",
          "1910",
          "313",
          "124",
          "74",
          "251",
          "109",
          "556",
          "239",
          "84",
          "311",
          "4618",
          "596",
          "55",
          "162",
          "57",
          "191",
          "144",
          "74",
          "117",
          "409",
          "218",
          "783",
          "75",
          "93",
          "448",
          "1485",
          "169",
          "489",
          "315",
          "490",
          "90",
          "249",
          "2906",
          "107",
          "88",
          "1540",
          "1710",
          "150",
          "958",
          "223",
          "363",
          "71",
          "209",
          "77",
          "1030",
          "51",
          "1920",
          "10735",
          "244",
          "4405",
          "154",
          "543",
          "100",
          "103",
          "366",
          "10768",
          "2013",
          "355",
          "87",
          "653",
          "650",
          "1478",
          "1490",
          "101",
          "249",
          "1588",
          "34",
          "44",
          "5362",
          "65",
          "265",
          "385",
          "554",
          "551",
          "447",
          "40",
          "127",
          "878",
          "123",
          "1553",
          "98",
          "305",
          "884",
          "24512",
          "40",
          "99",
          "2655",
          "1293",
          "306",
          "394",
          "2941",
          "4868",
          "1840",
          "21384",
          "355",
          "31",
          "8554",
          "356",
          "1356",
          "51",
          "68",
          "375",
          "375",
          "133",
          "41",
          "1566",
          "79",
          "329",
          "8685",
          "697",
          "369",
          "78",
          "713",
          "363",
          "329",
          "3178",
          "630",
          "3096",
          "2301",
          "593",
          "157",
          "180",
          "3461",
          "201",
          "127",
          "81",
          "959",
          "3254",
          "1577",
          "88",
          "110",
          "4418",
          "27",
          "165",
          "178",
          "290",
          "299",
          "10410",
          "62",
          "96",
          "5250",
          "27",
          "7310",
          "10215",
          "2842",
          "8462",
          "821",
          "517",
          "6258",
          "145",
          "560",
          "3267",
          "8176",
          "216",
          "891",
          "171",
          "169",
          "247",
          "275",
          "99",
          "1030",
          "2404",
          "68",
          "4098",
          "87",
          "380",
          "90",
          "425",
          "661",
          "274",
          "289",
          "1028",
          "4187",
          "2694",
          "415",
          "109",
          "131",
          "1590",
          "414",
          "253",
          "17",
          "193",
          "337",
          "218",
          "1172",
          "62",
          "333",
          "564",
          "868",
          "2088",
          "81",
          "3120",
          "3243",
          "297",
          "3063",
          "119",
          "37",
          "63",
          "140",
          "2296",
          "21029",
          "1352",
          "345",
          "3555",
          "2041",
          "249",
          "154",
          "537",
          "305",
          "90",
          "5016",
          "609",
          "124",
          "199",
          "214",
          "72",
          "625",
          "115",
          "284",
          "106",
          "432",
          "782",
          "2241",
          "1441",
          "48",
          "700",
          "60",
          "29",
          "91",
          "40",
          "89",
          "114",
          "432",
          "430",
          "56",
          "85",
          "1154",
          "433",
          "64",
          "215",
          "291",
          "1601",
          "238",
          "808",
          "210",
          "334",
          "76",
          "69",
          "22",
          "1296",
          "65",
          "10406",
          "535",
          "196",
          "18450",
          "174",
          "1288",
          "258",
          "438",
          "101",
          "291",
          "473",
          "116",
          "205",
          "1265",
          "258",
          "55",
          "178",
          "1745",
          "238",
          "201",
          "38",
          "15",
          "32",
          "478",
          "28",
          "524",
          "42",
          "488",
          "7630",
          "17",
          "96",
          "106",
          "562",
          "9116",
          "118",
          "150",
          "1916",
          "992",
          "223",
          "268",
          "171",
          "108",
          "795",
          "74",
          "815",
          "118",
          "166",
          "9739",
          "622",
          "299",
          "682",
          "1943",
          "51",
          "1182",
          "92",
          "41",
          "799",
          "109",
          "251",
          "407",
          "146",
          "74",
          "378",
          "162",
          "55",
          "1281",
          "777",
          "228",
          "463",
          "2666",
          "4210",
          "336",
          "67",
          "140",
          "601",
          "149",
          "214",
          "212",
          "5638",
          "110",
          "2299",
          "2172",
          "2032",
          "157",
          "115",
          "1730",
          "104",
          "129",
          "174",
          "281",
          "1465",
          "199",
          "109",
          "360",
          "552",
          "499",
          "101",
          "410",
          "41",
          "178",
          "1371",
          "268",
          "406",
          "49359",
          "128",
          "299",
          "3131",
          "3471",
          "144",
          "67",
          "81",
          "1178",
          "1129",
          "186",
          "260",
          "160",
          "45",
          "182",
          "323",
          "130",
          "126",
          "1111",
          "540",
          "964",
          "89",
          "473",
          "2353",
          "119",
          "218",
          "567",
          "2518",
          "244",
          "145",
          "62",
          "33",
          "963",
          "1907",
          "355",
          "180",
          "492",
          "69",
          "1160",
          "159",
          "145",
          "112",
          "313",
          "377",
          "56",
          "114",
          "100",
          "40",
          "608",
          "107",
          "3770",
          "227",
          "534",
          "67",
          "361",
          "101",
          "321",
          "156",
          "132",
          "2089",
          "83",
          "1599",
          "266",
          "127",
          "135",
          "2167",
          "12746",
          "163",
          "17924",
          "136",
          "150",
          "312",
          "3031",
          "101",
          "482",
          "243",
          "199",
          "236",
          "3098",
          "1092",
          "354",
          "92",
          "212",
          "2389",
          "56",
          "59",
          "56",
          "355",
          "1050",
          "3395",
          "471",
          "362",
          "690",
          "325",
          "31",
          "117",
          "958",
          "3582",
          "280",
          "1158",
          "168",
          "158",
          "85",
          "68",
          "209",
          "321",
          "32",
          "120",
          "175",
          "159",
          "119",
          "728",
          "9786",
          "1183",
          "139",
          "383",
          "612",
          "951",
          "500",
          "322",
          "477",
          "787",
          "1020",
          "454",
          "127",
          "293",
          "310",
          "779",
          "54",
          "105",
          "244",
          "745",
          "29236",
          "4144",
          "331",
          "136",
          "63",
          "804",
          "120",
          "105",
          "6747",
          "1481",
          "119",
          "98",
          "70",
          "134",
          "97",
          "17027",
          "131",
          "204",
          "277",
          "241",
          "884",
          "172",
          "3",
          "5459",
          "217",
          "416",
          "302",
          "165",
          "968",
          "117",
          "166",
          "402",
          "82",
          "92",
          "5611",
          "119",
          "165",
          "376",
          "1630",
          "566",
          "3496",
          "321",
          "125",
          "284",
          "41",
          "75",
          "533",
          "189",
          "320",
          "724",
          "86",
          "273",
          "46",
          "146",
          "103",
          "631",
          "1492",
          "4698",
          "87",
          "78",
          "333",
          "71",
          "27",
          "760",
          "497",
          "55",
          "659",
          "943",
          "520",
          "109",
          "215",
          "322",
          "186",
          "160",
          "439",
          "405",
          "90",
          "142",
          "381",
          "282",
          "354",
          "1467",
          "50",
          "200",
          "106",
          "155",
          "424",
          "125",
          "242",
          "39",
          "226",
          "197",
          "78",
          "4009",
          "6756",
          "463",
          "87",
          "405",
          "182",
          "3575",
          "645",
          "1244",
          "154",
          "1858",
          "216",
          "277",
          "674",
          "198",
          "1025",
          "2551",
          "356",
          "1384",
          "63",
          "372",
          "155",
          "1021",
          "50",
          "333",
          "419",
          "80",
          "128",
          "173",
          "1189",
          "5296",
          "310",
          "309",
          "763",
          "5480",
          "75",
          "142",
          "1487",
          "100",
          "456",
          "2415",
          "188",
          "120",
          "489",
          "920",
          "101",
          "175",
          "564",
          "32",
          "4035",
          "392",
          "69",
          "285",
          "871",
          "62",
          "115",
          "55",
          "104",
          "155",
          "82",
          "80",
          "154",
          "129",
          "154",
          "592",
          "123",
          "348",
          "568",
          "424",
          "1845",
          "127",
          "167",
          "268",
          "225",
          "1083",
          "9984",
          "63",
          "3652",
          "31",
          "144",
          "329",
          "133",
          "4940",
          "1578",
          "3356",
          "627",
          "205",
          "403",
          "92",
          "1476",
          "354",
          "574",
          "87",
          "240",
          "76",
          "124",
          "4200",
          "50",
          "170",
          "286",
          "416",
          "6144",
          "86",
          "33",
          "401",
          "402",
          "86",
          "51",
          "1298",
          "6084",
          "131",
          "82",
          "8674",
          "1102",
          "2762",
          "276",
          "156",
          "1243",
          "148",
          "1588",
          "186",
          "725",
          "124",
          "801",
          "68",
          "10312",
          "297",
          "222",
          "662",
          "129",
          "247",
          "323",
          "5688",
          "595",
          "57",
          "330",
          "1606",
          "246",
          "2887",
          "155",
          "78",
          "142",
          "3547",
          "83",
          "1566",
          "138",
          "164",
          "6470",
          "2463",
          "155",
          "151",
          "126",
          "2392",
          "35231",
          "4562",
          "119",
          "40",
          "130",
          "119",
          "11240",
          "121",
          "8642",
          "188",
          "212",
          "95",
          "52",
          "151",
          "1816",
          "2961",
          "236",
          "2728",
          "832",
          "85",
          "120",
          "60",
          "4864",
          "45",
          "68",
          "3",
          "1077",
          "1344",
          "35",
          "167",
          "897",
          "2195",
          "461",
          "5775",
          "51",
          "54",
          "231",
          "95",
          "300",
          "183",
          "200",
          "100",
          "121",
          "190",
          "423",
          "1862",
          "2521",
          "439",
          "247",
          "108",
          "214",
          "133",
          "517",
          "514",
          "97",
          "116",
          "188",
          "528",
          "353",
          "90",
          "722",
          "385",
          "44",
          "62",
          "151",
          "109",
          "1564",
          "133",
          "153",
          "307",
          "622",
          "856",
          "138",
          "141",
          "129",
          "173",
          "202",
          "460",
          "301",
          "236",
          "104",
          "101",
          "113",
          "195",
          "27",
          "259",
          "107",
          "100",
          "1241",
          "197",
          "1875",
          "69",
          "29",
          "279",
          "128",
          "263",
          "182",
          "1997",
          "164",
          "6757",
          "1011",
          "840",
          "522",
          "141",
          "277",
          "187",
          "418",
          "5502",
          "4636",
          "81",
          "119",
          "1159",
          "222",
          "115",
          "809",
          "91",
          "472",
          "108",
          "296",
          "76",
          "292",
          "123",
          "529",
          "7836",
          "45",
          "491",
          "9599",
          "1079",
          "78",
          "48",
          "119",
          "113",
          "53",
          "180",
          "86",
          "446",
          "224",
          "62",
          "140",
          "868",
          "1074",
          "202",
          "41",
          "164",
          "456",
          "890",
          "182",
          "299",
          "54",
          "1078",
          "745",
          "408",
          "112",
          "483",
          "584",
          "107",
          "50",
          "372",
          "Non",
          "172",
          "168",
          "138",
          "664",
          "104",
          "1051",
          "212",
          "54",
          "93",
          "43",
          "955",
          "183",
          "968",
          "91",
          "208",
          "350",
          "150",
          "88",
          "46",
          "16171",
          "202",
          "193",
          "88",
          "5098",
          "30",
          "106",
          "537",
          "1468",
          "167",
          "186",
          "676",
          "186",
          "276",
          "691",
          "228",
          "2163",
          "56",
          "1477",
          "74",
          "196",
          "101",
          "513",
          "87",
          "116",
          "214",
          "134",
          "951",
          "214",
          "3327",
          "210",
          "248",
          "52",
          "588",
          "1838",
          "4133",
          "1575",
          "119",
          "137",
          "164",
          "227",
          "310",
          "113",
          "321",
          "1816",
          "182",
          "237",
          "62",
          "723",
          "55",
          "497",
          "198",
          "5756",
          "2171",
          "208",
          "497",
          "145",
          "210",
          "1618",
          "1741",
          "70",
          "356",
          "8624",
          "702",
          "282",
          "64",
          "11",
          "342",
          "610",
          "1552",
          "1556",
          "256",
          "109",
          "81",
          "590",
          "192",
          "2286",
          "704",
          "130",
          "1024",
          "51",
          "78",
          "532",
          "62",
          "35",
          "494",
          "105",
          "865",
          "214",
          "649",
          "69",
          "478",
          "126",
          "14",
          "76",
          "1015",
          "963",
          "198",
          "141",
          "321",
          "157",
          "142",
          "268",
          "1212",
          "638",
          "216",
          "170",
          "2176",
          "72",
          "258",
          "148",
          "33",
          "6093",
          "8812",
          "521",
          "2825",
          "57",
          "2362",
          "884",
          "209",
          "501",
          "421",
          "814",
          "381",
          "149",
          "239",
          "57",
          "31",
          "76",
          "102",
          "524",
          "115",
          "81",
          "183",
          "173",
          "235",
          "100",
          "343",
          "393",
          "418",
          "2001",
          "198",
          "56",
          "139",
          "1581",
          "2283",
          "1239",
          "7378",
          "1405",
          "243",
          "941",
          "935",
          "79",
          "125",
          "884",
          "57",
          "122",
          "150",
          "273",
          "1629",
          "226",
          "362",
          "115",
          "675",
          "1274",
          "232",
          "159",
          "751",
          "908",
          "178",
          "274",
          "1226",
          "475",
          "3058",
          "1361",
          "56",
          "272",
          "175",
          "108",
          "9650",
          "200",
          "276",
          "166",
          "815",
          "176",
          "748",
          "1020",
          "1597",
          "178",
          "338",
          "207",
          "111",
          "58",
          "714",
          "3646",
          "178",
          "935",
          "663",
          "1643",
          "127",
          "58",
          "224",
          "661",
          "221",
          "1599",
          "161",
          "301",
          "2334",
          "7685",
          "112",
          "107",
          "80",
          "220",
          "355",
          "42",
          "171",
          "223",
          "317",
          "459",
          "1001",
          "17",
          "64",
          "55",
          "251",
          "508",
          "58",
          "629",
          "142",
          "178",
          "121",
          "63",
          "1323",
          "1087",
          "364",
          "1382",
          "227",
          "1552",
          "255",
          "2635",
          "2418",
          "241",
          "4104",
          "2251",
          "78",
          "1000",
          "425",
          "85",
          "182",
          "209",
          "102",
          "177",
          "575",
          "19",
          "23",
          "31",
          "1037",
          "64",
          "140",
          "206",
          "718",
          "103",
          "985",
          "213",
          "342",
          "226",
          "317",
          "165",
          "1108",
          "7327",
          "248",
          "216",
          "561",
          "100",
          "675",
          "2754",
          "186",
          "3170",
          "927",
          "1084",
          "276",
          "11373",
          "1293",
          "56",
          "190",
          "76",
          "106",
          "1036",
          "246",
          "340",
          "112",
          "213",
          "128",
          "82",
          "165",
          "2419",
          "370",
          "81",
          "110",
          "21",
          "1227",
          "56",
          "1384",
          "465",
          "1294",
          "200",
          "193",
          "884",
          "1182",
          "533",
          "259",
          "716",
          "77",
          "367",
          "186",
          "2391",
          "92",
          "373",
          "516",
          "28",
          "10",
          "109",
          "89",
          "53",
          "628",
          "1897",
          "159",
          "901",
          "172",
          "159",
          "133",
          "236",
          "1106",
          "132",
          "170",
          "1284",
          "2037",
          "79",
          "236",
          "85",
          "1131",
          "217",
          "176",
          "79",
          "125",
          "231",
          "617",
          "4534",
          "203",
          "5",
          "2723",
          "184",
          "157",
          "10",
          "75",
          "191",
          "90",
          "259",
          "274",
          "173",
          "123",
          "383",
          "165",
          "57",
          "1786",
          "61",
          "156",
          "346",
          "81",
          "152",
          "325",
          "105",
          "252",
          "256",
          "525",
          "1211",
          "163",
          "442",
          "2817",
          "259",
          "231",
          "367",
          "238",
          "74",
          "861",
          "68",
          "1520",
          "333",
          "133",
          "95",
          "52",
          "438",
          "278",
          "1607",
          "306",
          "148",
          "76",
          "1846",
          "107",
          "324",
          "148",
          "195",
          "1218",
          "3502",
          "305",
          "178",
          "302",
          "366",
          "2044",
          "577",
          "346",
          "91",
          "119",
          "814",
          "181",
          "1337",
          "307",
          "1899",
          "250",
          "48",
          "228",
          "217",
          "41137",
          "172",
          "30",
          "65",
          "584",
          "31",
          "71",
          "97",
          "1950",
          "603",
          "532",
          "195",
          "229",
          "14218",
          "149",
          "685",
          "54",
          "191",
          "128",
          "101",
          "318",
          "562",
          "101",
          "262",
          "113",
          "75",
          "5222",
          "315",
          "175",
          "109",
          "232",
          "62",
          "72",
          "1443",
          "380",
          "2944",
          "147",
          "96",
          "135",
          "1260",
          "4474",
          "69",
          "138",
          "48"
         ]
        },
        {
         "boxpoints": false,
         "name": "Harry Potter",
         "type": "box",
         "y": [
          "212",
          "128",
          "758",
          "766",
          "274",
          "691",
          "5435",
          "428",
          "175",
          "500",
          "12888",
          "1573",
          "1236",
          "8392",
          "1834",
          "193",
          "4213",
          "4927",
          "6526",
          "3234",
          "3108",
          "354",
          "206",
          "1378",
          "692",
          "704",
          "983",
          "22",
          "542",
          "3196",
          "1410",
          "6732",
          "318",
          "586",
          "1894",
          "1459",
          "2740",
          "7711",
          "360",
          "7924",
          "40",
          "483",
          "70",
          "64",
          "2212",
          "6225",
          "212",
          "983",
          "958",
          "487",
          "579",
          "1212",
          "2975",
          "479",
          "1391",
          "286",
          "3579",
          "1037",
          "7725",
          "966",
          "1240",
          "265",
          "1502",
          "8003",
          "2213",
          "4631",
          "128",
          "67",
          "4280",
          "102",
          "612",
          "717",
          "635",
          "11234",
          "66",
          "1073",
          "81",
          "515",
          "1662",
          "66",
          "4488",
          "2566",
          "872",
          "12996",
          "174",
          "11114",
          "231",
          "10067",
          "170",
          "7163",
          "344",
          "254",
          "1994",
          "2615",
          "2017",
          "2006",
          "2115",
          "261",
          "546",
          "251",
          "1003",
          "1451",
          "406",
          "4228",
          "501",
          "574",
          "1222",
          "754",
          "17887",
          "2259",
          "143",
          "5551",
          "5155",
          "967",
          "1531",
          "41",
          "174",
          "2847",
          "857",
          "2100",
          "231",
          "210",
          "463",
          "550",
          "506",
          "217",
          "384",
          "5884",
          "67",
          "169",
          "256",
          "32098",
          "415",
          "664",
          "81",
          "112",
          "280",
          "2285",
          "11341",
          "1072",
          "2252",
          "113",
          "316",
          "817",
          "259",
          "6863",
          "6684",
          "3194",
          "510",
          "556",
          "329",
          "41868",
          "355",
          "19163",
          "998",
          "2185",
          "2965",
          "7050",
          "1307",
          "1544",
          "1347",
          "388",
          "10225",
          "1700",
          "1505",
          "2029",
          "1947",
          "3502",
          "20",
          "177",
          "5045",
          "13",
          "3679",
          "17",
          "208",
          "1368",
          "389",
          "16",
          "1542",
          "1576",
          "2436",
          "2808",
          "25",
          "3978",
          "804",
          "467",
          "5427",
          "64",
          "169",
          "31",
          "11853",
          "1716",
          "519",
          "165",
          "17",
          "9308",
          "9841",
          "256",
          "3119",
          "602",
          "1056",
          "2078",
          "494",
          "3296",
          "276",
          "28",
          "2195",
          "5104",
          "298",
          "22421",
          "3504",
          "10",
          "283",
          "5853",
          "239",
          "7170",
          "8223",
          "3033",
          "70",
          "47",
          "137",
          "2077",
          "9750",
          "2019",
          "80",
          "689",
          "924",
          "1447",
          "214",
          "517",
          "5262",
          "4185",
          "578",
          "3867",
          "1586",
          "5118",
          "3672",
          "190",
          "56",
          "51",
          "490",
          "3025",
          "352",
          "2406",
          "180",
          "5041",
          "5042",
          "292",
          "3770",
          "5612",
          "330",
          "656",
          "158",
          "2341",
          "466",
          "300",
          "5234",
          "1239",
          "1813",
          "3747",
          "1783",
          "309",
          "510",
          "9141",
          "3387",
          "284",
          "1890",
          "512",
          "360",
          "14379",
          "1448",
          "387",
          "1705",
          "608",
          "920",
          "205",
          "1456",
          "17140",
          "272",
          "476",
          "2484",
          "5570",
          "730",
          "3577",
          "2168",
          "300",
          "214",
          "87",
          "263",
          "278",
          "1605",
          "4239",
          "2288",
          "320",
          "3906",
          "7377",
          "408",
          "542",
          "13410",
          "21075",
          "13166",
          "3074",
          "8444",
          "5162",
          "1021",
          "732",
          "567",
          "929",
          "4178",
          "1000",
          "406",
          "552",
          "3094",
          "47059",
          "1084",
          "729",
          "2837",
          "1724",
          "89",
          "412",
          "865",
          "2031",
          "1428",
          "157",
          "245",
          "326",
          "9310",
          "215",
          "9898",
          "2891",
          "4922",
          "227",
          "157",
          "22220",
          "1012",
          "278",
          "50",
          "254",
          "1574",
          "332",
          "192",
          "1186",
          "112",
          "62",
          "192",
          "461",
          "1322",
          "17389",
          "5236",
          "237",
          "1185",
          "168",
          "147",
          "133",
          "5214",
          "173",
          "101",
          "876",
          "2182",
          "15038",
          "11428",
          "234",
          "204",
          "769",
          "1054",
          "3054",
          "710",
          "825",
          "5745",
          "588",
          "190",
          "600",
          "7734",
          "1485",
          "2462",
          "2005",
          "7934",
          "364",
          "262",
          "244",
          "858",
          "3729",
          "252",
          "1354",
          "724",
          "189",
          "8123",
          "516",
          "222",
          "3546",
          "1780",
          "480",
          "55",
          "32161",
          "387",
          "295",
          "53",
          "521",
          "497",
          "601",
          "7566",
          "9556",
          "73",
          "1028",
          "358",
          "245",
          "578",
          "5200",
          "1125",
          "3215",
          "250",
          "196",
          "77",
          "3266",
          "302",
          "21146",
          "698",
          "194",
          "1150",
          "1092",
          "103",
          "7495",
          "180",
          "231",
          "423",
          "1775",
          "650",
          "875",
          "1572",
          "2453",
          "712",
          "347",
          "18308",
          "55",
          "7205",
          "1843",
          "2357",
          "232",
          "218",
          "500",
          "24963",
          "575",
          "435",
          "6644",
          "3735",
          "2726",
          "288",
          "169",
          "181",
          "998",
          "23",
          "2066",
          "648",
          "8641",
          "4243",
          "1732",
          "300",
          "3045",
          "2914",
          "3388",
          "928",
          "376",
          "3256",
          "1348",
          "14666",
          "233",
          "149",
          "258",
          "709",
          "478",
          "300",
          "94224",
          "1428",
          "1752",
          "1200",
          "12902",
          "1349",
          "840",
          "183",
          "278",
          "4610",
          "563",
          "193",
          "1657",
          "847",
          "1117",
          "800",
          "15395",
          "267",
          "131",
          "1447",
          "125",
          "427",
          "7384",
          "3014",
          "6946",
          "5287",
          "28",
          "1389",
          "365",
          "2048",
          "662",
          "",
          "27580",
          "30861",
          "277",
          "16717",
          "5144",
          "318",
          "9745",
          "1976",
          "87",
          "452",
          "2664",
          "5087",
          "2635",
          "11210",
          "27",
          "76",
          "1776",
          "12581",
          "119",
          "427",
          "1101",
          "3688",
          "138",
          "3822",
          "178",
          "88",
          "5509",
          "2222",
          "905",
          "794",
          "1071",
          "632",
          "722",
          "271",
          "71",
          "34057",
          "1124",
          "2700",
          "2476",
          "1928",
          "5297",
          "358",
          "10449",
          "4120",
          "243",
          "925",
          "255",
          "51",
          "4892",
          "5419",
          "589",
          "1101",
          "135",
          "222",
          "1415",
          "1820",
          "7821",
          "362",
          "66",
          "1746",
          "435",
          "5678",
          "1472",
          "368",
          "1496",
          "430",
          "426",
          "1323",
          "1480",
          "309",
          "1804",
          "559",
          "580",
          "208",
          "4731",
          "5591",
          "2442",
          "111",
          "1829",
          "6386",
          "61",
          "1375",
          "1365",
          "11415",
          "2136",
          "37",
          "431",
          "108",
          "57",
          "59",
          "964",
          "44657",
          "461",
          "252",
          "644",
          "526",
          "120",
          "818",
          "152",
          "833",
          "4324",
          "36",
          "7799",
          "32802",
          "4228",
          "1519",
          "181",
          "3709",
          "398",
          "319",
          "348",
          "204",
          "11921",
          "3147",
          "19467",
          "2388",
          "820",
          "3757",
          "1086",
          "392",
          "23264",
          "4533",
          "10",
          "800",
          "703",
          "18647",
          "450",
          "20",
          "1105",
          "2513",
          "551",
          "318",
          "777",
          "372",
          "7956",
          "1003",
          "9359",
          "5161",
          "266",
          "1698",
          "167",
          "3024",
          "277",
          "1305",
          "866",
          "1693",
          "5305",
          "4658",
          "Non",
          "3621",
          "2311",
          "2666",
          "348",
          "591",
          "536",
          "10933",
          "1981",
          "881",
          "1686",
          "6239",
          "4666",
          "842",
          "12242",
          "1533",
          "444",
          "255",
          "340",
          "592",
          "1038",
          "4665",
          "10548",
          "238",
          "487",
          "3561",
          "265",
          "122",
          "213",
          "114",
          "5792",
          "309",
          "328",
          "1049",
          "8",
          "1111",
          "160",
          "1225",
          "19575",
          "300",
          "7730",
          "703",
          "157",
          "2663",
          "3891",
          "40",
          "8491",
          "2645",
          "4141",
          "71",
          "361",
          "2791",
          "1048",
          "1130",
          "1881",
          "3749",
          "7103",
          "2091",
          "13919",
          "250",
          "853",
          "1409",
          "624",
          "2218",
          "1721",
          "1239",
          "4502",
          "823",
          "245",
          "116",
          "18907",
          "1461",
          "2476",
          "3044",
          "3517",
          "1359",
          "716",
          "2254",
          "1175",
          "7609",
          "1199",
          "2054",
          "119",
          "10588",
          "8958",
          "605",
          "13184",
          "475",
          "12939",
          "103",
          "1907",
          "2271",
          "566",
          "6143",
          "2327",
          "17890",
          "426",
          "172",
          "89",
          "392",
          "3801",
          "2732",
          "3990",
          "349",
          "12481",
          "42",
          "532",
          "2068",
          "316",
          "2077",
          "5962",
          "140",
          "50",
          "5510",
          "1726",
          "4743",
          "7678",
          "6356",
          "1791",
          "2046",
          "5193",
          "672",
          "609",
          "138",
          "1447",
          "849",
          "103",
          "7560",
          "547",
          "116",
          "155",
          "2325",
          "101",
          "2283",
          "17974",
          "1827",
          "59161",
          "3437",
          "51",
          "416",
          "671",
          "461",
          "1493",
          "149",
          "358",
          "3524",
          "1287",
          "320",
          "4342",
          "5077",
          "24573",
          "3724",
          "205",
          "1083",
          "1314",
          "753",
          "2465",
          "12313",
          "100",
          "735",
          "10806",
          "3612",
          "2187",
          "1044",
          "2610",
          "3908",
          "67",
          "11",
          "12320",
          "1026",
          "1147",
          "140",
          "5907",
          "203",
          "4648",
          "7882",
          "1716",
          "1024",
          "42",
          "2450",
          "2862",
          "1427",
          "1551",
          "192",
          "70",
          "144",
          "424",
          "2921",
          "274",
          "9245",
          "3154",
          "1821",
          "509",
          "4498",
          "139",
          "12436",
          "460",
          "4375",
          "190",
          "277",
          "584",
          "499",
          "2791",
          "218",
          "1606",
          "1787",
          "19",
          "3802",
          "4435",
          "582",
          "2555",
          "10029",
          "1248",
          "297",
          "117",
          "674",
          "165",
          "6161",
          "2631",
          "963",
          "306",
          "4511",
          "79",
          "911",
          "212",
          "869",
          "2715",
          "90",
          "141",
          "3895",
          "43",
          "708",
          "1307",
          "344",
          "327",
          "1641",
          "7667",
          "6521",
          "252",
          "21892",
          "8581",
          "1344",
          "406",
          "842",
          "2978",
          "61",
          "578",
          "2254",
          "443",
          "252",
          "152",
          "217",
          "118",
          "4210",
          "153",
          "692",
          "945",
          "243",
          "139",
          "1413",
          "16",
          "10",
          "110",
          "38",
          "3755",
          "4768",
          "8633",
          "",
          "97",
          "2563",
          "192",
          "34190",
          "8030",
          "5832",
          "160",
          "8395",
          "145",
          "895",
          "137",
          "163",
          "1621",
          "1239",
          "3685",
          "9",
          "1792",
          "2735",
          "1259",
          "206",
          "110",
          "349",
          "441",
          "4224",
          "8337",
          "374",
          "1585",
          "466",
          "2356",
          "826",
          "1351",
          "5261",
          "3745",
          "10",
          "45",
          "2594",
          "1705",
          "2349",
          "2419",
          "14400",
          "566",
          "7790",
          "3070",
          "12509",
          "1774",
          "7976",
          "1439",
          "9161",
          "163",
          "62",
          "307",
          "4079",
          "189",
          "390",
          "643",
          "80",
          "1587",
          "44687",
          "181",
          "520",
          "796",
          "121",
          "759",
          "216",
          "",
          "11017",
          "5848",
          "16885",
          "329",
          "181",
          "11585",
          "5229",
          "16051",
          "246",
          "2041",
          "2735",
          "1023",
          "2554",
          "3090",
          "3342",
          "3378",
          "12146",
          "1302",
          "259",
          "1123",
          "75",
          "7015",
          "13645",
          "5561",
          "5165",
          "2063",
          "21",
          "389",
          "3952",
          "286",
          "497",
          "119",
          "660",
          "2281",
          "3579",
          "49",
          "24",
          "1465",
          "123",
          "3980",
          "745",
          "110",
          "150",
          "628",
          "544",
          "3144",
          "155",
          "7449",
          "40399",
          "129",
          "147",
          "5309",
          "687",
          "106",
          "14813",
          "1928",
          "2102",
          "274",
          "1257",
          "13",
          "1584",
          "5711",
          "801",
          "831",
          "1354",
          "8321",
          "909",
          "2570",
          "307",
          "1209",
          "498",
          "186",
          "141",
          "6154",
          "926",
          "2095",
          "1067",
          "9966",
          "2118",
          "1367",
          "151",
          "222",
          "43",
          "23767",
          "560",
          "125",
          "1419",
          "194",
          "1580",
          "189",
          "1502",
          "477",
          "7628",
          "4542",
          "248",
          "3292",
          "700",
          "367",
          "2353",
          "38",
          "368",
          "965",
          "2447",
          "19475",
          "87",
          "1095",
          "854",
          "727",
          "252",
          "19712",
          "87",
          "5810",
          "321",
          "127",
          "11604",
          "28290",
          "434",
          "268",
          "14679",
          "79",
          "4399",
          "111",
          "1914",
          "255",
          "882",
          "9545",
          "316",
          "2365",
          "139",
          "4940",
          "1810",
          "1655",
          "2182",
          "1667",
          "892",
          "378",
          "4452",
          "789",
          "175",
          "13149",
          "1827",
          "21031",
          "2360",
          "394",
          "149",
          "8385",
          "4317",
          "6337",
          "249",
          "6736",
          "4731",
          "406",
          "8398",
          "577",
          "2293",
          "85",
          "26",
          "3689",
          "5396",
          "2786",
          "9337",
          "131",
          "85",
          "1036",
          "237",
          "164",
          "2271",
          "4362",
          "7056",
          "4008",
          "2346",
          "315",
          "666",
          "204",
          "521",
          "1857",
          "4125",
          "598",
          "539",
          "1933",
          "8205",
          "4196",
          "352",
          "1692",
          "3512",
          "7522",
          "11478",
          "4938",
          "2884",
          "163",
          "2460",
          "2196",
          "27",
          "951",
          "343",
          "9717",
          "529",
          "347",
          "1942",
          "512",
          "934",
          "2024",
          "910",
          "671",
          "12775",
          "1589",
          "105",
          "1179",
          "327",
          "188",
          "701",
          "304",
          "1491",
          "46",
          "97",
          "978",
          "132",
          "2113",
          "10",
          "5367",
          "601",
          "1508",
          "801",
          "4557",
          "140",
          "2300",
          "543",
          "10",
          "5396",
          "237",
          "316",
          "10109",
          "154",
          "10319",
          "248",
          "437",
          "8682",
          "5987",
          "4828",
          "1441",
          "62",
          "301",
          "2777",
          "4168",
          "31131",
          "826",
          "369",
          "",
          "610",
          "63555",
          "562",
          "34",
          "402",
          "30378",
          "4271",
          "259",
          "2932",
          "6737",
          "261",
          "16126",
          "30",
          "52",
          "1118",
          "10352",
          "104",
          "150",
          "931",
          "656",
          "551",
          "439",
          "1609",
          "52",
          "1442",
          "417",
          "4728",
          "402",
          "33",
          "3936",
          "415",
          "2283",
          "419",
          "2988",
          "1695",
          "1558",
          "4133",
          "706",
          "1116",
          "1443",
          "802",
          "9563",
          "5079",
          "2196",
          "165",
          "5094",
          "288",
          "480",
          "",
          "654",
          "105",
          "22036",
          "426",
          "11016",
          "5403",
          "18199",
          "1187",
          "39",
          "4701",
          "621",
          "7110",
          "2118",
          "480",
          "498",
          "2804",
          "415",
          "426",
          "624",
          "9549",
          "3351",
          "1030",
          "23159",
          "160",
          "915",
          "484",
          "150",
          "3027",
          "162",
          "4050",
          "354",
          "3638",
          "259",
          "90",
          "449",
          "540",
          "1104",
          "",
          "84",
          "2407",
          "68",
          "287",
          "1",
          "449",
          "373",
          "107",
          "1209",
          "367",
          "979",
          "360",
          "230",
          "113",
          "1955",
          "561",
          "249",
          "184",
          "329",
          "12091",
          "5943",
          "3513",
          "687",
          "219",
          "102",
          "6767",
          "11292",
          "31",
          "5553",
          "2019",
          "4374",
          "190",
          "8647",
          "884",
          "33",
          "2104",
          "7097",
          "1242",
          "869",
          "7952",
          "133",
          "209",
          "3624",
          "363",
          "135",
          "626",
          "158",
          "3052",
          "19360",
          "209",
          "575",
          "738",
          "5584",
          "321",
          "256",
          "10588",
          "15881",
          "139",
          "326",
          "11988",
          "2745",
          "300",
          "1095",
          "3674",
          "1221",
          "1673",
          "493",
          "1299",
          "287",
          "2335",
          "726",
          "15686",
          "499",
          "26",
          "7613",
          "568",
          "7",
          "895",
          "779",
          "3399",
          "7887",
          "3379",
          "13",
          "51",
          "834",
          "29647",
          "1437",
          "8416",
          "579",
          "6372",
          "10",
          "572",
          "399",
          "696",
          "2487",
          "4905",
          "86",
          "2437",
          "271",
          "2179",
          "885",
          "699",
          "3921",
          "545",
          "1708",
          "141",
          "884",
          "530",
          "1762",
          "1102",
          "59",
          "10054",
          "4155",
          "2567",
          "62",
          "1165",
          "13231",
          "10181",
          "16420",
          "6901",
          "74",
          "2031",
          "2143",
          "137",
          "3711",
          "564",
          "701",
          "1540",
          "1446",
          "223",
          "1121",
          "3651",
          "518",
          "1524",
          "3597",
          "14956",
          "586",
          "142",
          "144",
          "1626",
          "128",
          "1546",
          "101",
          "766",
          "6557",
          "683",
          "428",
          "",
          "5024",
          "209",
          "602",
          "6811",
          "1044",
          "3749",
          "463",
          "10",
          "197",
          "18800",
          "215",
          "68",
          "2456",
          "242",
          "458",
          "3698",
          "46813",
          "3021",
          "1535",
          "3989",
          "11864",
          "766",
          "481",
          "519",
          "21",
          "2403",
          "4550",
          "170",
          "6475",
          "10",
          "1243",
          "134",
          "215",
          "497",
          "1485",
          "25257",
          "784",
          "1227",
          "48",
          "14167",
          "30",
          "175",
          "4617",
          "418",
          "3858",
          "99",
          "1092",
          "1470",
          "12",
          "2408",
          "394",
          "698",
          "465",
          "35",
          "840",
          "11"
         ]
        }
       ],
       "layout": {
        "template": {
         "data": {
          "bar": [
           {
            "error_x": {
             "color": "#2a3f5f"
            },
            "error_y": {
             "color": "#2a3f5f"
            },
            "marker": {
             "line": {
              "color": "#E5ECF6",
              "width": 0.5
             }
            },
            "type": "bar"
           }
          ],
          "barpolar": [
           {
            "marker": {
             "line": {
              "color": "#E5ECF6",
              "width": 0.5
             }
            },
            "type": "barpolar"
           }
          ],
          "carpet": [
           {
            "aaxis": {
             "endlinecolor": "#2a3f5f",
             "gridcolor": "white",
             "linecolor": "white",
             "minorgridcolor": "white",
             "startlinecolor": "#2a3f5f"
            },
            "baxis": {
             "endlinecolor": "#2a3f5f",
             "gridcolor": "white",
             "linecolor": "white",
             "minorgridcolor": "white",
             "startlinecolor": "#2a3f5f"
            },
            "type": "carpet"
           }
          ],
          "choropleth": [
           {
            "colorbar": {
             "outlinewidth": 0,
             "ticks": ""
            },
            "type": "choropleth"
           }
          ],
          "contour": [
           {
            "colorbar": {
             "outlinewidth": 0,
             "ticks": ""
            },
            "colorscale": [
             [
              0,
              "#0d0887"
             ],
             [
              0.1111111111111111,
              "#46039f"
             ],
             [
              0.2222222222222222,
              "#7201a8"
             ],
             [
              0.3333333333333333,
              "#9c179e"
             ],
             [
              0.4444444444444444,
              "#bd3786"
             ],
             [
              0.5555555555555556,
              "#d8576b"
             ],
             [
              0.6666666666666666,
              "#ed7953"
             ],
             [
              0.7777777777777778,
              "#fb9f3a"
             ],
             [
              0.8888888888888888,
              "#fdca26"
             ],
             [
              1,
              "#f0f921"
             ]
            ],
            "type": "contour"
           }
          ],
          "contourcarpet": [
           {
            "colorbar": {
             "outlinewidth": 0,
             "ticks": ""
            },
            "type": "contourcarpet"
           }
          ],
          "heatmap": [
           {
            "colorbar": {
             "outlinewidth": 0,
             "ticks": ""
            },
            "colorscale": [
             [
              0,
              "#0d0887"
             ],
             [
              0.1111111111111111,
              "#46039f"
             ],
             [
              0.2222222222222222,
              "#7201a8"
             ],
             [
              0.3333333333333333,
              "#9c179e"
             ],
             [
              0.4444444444444444,
              "#bd3786"
             ],
             [
              0.5555555555555556,
              "#d8576b"
             ],
             [
              0.6666666666666666,
              "#ed7953"
             ],
             [
              0.7777777777777778,
              "#fb9f3a"
             ],
             [
              0.8888888888888888,
              "#fdca26"
             ],
             [
              1,
              "#f0f921"
             ]
            ],
            "type": "heatmap"
           }
          ],
          "heatmapgl": [
           {
            "colorbar": {
             "outlinewidth": 0,
             "ticks": ""
            },
            "colorscale": [
             [
              0,
              "#0d0887"
             ],
             [
              0.1111111111111111,
              "#46039f"
             ],
             [
              0.2222222222222222,
              "#7201a8"
             ],
             [
              0.3333333333333333,
              "#9c179e"
             ],
             [
              0.4444444444444444,
              "#bd3786"
             ],
             [
              0.5555555555555556,
              "#d8576b"
             ],
             [
              0.6666666666666666,
              "#ed7953"
             ],
             [
              0.7777777777777778,
              "#fb9f3a"
             ],
             [
              0.8888888888888888,
              "#fdca26"
             ],
             [
              1,
              "#f0f921"
             ]
            ],
            "type": "heatmapgl"
           }
          ],
          "histogram": [
           {
            "marker": {
             "colorbar": {
              "outlinewidth": 0,
              "ticks": ""
             }
            },
            "type": "histogram"
           }
          ],
          "histogram2d": [
           {
            "colorbar": {
             "outlinewidth": 0,
             "ticks": ""
            },
            "colorscale": [
             [
              0,
              "#0d0887"
             ],
             [
              0.1111111111111111,
              "#46039f"
             ],
             [
              0.2222222222222222,
              "#7201a8"
             ],
             [
              0.3333333333333333,
              "#9c179e"
             ],
             [
              0.4444444444444444,
              "#bd3786"
             ],
             [
              0.5555555555555556,
              "#d8576b"
             ],
             [
              0.6666666666666666,
              "#ed7953"
             ],
             [
              0.7777777777777778,
              "#fb9f3a"
             ],
             [
              0.8888888888888888,
              "#fdca26"
             ],
             [
              1,
              "#f0f921"
             ]
            ],
            "type": "histogram2d"
           }
          ],
          "histogram2dcontour": [
           {
            "colorbar": {
             "outlinewidth": 0,
             "ticks": ""
            },
            "colorscale": [
             [
              0,
              "#0d0887"
             ],
             [
              0.1111111111111111,
              "#46039f"
             ],
             [
              0.2222222222222222,
              "#7201a8"
             ],
             [
              0.3333333333333333,
              "#9c179e"
             ],
             [
              0.4444444444444444,
              "#bd3786"
             ],
             [
              0.5555555555555556,
              "#d8576b"
             ],
             [
              0.6666666666666666,
              "#ed7953"
             ],
             [
              0.7777777777777778,
              "#fb9f3a"
             ],
             [
              0.8888888888888888,
              "#fdca26"
             ],
             [
              1,
              "#f0f921"
             ]
            ],
            "type": "histogram2dcontour"
           }
          ],
          "mesh3d": [
           {
            "colorbar": {
             "outlinewidth": 0,
             "ticks": ""
            },
            "type": "mesh3d"
           }
          ],
          "parcoords": [
           {
            "line": {
             "colorbar": {
              "outlinewidth": 0,
              "ticks": ""
             }
            },
            "type": "parcoords"
           }
          ],
          "pie": [
           {
            "automargin": true,
            "type": "pie"
           }
          ],
          "scatter": [
           {
            "marker": {
             "colorbar": {
              "outlinewidth": 0,
              "ticks": ""
             }
            },
            "type": "scatter"
           }
          ],
          "scatter3d": [
           {
            "line": {
             "colorbar": {
              "outlinewidth": 0,
              "ticks": ""
             }
            },
            "marker": {
             "colorbar": {
              "outlinewidth": 0,
              "ticks": ""
             }
            },
            "type": "scatter3d"
           }
          ],
          "scattercarpet": [
           {
            "marker": {
             "colorbar": {
              "outlinewidth": 0,
              "ticks": ""
             }
            },
            "type": "scattercarpet"
           }
          ],
          "scattergeo": [
           {
            "marker": {
             "colorbar": {
              "outlinewidth": 0,
              "ticks": ""
             }
            },
            "type": "scattergeo"
           }
          ],
          "scattergl": [
           {
            "marker": {
             "colorbar": {
              "outlinewidth": 0,
              "ticks": ""
             }
            },
            "type": "scattergl"
           }
          ],
          "scattermapbox": [
           {
            "marker": {
             "colorbar": {
              "outlinewidth": 0,
              "ticks": ""
             }
            },
            "type": "scattermapbox"
           }
          ],
          "scatterpolar": [
           {
            "marker": {
             "colorbar": {
              "outlinewidth": 0,
              "ticks": ""
             }
            },
            "type": "scatterpolar"
           }
          ],
          "scatterpolargl": [
           {
            "marker": {
             "colorbar": {
              "outlinewidth": 0,
              "ticks": ""
             }
            },
            "type": "scatterpolargl"
           }
          ],
          "scatterternary": [
           {
            "marker": {
             "colorbar": {
              "outlinewidth": 0,
              "ticks": ""
             }
            },
            "type": "scatterternary"
           }
          ],
          "surface": [
           {
            "colorbar": {
             "outlinewidth": 0,
             "ticks": ""
            },
            "colorscale": [
             [
              0,
              "#0d0887"
             ],
             [
              0.1111111111111111,
              "#46039f"
             ],
             [
              0.2222222222222222,
              "#7201a8"
             ],
             [
              0.3333333333333333,
              "#9c179e"
             ],
             [
              0.4444444444444444,
              "#bd3786"
             ],
             [
              0.5555555555555556,
              "#d8576b"
             ],
             [
              0.6666666666666666,
              "#ed7953"
             ],
             [
              0.7777777777777778,
              "#fb9f3a"
             ],
             [
              0.8888888888888888,
              "#fdca26"
             ],
             [
              1,
              "#f0f921"
             ]
            ],
            "type": "surface"
           }
          ],
          "table": [
           {
            "cells": {
             "fill": {
              "color": "#EBF0F8"
             },
             "line": {
              "color": "white"
             }
            },
            "header": {
             "fill": {
              "color": "#C8D4E3"
             },
             "line": {
              "color": "white"
             }
            },
            "type": "table"
           }
          ]
         },
         "layout": {
          "annotationdefaults": {
           "arrowcolor": "#2a3f5f",
           "arrowhead": 0,
           "arrowwidth": 1
          },
          "coloraxis": {
           "colorbar": {
            "outlinewidth": 0,
            "ticks": ""
           }
          },
          "colorscale": {
           "diverging": [
            [
             0,
             "#8e0152"
            ],
            [
             0.1,
             "#c51b7d"
            ],
            [
             0.2,
             "#de77ae"
            ],
            [
             0.3,
             "#f1b6da"
            ],
            [
             0.4,
             "#fde0ef"
            ],
            [
             0.5,
             "#f7f7f7"
            ],
            [
             0.6,
             "#e6f5d0"
            ],
            [
             0.7,
             "#b8e186"
            ],
            [
             0.8,
             "#7fbc41"
            ],
            [
             0.9,
             "#4d9221"
            ],
            [
             1,
             "#276419"
            ]
           ],
           "sequential": [
            [
             0,
             "#0d0887"
            ],
            [
             0.1111111111111111,
             "#46039f"
            ],
            [
             0.2222222222222222,
             "#7201a8"
            ],
            [
             0.3333333333333333,
             "#9c179e"
            ],
            [
             0.4444444444444444,
             "#bd3786"
            ],
            [
             0.5555555555555556,
             "#d8576b"
            ],
            [
             0.6666666666666666,
             "#ed7953"
            ],
            [
             0.7777777777777778,
             "#fb9f3a"
            ],
            [
             0.8888888888888888,
             "#fdca26"
            ],
            [
             1,
             "#f0f921"
            ]
           ],
           "sequentialminus": [
            [
             0,
             "#0d0887"
            ],
            [
             0.1111111111111111,
             "#46039f"
            ],
            [
             0.2222222222222222,
             "#7201a8"
            ],
            [
             0.3333333333333333,
             "#9c179e"
            ],
            [
             0.4444444444444444,
             "#bd3786"
            ],
            [
             0.5555555555555556,
             "#d8576b"
            ],
            [
             0.6666666666666666,
             "#ed7953"
            ],
            [
             0.7777777777777778,
             "#fb9f3a"
            ],
            [
             0.8888888888888888,
             "#fdca26"
            ],
            [
             1,
             "#f0f921"
            ]
           ]
          },
          "colorway": [
           "#636efa",
           "#EF553B",
           "#00cc96",
           "#ab63fa",
           "#FFA15A",
           "#19d3f3",
           "#FF6692",
           "#B6E880",
           "#FF97FF",
           "#FECB52"
          ],
          "font": {
           "color": "#2a3f5f"
          },
          "geo": {
           "bgcolor": "white",
           "lakecolor": "white",
           "landcolor": "#E5ECF6",
           "showlakes": true,
           "showland": true,
           "subunitcolor": "white"
          },
          "hoverlabel": {
           "align": "left"
          },
          "hovermode": "closest",
          "mapbox": {
           "style": "light"
          },
          "paper_bgcolor": "white",
          "plot_bgcolor": "#E5ECF6",
          "polar": {
           "angularaxis": {
            "gridcolor": "white",
            "linecolor": "white",
            "ticks": ""
           },
           "bgcolor": "#E5ECF6",
           "radialaxis": {
            "gridcolor": "white",
            "linecolor": "white",
            "ticks": ""
           }
          },
          "scene": {
           "xaxis": {
            "backgroundcolor": "#E5ECF6",
            "gridcolor": "white",
            "gridwidth": 2,
            "linecolor": "white",
            "showbackground": true,
            "ticks": "",
            "zerolinecolor": "white"
           },
           "yaxis": {
            "backgroundcolor": "#E5ECF6",
            "gridcolor": "white",
            "gridwidth": 2,
            "linecolor": "white",
            "showbackground": true,
            "ticks": "",
            "zerolinecolor": "white"
           },
           "zaxis": {
            "backgroundcolor": "#E5ECF6",
            "gridcolor": "white",
            "gridwidth": 2,
            "linecolor": "white",
            "showbackground": true,
            "ticks": "",
            "zerolinecolor": "white"
           }
          },
          "shapedefaults": {
           "line": {
            "color": "#2a3f5f"
           }
          },
          "ternary": {
           "aaxis": {
            "gridcolor": "white",
            "linecolor": "white",
            "ticks": ""
           },
           "baxis": {
            "gridcolor": "white",
            "linecolor": "white",
            "ticks": ""
           },
           "bgcolor": "#E5ECF6",
           "caxis": {
            "gridcolor": "white",
            "linecolor": "white",
            "ticks": ""
           }
          },
          "title": {
           "x": 0.05
          },
          "xaxis": {
           "automargin": true,
           "gridcolor": "white",
           "linecolor": "white",
           "ticks": "",
           "title": {
            "standoff": 15
           },
           "zerolinecolor": "white",
           "zerolinewidth": 2
          },
          "yaxis": {
           "automargin": true,
           "gridcolor": "white",
           "linecolor": "white",
           "ticks": "",
           "title": {
            "standoff": 15
           },
           "zerolinecolor": "white",
           "zerolinewidth": 2
          }
         }
        }
       }
      },
      "text/html": [
       "<div>\n",
       "        \n",
       "        \n",
       "            <div id=\"ebfdb3f6-d05f-4c8d-9b9d-2ab1e916d835\" class=\"plotly-graph-div\" style=\"height:525px; width:100%;\"></div>\n",
       "            <script type=\"text/javascript\">\n",
       "                require([\"plotly\"], function(Plotly) {\n",
       "                    window.PLOTLYENV=window.PLOTLYENV || {};\n",
       "                    \n",
       "                if (document.getElementById(\"ebfdb3f6-d05f-4c8d-9b9d-2ab1e916d835\")) {\n",
       "                    Plotly.newPlot(\n",
       "                        'ebfdb3f6-d05f-4c8d-9b9d-2ab1e916d835',\n",
       "                        [{\"boxpoints\": false, \"name\": \"Crossover\", \"type\": \"box\", \"y\": [\"4659\", \"1629\", \"628\", \"76\", \"1425\", \"2387\", \"2011\", \"5807\", \"475\", \"2281\", \"462\", \"707\", \"12745\", \"7929\", \"3121\", \"20\", \"260\", \"1381\", \"319\", \"3770\", \"2939\", \"643\", \"1037\", \"2887\", \"164\", \"2172\", \"7398\", \"2507\", \"1098\", \"5007\", \"305\", \"1566\", \"992\", \"5833\", \"10786\", \"3550\", \"1298\", \"151\", \"700\", \"20719\", \"1789\", \"926\", \"15097\", \"13569\", \"564\", \"4168\", \"2240\", \"116\", \"138\", \"1295\", \"1896\", \"269\", \"3208\", \"1877\", \"4645\", \"3602\", \"512\", \"210\", \"789\", \"226\", \"585\", \"193\", \"2419\", \"1102\", \"259\", \"490\", \"6142\", \"1677\", \"1154\", \"733\", \"311\", \"688\", \"1919\", \"331\", \"64\", \"8176\", \"3819\", \"6881\", \"1117\", \"\", \"5294\", \"6738\", \"136\", \"2671\", \"1389\", \"620\", \"1868\", \"430\", \"1769\", \"1536\", \"1330\", \"776\", \"332\", \"916\", \"322\", \"62\", \"307\", \"512\", \"3808\", \"5498\", \"74\", \"234\", \"218\", \"1507\", \"133\", \"1558\", \"306\", \"421\", \"586\", \"13\", \"804\", \"3266\", \"1064\", \"430\", \"2244\", \"2111\", \"1941\", \"1465\", \"939\", \"2376\", \"2055\", \"1113\", \"556\", \"30\", \"306\", \"30\", \"717\", \"967\", \"3433\", \"4731\", \"5494\", \"369\", \"1041\", \"586\", \"314\", \"1546\", \"449\", \"2056\", \"1404\", \"1268\", \"82\", \"1985\", \"128\", \"1184\", \"4937\", \"694\", \"37\", \"528\", \"86\", \"673\", \"1127\", \"1004\", \"13521\", \"262\", \"2009\", \"210\", \"4737\", \"3483\", \"230\", \"1799\", \"1441\", \"333\", \"5073\", \"320\", \"201\", \"179\", \"152\", \"1180\", \"429\", \"74\", \"2130\", \"171\", \"1146\", \"3875\", \"212\", \"2979\", \"28\", \"3444\", \"2513\", \"923\", \"6259\", \"63\", \"253\", \"161\", \"1886\", \"183\", \"\", \"1275\", \"2901\", \"301\", \"428\", \"2352\", \"499\", \"2600\", \"348\", \"1646\", \"447\", \"277\", \"245\", \"1883\", \"2\", \"1254\", \"110\", \"48\", \"111\", \"2994\", \"1601\", \"138\", \"2613\", \"6889\", \"1059\", \"2108\", \"3720\", \"3639\", \"315\", \"32\", \"1478\", \"118\", \"1083\", \"1187\", \"1200\", \"685\", \"189\", \"483\", \"13022\", \"9800\", \"915\", \"119\", \"824\", \"117\", \"2415\", \"852\", \"458\", \"596\", \"2244\", \"1434\", \"3919\", \"258\", \"1242\", \"63\", \"143\", \"1561\", \"4602\", \"7749\", \"559\", \"407\", \"303\", \"761\", \"1583\", \"2331\", \"33\", \"189\", \"1072\", \"84\", \"94\", \"550\", \"155\", \"582\", \"1157\", \"176\", \"279\", \"320\", \"849\", \"9123\", \"10205\", \"1240\", \"240\", \"7247\", \"3103\", \"84\", \"683\", \"1525\", \"35\", \"111\", \"117\", \"1065\", \"78\", \"365\", \"38\", \"232\", \"267\", \"990\", \"219\", \"214\", \"84\", \"3010\", \"148\", \"382\", \"155\", \"305\", \"12764\", \"407\", \"156\", \"1780\", \"1425\", \"127\", \"3072\", \"137\", \"243\", \"91\", \"714\", \"1502\", \"2012\", \"419\", \"12420\", \"558\", \"294\", \"229\", \"17\", \"188\", \"193\", \"499\", \"946\", \"1641\", \"57\", \"67\", \"20990\", \"2236\", \"141\", \"297\", \"26\", \"777\", \"111\", \"1653\", \"319\", \"87\", \"129\", \"204\", \"204\", \"541\", \"449\", \"225\", \"48\", \"479\", \"483\", \"450\", \"6230\", \"3749\", \"469\", \"768\", \"27\", \"105\", \"1121\", \"2089\", \"4242\", \"162\", \"57\", \"83\", \"180\", \"7182\", \"142\", \"921\", \"3346\", \"1248\", \"739\", \"391\", \"263\", \"567\", \"779\", \"369\", \"134\", \"1267\", \"80\", \"177\", \"513\", \"666\", \"1369\", \"187\", \"121\", \"762\", \"624\", \"738\", \"641\", \"130\", \"181\", \"3551\", \"2824\", \"678\", \"566\", \"372\", \"153\", \"526\", \"676\", \"11664\", \"42\", \"547\", \"52\", \"2893\", \"264\", \"756\", \"860\", \"112\", \"87\", \"1022\", \"1413\", \"371\", \"1883\", \"1831\", \"336\", \"167\", \"370\", \"700\", \"44\", \"158\", \"468\", \"1416\", \"215\", \"677\", \"212\", \"620\", \"213\", \"642\", \"76\", \"13\", \"232\", \"719\", \"5\", \"1375\", \"105\", \"12402\", \"3513\", \"620\", \"491\"]}, {\"boxpoints\": false, \"name\": \"Percy Jackson\", \"type\": \"box\", \"y\": [\"128\", \"272\", \"102\", \"29\", \"17000\", \"1147\", \"2294\", \"1133\", \"63\", \"248\", \"224\", \"373\", \"330\", \"3403\", \"28943\", \"225\", \"150\", \"182\", \"98\", \"39\", \"4645\", \"2623\", \"19836\", \"51\", \"461\", \"2515\", \"189\", \"7253\", \"439\", \"1647\", \"249\", \"4585\", \"1843\", \"5178\", \"148\", \"5309\", \"69\", \"114\", \"2506\", \"704\", \"262\", \"312\", \"3829\", \"128\", \"630\", \"1068\", \"325\", \"142\", \"5085\", \"652\", \"9315\", \"414\", \"1727\", \"5533\", \"8244\", \"177\", \"2309\", \"135\", \"455\", \"76\", \"429\", \"191\", \"482\", \"3019\", \"453\", \"98\", \"634\", \"154\", \"730\", \"865\", \"139\", \"8577\", \"673\", \"6960\", \"277\", \"7620\", \"1310\", \"9946\", \"13781\", \"167\", \"244\", \"1249\", \"139\", \"475\", \"906\", \"173\", \"5989\", \"3666\", \"107\", \"1878\", \"1793\", \"2934\", \"2597\", \"2561\", \"41\", \"1314\", \"3863\", \"80\", \"307\", \"158\", \"1274\", \"357\", \"69\", \"980\", \"2073\", \"5511\", \"62\", \"4279\", \"926\", \"4384\", \"2455\", \"736\", \"54\", \"82\", \"1288\", \"2404\", \"277\", \"112\", \"130\", \"1089\", \"662\", \"1580\", \"425\", \"61\", \"112\", \"14128\", \"161\", \"294\", \"1963\", \"1025\", \"132\", \"393\", \"967\", \"3237\", \"2397\", \"809\", \"327\", \"67\", \"1240\", \"1447\", \"191\", \"4643\", \"3982\", \"330\", \"186\", \"70\", \"87\", \"201\", \"382\", \"6795\", \"244\", \"138\", \"Non\", \"303\", \"96\", \"222\", \"168\", \"5118\", \"1074\", \"235\", \"9480\", \"60\", \"71\", \"82\", \"489\", \"1523\", \"165\", \"5399\", \"406\", \"1151\", \"267\", \"331\", \"101\", \"413\", \"50\", \"252\", \"755\", \"182\", \"298\", \"4975\", \"120\", \"125\", \"256\", \"154\", \"181\", \"773\", \"210\", \"438\", \"5940\", \"281\", \"791\", \"165\", \"583\", \"105\", \"1225\", \"27\", \"50\", \"4883\", \"4575\", \"154\", \"1831\", \"194\", \"660\", \"131\", \"223\", \"672\", \"6249\", \"129\", \"7550\", \"2123\", \"11098\", \"93\", \"102\", \"173\", \"100\", \"288\", \"58\", \"68\", \"220\", \"1910\", \"313\", \"124\", \"74\", \"251\", \"109\", \"556\", \"239\", \"84\", \"311\", \"4618\", \"596\", \"55\", \"162\", \"57\", \"191\", \"144\", \"74\", \"117\", \"409\", \"218\", \"783\", \"75\", \"93\", \"448\", \"1485\", \"169\", \"489\", \"315\", \"490\", \"90\", \"249\", \"2906\", \"107\", \"88\", \"1540\", \"1710\", \"150\", \"958\", \"223\", \"363\", \"71\", \"209\", \"77\", \"1030\", \"51\", \"1920\", \"10735\", \"244\", \"4405\", \"154\", \"543\", \"100\", \"103\", \"366\", \"10768\", \"2013\", \"355\", \"87\", \"653\", \"650\", \"1478\", \"1490\", \"101\", \"249\", \"1588\", \"34\", \"44\", \"5362\", \"65\", \"265\", \"385\", \"554\", \"551\", \"447\", \"40\", \"127\", \"878\", \"123\", \"1553\", \"98\", \"305\", \"884\", \"24512\", \"40\", \"99\", \"2655\", \"1293\", \"306\", \"394\", \"2941\", \"4868\", \"1840\", \"21384\", \"355\", \"31\", \"8554\", \"356\", \"1356\", \"51\", \"68\", \"375\", \"375\", \"133\", \"41\", \"1566\", \"79\", \"329\", \"8685\", \"697\", \"369\", \"78\", \"713\", \"363\", \"329\", \"3178\", \"630\", \"3096\", \"2301\", \"593\", \"157\", \"180\", \"3461\", \"201\", \"127\", \"81\", \"959\", \"3254\", \"1577\", \"88\", \"110\", \"4418\", \"27\", \"165\", \"178\", \"290\", \"299\", \"10410\", \"62\", \"96\", \"5250\", \"27\", \"7310\", \"10215\", \"2842\", \"8462\", \"821\", \"517\", \"6258\", \"145\", \"560\", \"3267\", \"8176\", \"216\", \"891\", \"171\", \"169\", \"247\", \"275\", \"99\", \"1030\", \"2404\", \"68\", \"4098\", \"87\", \"380\", \"90\", \"425\", \"661\", \"274\", \"289\", \"1028\", \"4187\", \"2694\", \"415\", \"109\", \"131\", \"1590\", \"414\", \"253\", \"17\", \"193\", \"337\", \"218\", \"1172\", \"62\", \"333\", \"564\", \"868\", \"2088\", \"81\", \"3120\", \"3243\", \"297\", \"3063\", \"119\", \"37\", \"63\", \"140\", \"2296\", \"21029\", \"1352\", \"345\", \"3555\", \"2041\", \"249\", \"154\", \"537\", \"305\", \"90\", \"5016\", \"609\", \"124\", \"199\", \"214\", \"72\", \"625\", \"115\", \"284\", \"106\", \"432\", \"782\", \"2241\", \"1441\", \"48\", \"700\", \"60\", \"29\", \"91\", \"40\", \"89\", \"114\", \"432\", \"430\", \"56\", \"85\", \"1154\", \"433\", \"64\", \"215\", \"291\", \"1601\", \"238\", \"808\", \"210\", \"334\", \"76\", \"69\", \"22\", \"1296\", \"65\", \"10406\", \"535\", \"196\", \"18450\", \"174\", \"1288\", \"258\", \"438\", \"101\", \"291\", \"473\", \"116\", \"205\", \"1265\", \"258\", \"55\", \"178\", \"1745\", \"238\", \"201\", \"38\", \"15\", \"32\", \"478\", \"28\", \"524\", \"42\", \"488\", \"7630\", \"17\", \"96\", \"106\", \"562\", \"9116\", \"118\", \"150\", \"1916\", \"992\", \"223\", \"268\", \"171\", \"108\", \"795\", \"74\", \"815\", \"118\", \"166\", \"9739\", \"622\", \"299\", \"682\", \"1943\", \"51\", \"1182\", \"92\", \"41\", \"799\", \"109\", \"251\", \"407\", \"146\", \"74\", \"378\", \"162\", \"55\", \"1281\", \"777\", \"228\", \"463\", \"2666\", \"4210\", \"336\", \"67\", \"140\", \"601\", \"149\", \"214\", \"212\", \"5638\", \"110\", \"2299\", \"2172\", \"2032\", \"157\", \"115\", \"1730\", \"104\", \"129\", \"174\", \"281\", \"1465\", \"199\", \"109\", \"360\", \"552\", \"499\", \"101\", \"410\", \"41\", \"178\", \"1371\", \"268\", \"406\", \"49359\", \"128\", \"299\", \"3131\", \"3471\", \"144\", \"67\", \"81\", \"1178\", \"1129\", \"186\", \"260\", \"160\", \"45\", \"182\", \"323\", \"130\", \"126\", \"1111\", \"540\", \"964\", \"89\", \"473\", \"2353\", \"119\", \"218\", \"567\", \"2518\", \"244\", \"145\", \"62\", \"33\", \"963\", \"1907\", \"355\", \"180\", \"492\", \"69\", \"1160\", \"159\", \"145\", \"112\", \"313\", \"377\", \"56\", \"114\", \"100\", \"40\", \"608\", \"107\", \"3770\", \"227\", \"534\", \"67\", \"361\", \"101\", \"321\", \"156\", \"132\", \"2089\", \"83\", \"1599\", \"266\", \"127\", \"135\", \"2167\", \"12746\", \"163\", \"17924\", \"136\", \"150\", \"312\", \"3031\", \"101\", \"482\", \"243\", \"199\", \"236\", \"3098\", \"1092\", \"354\", \"92\", \"212\", \"2389\", \"56\", \"59\", \"56\", \"355\", \"1050\", \"3395\", \"471\", \"362\", \"690\", \"325\", \"31\", \"117\", \"958\", \"3582\", \"280\", \"1158\", \"168\", \"158\", \"85\", \"68\", \"209\", \"321\", \"32\", \"120\", \"175\", \"159\", \"119\", \"728\", \"9786\", \"1183\", \"139\", \"383\", \"612\", \"951\", \"500\", \"322\", \"477\", \"787\", \"1020\", \"454\", \"127\", \"293\", \"310\", \"779\", \"54\", \"105\", \"244\", \"745\", \"29236\", \"4144\", \"331\", \"136\", \"63\", \"804\", \"120\", \"105\", \"6747\", \"1481\", \"119\", \"98\", \"70\", \"134\", \"97\", \"17027\", \"131\", \"204\", \"277\", \"241\", \"884\", \"172\", \"3\", \"5459\", \"217\", \"416\", \"302\", \"165\", \"968\", \"117\", \"166\", \"402\", \"82\", \"92\", \"5611\", \"119\", \"165\", \"376\", \"1630\", \"566\", \"3496\", \"321\", \"125\", \"284\", \"41\", \"75\", \"533\", \"189\", \"320\", \"724\", \"86\", \"273\", \"46\", \"146\", \"103\", \"631\", \"1492\", \"4698\", \"87\", \"78\", \"333\", \"71\", \"27\", \"760\", \"497\", \"55\", \"659\", \"943\", \"520\", \"109\", \"215\", \"322\", \"186\", \"160\", \"439\", \"405\", \"90\", \"142\", \"381\", \"282\", \"354\", \"1467\", \"50\", \"200\", \"106\", \"155\", \"424\", \"125\", \"242\", \"39\", \"226\", \"197\", \"78\", \"4009\", \"6756\", \"463\", \"87\", \"405\", \"182\", \"3575\", \"645\", \"1244\", \"154\", \"1858\", \"216\", \"277\", \"674\", \"198\", \"1025\", \"2551\", \"356\", \"1384\", \"63\", \"372\", \"155\", \"1021\", \"50\", \"333\", \"419\", \"80\", \"128\", \"173\", \"1189\", \"5296\", \"310\", \"309\", \"763\", \"5480\", \"75\", \"142\", \"1487\", \"100\", \"456\", \"2415\", \"188\", \"120\", \"489\", \"920\", \"101\", \"175\", \"564\", \"32\", \"4035\", \"392\", \"69\", \"285\", \"871\", \"62\", \"115\", \"55\", \"104\", \"155\", \"82\", \"80\", \"154\", \"129\", \"154\", \"592\", \"123\", \"348\", \"568\", \"424\", \"1845\", \"127\", \"167\", \"268\", \"225\", \"1083\", \"9984\", \"63\", \"3652\", \"31\", \"144\", \"329\", \"133\", \"4940\", \"1578\", \"3356\", \"627\", \"205\", \"403\", \"92\", \"1476\", \"354\", \"574\", \"87\", \"240\", \"76\", \"124\", \"4200\", \"50\", \"170\", \"286\", \"416\", \"6144\", \"86\", \"33\", \"401\", \"402\", \"86\", \"51\", \"1298\", \"6084\", \"131\", \"82\", \"8674\", \"1102\", \"2762\", \"276\", \"156\", \"1243\", \"148\", \"1588\", \"186\", \"725\", \"124\", \"801\", \"68\", \"10312\", \"297\", \"222\", \"662\", \"129\", \"247\", \"323\", \"5688\", \"595\", \"57\", \"330\", \"1606\", \"246\", \"2887\", \"155\", \"78\", \"142\", \"3547\", \"83\", \"1566\", \"138\", \"164\", \"6470\", \"2463\", \"155\", \"151\", \"126\", \"2392\", \"35231\", \"4562\", \"119\", \"40\", \"130\", \"119\", \"11240\", \"121\", \"8642\", \"188\", \"212\", \"95\", \"52\", \"151\", \"1816\", \"2961\", \"236\", \"2728\", \"832\", \"85\", \"120\", \"60\", \"4864\", \"45\", \"68\", \"3\", \"1077\", \"1344\", \"35\", \"167\", \"897\", \"2195\", \"461\", \"5775\", \"51\", \"54\", \"231\", \"95\", \"300\", \"183\", \"200\", \"100\", \"121\", \"190\", \"423\", \"1862\", \"2521\", \"439\", \"247\", \"108\", \"214\", \"133\", \"517\", \"514\", \"97\", \"116\", \"188\", \"528\", \"353\", \"90\", \"722\", \"385\", \"44\", \"62\", \"151\", \"109\", \"1564\", \"133\", \"153\", \"307\", \"622\", \"856\", \"138\", \"141\", \"129\", \"173\", \"202\", \"460\", \"301\", \"236\", \"104\", \"101\", \"113\", \"195\", \"27\", \"259\", \"107\", \"100\", \"1241\", \"197\", \"1875\", \"69\", \"29\", \"279\", \"128\", \"263\", \"182\", \"1997\", \"164\", \"6757\", \"1011\", \"840\", \"522\", \"141\", \"277\", \"187\", \"418\", \"5502\", \"4636\", \"81\", \"119\", \"1159\", \"222\", \"115\", \"809\", \"91\", \"472\", \"108\", \"296\", \"76\", \"292\", \"123\", \"529\", \"7836\", \"45\", \"491\", \"9599\", \"1079\", \"78\", \"48\", \"119\", \"113\", \"53\", \"180\", \"86\", \"446\", \"224\", \"62\", \"140\", \"868\", \"1074\", \"202\", \"41\", \"164\", \"456\", \"890\", \"182\", \"299\", \"54\", \"1078\", \"745\", \"408\", \"112\", \"483\", \"584\", \"107\", \"50\", \"372\", \"Non\", \"172\", \"168\", \"138\", \"664\", \"104\", \"1051\", \"212\", \"54\", \"93\", \"43\", \"955\", \"183\", \"968\", \"91\", \"208\", \"350\", \"150\", \"88\", \"46\", \"16171\", \"202\", \"193\", \"88\", \"5098\", \"30\", \"106\", \"537\", \"1468\", \"167\", \"186\", \"676\", \"186\", \"276\", \"691\", \"228\", \"2163\", \"56\", \"1477\", \"74\", \"196\", \"101\", \"513\", \"87\", \"116\", \"214\", \"134\", \"951\", \"214\", \"3327\", \"210\", \"248\", \"52\", \"588\", \"1838\", \"4133\", \"1575\", \"119\", \"137\", \"164\", \"227\", \"310\", \"113\", \"321\", \"1816\", \"182\", \"237\", \"62\", \"723\", \"55\", \"497\", \"198\", \"5756\", \"2171\", \"208\", \"497\", \"145\", \"210\", \"1618\", \"1741\", \"70\", \"356\", \"8624\", \"702\", \"282\", \"64\", \"11\", \"342\", \"610\", \"1552\", \"1556\", \"256\", \"109\", \"81\", \"590\", \"192\", \"2286\", \"704\", \"130\", \"1024\", \"51\", \"78\", \"532\", \"62\", \"35\", \"494\", \"105\", \"865\", \"214\", \"649\", \"69\", \"478\", \"126\", \"14\", \"76\", \"1015\", \"963\", \"198\", \"141\", \"321\", \"157\", \"142\", \"268\", \"1212\", \"638\", \"216\", \"170\", \"2176\", \"72\", \"258\", \"148\", \"33\", \"6093\", \"8812\", \"521\", \"2825\", \"57\", \"2362\", \"884\", \"209\", \"501\", \"421\", \"814\", \"381\", \"149\", \"239\", \"57\", \"31\", \"76\", \"102\", \"524\", \"115\", \"81\", \"183\", \"173\", \"235\", \"100\", \"343\", \"393\", \"418\", \"2001\", \"198\", \"56\", \"139\", \"1581\", \"2283\", \"1239\", \"7378\", \"1405\", \"243\", \"941\", \"935\", \"79\", \"125\", \"884\", \"57\", \"122\", \"150\", \"273\", \"1629\", \"226\", \"362\", \"115\", \"675\", \"1274\", \"232\", \"159\", \"751\", \"908\", \"178\", \"274\", \"1226\", \"475\", \"3058\", \"1361\", \"56\", \"272\", \"175\", \"108\", \"9650\", \"200\", \"276\", \"166\", \"815\", \"176\", \"748\", \"1020\", \"1597\", \"178\", \"338\", \"207\", \"111\", \"58\", \"714\", \"3646\", \"178\", \"935\", \"663\", \"1643\", \"127\", \"58\", \"224\", \"661\", \"221\", \"1599\", \"161\", \"301\", \"2334\", \"7685\", \"112\", \"107\", \"80\", \"220\", \"355\", \"42\", \"171\", \"223\", \"317\", \"459\", \"1001\", \"17\", \"64\", \"55\", \"251\", \"508\", \"58\", \"629\", \"142\", \"178\", \"121\", \"63\", \"1323\", \"1087\", \"364\", \"1382\", \"227\", \"1552\", \"255\", \"2635\", \"2418\", \"241\", \"4104\", \"2251\", \"78\", \"1000\", \"425\", \"85\", \"182\", \"209\", \"102\", \"177\", \"575\", \"19\", \"23\", \"31\", \"1037\", \"64\", \"140\", \"206\", \"718\", \"103\", \"985\", \"213\", \"342\", \"226\", \"317\", \"165\", \"1108\", \"7327\", \"248\", \"216\", \"561\", \"100\", \"675\", \"2754\", \"186\", \"3170\", \"927\", \"1084\", \"276\", \"11373\", \"1293\", \"56\", \"190\", \"76\", \"106\", \"1036\", \"246\", \"340\", \"112\", \"213\", \"128\", \"82\", \"165\", \"2419\", \"370\", \"81\", \"110\", \"21\", \"1227\", \"56\", \"1384\", \"465\", \"1294\", \"200\", \"193\", \"884\", \"1182\", \"533\", \"259\", \"716\", \"77\", \"367\", \"186\", \"2391\", \"92\", \"373\", \"516\", \"28\", \"10\", \"109\", \"89\", \"53\", \"628\", \"1897\", \"159\", \"901\", \"172\", \"159\", \"133\", \"236\", \"1106\", \"132\", \"170\", \"1284\", \"2037\", \"79\", \"236\", \"85\", \"1131\", \"217\", \"176\", \"79\", \"125\", \"231\", \"617\", \"4534\", \"203\", \"5\", \"2723\", \"184\", \"157\", \"10\", \"75\", \"191\", \"90\", \"259\", \"274\", \"173\", \"123\", \"383\", \"165\", \"57\", \"1786\", \"61\", \"156\", \"346\", \"81\", \"152\", \"325\", \"105\", \"252\", \"256\", \"525\", \"1211\", \"163\", \"442\", \"2817\", \"259\", \"231\", \"367\", \"238\", \"74\", \"861\", \"68\", \"1520\", \"333\", \"133\", \"95\", \"52\", \"438\", \"278\", \"1607\", \"306\", \"148\", \"76\", \"1846\", \"107\", \"324\", \"148\", \"195\", \"1218\", \"3502\", \"305\", \"178\", \"302\", \"366\", \"2044\", \"577\", \"346\", \"91\", \"119\", \"814\", \"181\", \"1337\", \"307\", \"1899\", \"250\", \"48\", \"228\", \"217\", \"41137\", \"172\", \"30\", \"65\", \"584\", \"31\", \"71\", \"97\", \"1950\", \"603\", \"532\", \"195\", \"229\", \"14218\", \"149\", \"685\", \"54\", \"191\", \"128\", \"101\", \"318\", \"562\", \"101\", \"262\", \"113\", \"75\", \"5222\", \"315\", \"175\", \"109\", \"232\", \"62\", \"72\", \"1443\", \"380\", \"2944\", \"147\", \"96\", \"135\", \"1260\", \"4474\", \"69\", \"138\", \"48\"]}, {\"boxpoints\": false, \"name\": \"Harry Potter\", \"type\": \"box\", \"y\": [\"212\", \"128\", \"758\", \"766\", \"274\", \"691\", \"5435\", \"428\", \"175\", \"500\", \"12888\", \"1573\", \"1236\", \"8392\", \"1834\", \"193\", \"4213\", \"4927\", \"6526\", \"3234\", \"3108\", \"354\", \"206\", \"1378\", \"692\", \"704\", \"983\", \"22\", \"542\", \"3196\", \"1410\", \"6732\", \"318\", \"586\", \"1894\", \"1459\", \"2740\", \"7711\", \"360\", \"7924\", \"40\", \"483\", \"70\", \"64\", \"2212\", \"6225\", \"212\", \"983\", \"958\", \"487\", \"579\", \"1212\", \"2975\", \"479\", \"1391\", \"286\", \"3579\", \"1037\", \"7725\", \"966\", \"1240\", \"265\", \"1502\", \"8003\", \"2213\", \"4631\", \"128\", \"67\", \"4280\", \"102\", \"612\", \"717\", \"635\", \"11234\", \"66\", \"1073\", \"81\", \"515\", \"1662\", \"66\", \"4488\", \"2566\", \"872\", \"12996\", \"174\", \"11114\", \"231\", \"10067\", \"170\", \"7163\", \"344\", \"254\", \"1994\", \"2615\", \"2017\", \"2006\", \"2115\", \"261\", \"546\", \"251\", \"1003\", \"1451\", \"406\", \"4228\", \"501\", \"574\", \"1222\", \"754\", \"17887\", \"2259\", \"143\", \"5551\", \"5155\", \"967\", \"1531\", \"41\", \"174\", \"2847\", \"857\", \"2100\", \"231\", \"210\", \"463\", \"550\", \"506\", \"217\", \"384\", \"5884\", \"67\", \"169\", \"256\", \"32098\", \"415\", \"664\", \"81\", \"112\", \"280\", \"2285\", \"11341\", \"1072\", \"2252\", \"113\", \"316\", \"817\", \"259\", \"6863\", \"6684\", \"3194\", \"510\", \"556\", \"329\", \"41868\", \"355\", \"19163\", \"998\", \"2185\", \"2965\", \"7050\", \"1307\", \"1544\", \"1347\", \"388\", \"10225\", \"1700\", \"1505\", \"2029\", \"1947\", \"3502\", \"20\", \"177\", \"5045\", \"13\", \"3679\", \"17\", \"208\", \"1368\", \"389\", \"16\", \"1542\", \"1576\", \"2436\", \"2808\", \"25\", \"3978\", \"804\", \"467\", \"5427\", \"64\", \"169\", \"31\", \"11853\", \"1716\", \"519\", \"165\", \"17\", \"9308\", \"9841\", \"256\", \"3119\", \"602\", \"1056\", \"2078\", \"494\", \"3296\", \"276\", \"28\", \"2195\", \"5104\", \"298\", \"22421\", \"3504\", \"10\", \"283\", \"5853\", \"239\", \"7170\", \"8223\", \"3033\", \"70\", \"47\", \"137\", \"2077\", \"9750\", \"2019\", \"80\", \"689\", \"924\", \"1447\", \"214\", \"517\", \"5262\", \"4185\", \"578\", \"3867\", \"1586\", \"5118\", \"3672\", \"190\", \"56\", \"51\", \"490\", \"3025\", \"352\", \"2406\", \"180\", \"5041\", \"5042\", \"292\", \"3770\", \"5612\", \"330\", \"656\", \"158\", \"2341\", \"466\", \"300\", \"5234\", \"1239\", \"1813\", \"3747\", \"1783\", \"309\", \"510\", \"9141\", \"3387\", \"284\", \"1890\", \"512\", \"360\", \"14379\", \"1448\", \"387\", \"1705\", \"608\", \"920\", \"205\", \"1456\", \"17140\", \"272\", \"476\", \"2484\", \"5570\", \"730\", \"3577\", \"2168\", \"300\", \"214\", \"87\", \"263\", \"278\", \"1605\", \"4239\", \"2288\", \"320\", \"3906\", \"7377\", \"408\", \"542\", \"13410\", \"21075\", \"13166\", \"3074\", \"8444\", \"5162\", \"1021\", \"732\", \"567\", \"929\", \"4178\", \"1000\", \"406\", \"552\", \"3094\", \"47059\", \"1084\", \"729\", \"2837\", \"1724\", \"89\", \"412\", \"865\", \"2031\", \"1428\", \"157\", \"245\", \"326\", \"9310\", \"215\", \"9898\", \"2891\", \"4922\", \"227\", \"157\", \"22220\", \"1012\", \"278\", \"50\", \"254\", \"1574\", \"332\", \"192\", \"1186\", \"112\", \"62\", \"192\", \"461\", \"1322\", \"17389\", \"5236\", \"237\", \"1185\", \"168\", \"147\", \"133\", \"5214\", \"173\", \"101\", \"876\", \"2182\", \"15038\", \"11428\", \"234\", \"204\", \"769\", \"1054\", \"3054\", \"710\", \"825\", \"5745\", \"588\", \"190\", \"600\", \"7734\", \"1485\", \"2462\", \"2005\", \"7934\", \"364\", \"262\", \"244\", \"858\", \"3729\", \"252\", \"1354\", \"724\", \"189\", \"8123\", \"516\", \"222\", \"3546\", \"1780\", \"480\", \"55\", \"32161\", \"387\", \"295\", \"53\", \"521\", \"497\", \"601\", \"7566\", \"9556\", \"73\", \"1028\", \"358\", \"245\", \"578\", \"5200\", \"1125\", \"3215\", \"250\", \"196\", \"77\", \"3266\", \"302\", \"21146\", \"698\", \"194\", \"1150\", \"1092\", \"103\", \"7495\", \"180\", \"231\", \"423\", \"1775\", \"650\", \"875\", \"1572\", \"2453\", \"712\", \"347\", \"18308\", \"55\", \"7205\", \"1843\", \"2357\", \"232\", \"218\", \"500\", \"24963\", \"575\", \"435\", \"6644\", \"3735\", \"2726\", \"288\", \"169\", \"181\", \"998\", \"23\", \"2066\", \"648\", \"8641\", \"4243\", \"1732\", \"300\", \"3045\", \"2914\", \"3388\", \"928\", \"376\", \"3256\", \"1348\", \"14666\", \"233\", \"149\", \"258\", \"709\", \"478\", \"300\", \"94224\", \"1428\", \"1752\", \"1200\", \"12902\", \"1349\", \"840\", \"183\", \"278\", \"4610\", \"563\", \"193\", \"1657\", \"847\", \"1117\", \"800\", \"15395\", \"267\", \"131\", \"1447\", \"125\", \"427\", \"7384\", \"3014\", \"6946\", \"5287\", \"28\", \"1389\", \"365\", \"2048\", \"662\", \"\", \"27580\", \"30861\", \"277\", \"16717\", \"5144\", \"318\", \"9745\", \"1976\", \"87\", \"452\", \"2664\", \"5087\", \"2635\", \"11210\", \"27\", \"76\", \"1776\", \"12581\", \"119\", \"427\", \"1101\", \"3688\", \"138\", \"3822\", \"178\", \"88\", \"5509\", \"2222\", \"905\", \"794\", \"1071\", \"632\", \"722\", \"271\", \"71\", \"34057\", \"1124\", \"2700\", \"2476\", \"1928\", \"5297\", \"358\", \"10449\", \"4120\", \"243\", \"925\", \"255\", \"51\", \"4892\", \"5419\", \"589\", \"1101\", \"135\", \"222\", \"1415\", \"1820\", \"7821\", \"362\", \"66\", \"1746\", \"435\", \"5678\", \"1472\", \"368\", \"1496\", \"430\", \"426\", \"1323\", \"1480\", \"309\", \"1804\", \"559\", \"580\", \"208\", \"4731\", \"5591\", \"2442\", \"111\", \"1829\", \"6386\", \"61\", \"1375\", \"1365\", \"11415\", \"2136\", \"37\", \"431\", \"108\", \"57\", \"59\", \"964\", \"44657\", \"461\", \"252\", \"644\", \"526\", \"120\", \"818\", \"152\", \"833\", \"4324\", \"36\", \"7799\", \"32802\", \"4228\", \"1519\", \"181\", \"3709\", \"398\", \"319\", \"348\", \"204\", \"11921\", \"3147\", \"19467\", \"2388\", \"820\", \"3757\", \"1086\", \"392\", \"23264\", \"4533\", \"10\", \"800\", \"703\", \"18647\", \"450\", \"20\", \"1105\", \"2513\", \"551\", \"318\", \"777\", \"372\", \"7956\", \"1003\", \"9359\", \"5161\", \"266\", \"1698\", \"167\", \"3024\", \"277\", \"1305\", \"866\", \"1693\", \"5305\", \"4658\", \"Non\", \"3621\", \"2311\", \"2666\", \"348\", \"591\", \"536\", \"10933\", \"1981\", \"881\", \"1686\", \"6239\", \"4666\", \"842\", \"12242\", \"1533\", \"444\", \"255\", \"340\", \"592\", \"1038\", \"4665\", \"10548\", \"238\", \"487\", \"3561\", \"265\", \"122\", \"213\", \"114\", \"5792\", \"309\", \"328\", \"1049\", \"8\", \"1111\", \"160\", \"1225\", \"19575\", \"300\", \"7730\", \"703\", \"157\", \"2663\", \"3891\", \"40\", \"8491\", \"2645\", \"4141\", \"71\", \"361\", \"2791\", \"1048\", \"1130\", \"1881\", \"3749\", \"7103\", \"2091\", \"13919\", \"250\", \"853\", \"1409\", \"624\", \"2218\", \"1721\", \"1239\", \"4502\", \"823\", \"245\", \"116\", \"18907\", \"1461\", \"2476\", \"3044\", \"3517\", \"1359\", \"716\", \"2254\", \"1175\", \"7609\", \"1199\", \"2054\", \"119\", \"10588\", \"8958\", \"605\", \"13184\", \"475\", \"12939\", \"103\", \"1907\", \"2271\", \"566\", \"6143\", \"2327\", \"17890\", \"426\", \"172\", \"89\", \"392\", \"3801\", \"2732\", \"3990\", \"349\", \"12481\", \"42\", \"532\", \"2068\", \"316\", \"2077\", \"5962\", \"140\", \"50\", \"5510\", \"1726\", \"4743\", \"7678\", \"6356\", \"1791\", \"2046\", \"5193\", \"672\", \"609\", \"138\", \"1447\", \"849\", \"103\", \"7560\", \"547\", \"116\", \"155\", \"2325\", \"101\", \"2283\", \"17974\", \"1827\", \"59161\", \"3437\", \"51\", \"416\", \"671\", \"461\", \"1493\", \"149\", \"358\", \"3524\", \"1287\", \"320\", \"4342\", \"5077\", \"24573\", \"3724\", \"205\", \"1083\", \"1314\", \"753\", \"2465\", \"12313\", \"100\", \"735\", \"10806\", \"3612\", \"2187\", \"1044\", \"2610\", \"3908\", \"67\", \"11\", \"12320\", \"1026\", \"1147\", \"140\", \"5907\", \"203\", \"4648\", \"7882\", \"1716\", \"1024\", \"42\", \"2450\", \"2862\", \"1427\", \"1551\", \"192\", \"70\", \"144\", \"424\", \"2921\", \"274\", \"9245\", \"3154\", \"1821\", \"509\", \"4498\", \"139\", \"12436\", \"460\", \"4375\", \"190\", \"277\", \"584\", \"499\", \"2791\", \"218\", \"1606\", \"1787\", \"19\", \"3802\", \"4435\", \"582\", \"2555\", \"10029\", \"1248\", \"297\", \"117\", \"674\", \"165\", \"6161\", \"2631\", \"963\", \"306\", \"4511\", \"79\", \"911\", \"212\", \"869\", \"2715\", \"90\", \"141\", \"3895\", \"43\", \"708\", \"1307\", \"344\", \"327\", \"1641\", \"7667\", \"6521\", \"252\", \"21892\", \"8581\", \"1344\", \"406\", \"842\", \"2978\", \"61\", \"578\", \"2254\", \"443\", \"252\", \"152\", \"217\", \"118\", \"4210\", \"153\", \"692\", \"945\", \"243\", \"139\", \"1413\", \"16\", \"10\", \"110\", \"38\", \"3755\", \"4768\", \"8633\", \"\", \"97\", \"2563\", \"192\", \"34190\", \"8030\", \"5832\", \"160\", \"8395\", \"145\", \"895\", \"137\", \"163\", \"1621\", \"1239\", \"3685\", \"9\", \"1792\", \"2735\", \"1259\", \"206\", \"110\", \"349\", \"441\", \"4224\", \"8337\", \"374\", \"1585\", \"466\", \"2356\", \"826\", \"1351\", \"5261\", \"3745\", \"10\", \"45\", \"2594\", \"1705\", \"2349\", \"2419\", \"14400\", \"566\", \"7790\", \"3070\", \"12509\", \"1774\", \"7976\", \"1439\", \"9161\", \"163\", \"62\", \"307\", \"4079\", \"189\", \"390\", \"643\", \"80\", \"1587\", \"44687\", \"181\", \"520\", \"796\", \"121\", \"759\", \"216\", \"\", \"11017\", \"5848\", \"16885\", \"329\", \"181\", \"11585\", \"5229\", \"16051\", \"246\", \"2041\", \"2735\", \"1023\", \"2554\", \"3090\", \"3342\", \"3378\", \"12146\", \"1302\", \"259\", \"1123\", \"75\", \"7015\", \"13645\", \"5561\", \"5165\", \"2063\", \"21\", \"389\", \"3952\", \"286\", \"497\", \"119\", \"660\", \"2281\", \"3579\", \"49\", \"24\", \"1465\", \"123\", \"3980\", \"745\", \"110\", \"150\", \"628\", \"544\", \"3144\", \"155\", \"7449\", \"40399\", \"129\", \"147\", \"5309\", \"687\", \"106\", \"14813\", \"1928\", \"2102\", \"274\", \"1257\", \"13\", \"1584\", \"5711\", \"801\", \"831\", \"1354\", \"8321\", \"909\", \"2570\", \"307\", \"1209\", \"498\", \"186\", \"141\", \"6154\", \"926\", \"2095\", \"1067\", \"9966\", \"2118\", \"1367\", \"151\", \"222\", \"43\", \"23767\", \"560\", \"125\", \"1419\", \"194\", \"1580\", \"189\", \"1502\", \"477\", \"7628\", \"4542\", \"248\", \"3292\", \"700\", \"367\", \"2353\", \"38\", \"368\", \"965\", \"2447\", \"19475\", \"87\", \"1095\", \"854\", \"727\", \"252\", \"19712\", \"87\", \"5810\", \"321\", \"127\", \"11604\", \"28290\", \"434\", \"268\", \"14679\", \"79\", \"4399\", \"111\", \"1914\", \"255\", \"882\", \"9545\", \"316\", \"2365\", \"139\", \"4940\", \"1810\", \"1655\", \"2182\", \"1667\", \"892\", \"378\", \"4452\", \"789\", \"175\", \"13149\", \"1827\", \"21031\", \"2360\", \"394\", \"149\", \"8385\", \"4317\", \"6337\", \"249\", \"6736\", \"4731\", \"406\", \"8398\", \"577\", \"2293\", \"85\", \"26\", \"3689\", \"5396\", \"2786\", \"9337\", \"131\", \"85\", \"1036\", \"237\", \"164\", \"2271\", \"4362\", \"7056\", \"4008\", \"2346\", \"315\", \"666\", \"204\", \"521\", \"1857\", \"4125\", \"598\", \"539\", \"1933\", \"8205\", \"4196\", \"352\", \"1692\", \"3512\", \"7522\", \"11478\", \"4938\", \"2884\", \"163\", \"2460\", \"2196\", \"27\", \"951\", \"343\", \"9717\", \"529\", \"347\", \"1942\", \"512\", \"934\", \"2024\", \"910\", \"671\", \"12775\", \"1589\", \"105\", \"1179\", \"327\", \"188\", \"701\", \"304\", \"1491\", \"46\", \"97\", \"978\", \"132\", \"2113\", \"10\", \"5367\", \"601\", \"1508\", \"801\", \"4557\", \"140\", \"2300\", \"543\", \"10\", \"5396\", \"237\", \"316\", \"10109\", \"154\", \"10319\", \"248\", \"437\", \"8682\", \"5987\", \"4828\", \"1441\", \"62\", \"301\", \"2777\", \"4168\", \"31131\", \"826\", \"369\", \"\", \"610\", \"63555\", \"562\", \"34\", \"402\", \"30378\", \"4271\", \"259\", \"2932\", \"6737\", \"261\", \"16126\", \"30\", \"52\", \"1118\", \"10352\", \"104\", \"150\", \"931\", \"656\", \"551\", \"439\", \"1609\", \"52\", \"1442\", \"417\", \"4728\", \"402\", \"33\", \"3936\", \"415\", \"2283\", \"419\", \"2988\", \"1695\", \"1558\", \"4133\", \"706\", \"1116\", \"1443\", \"802\", \"9563\", \"5079\", \"2196\", \"165\", \"5094\", \"288\", \"480\", \"\", \"654\", \"105\", \"22036\", \"426\", \"11016\", \"5403\", \"18199\", \"1187\", \"39\", \"4701\", \"621\", \"7110\", \"2118\", \"480\", \"498\", \"2804\", \"415\", \"426\", \"624\", \"9549\", \"3351\", \"1030\", \"23159\", \"160\", \"915\", \"484\", \"150\", \"3027\", \"162\", \"4050\", \"354\", \"3638\", \"259\", \"90\", \"449\", \"540\", \"1104\", \"\", \"84\", \"2407\", \"68\", \"287\", \"1\", \"449\", \"373\", \"107\", \"1209\", \"367\", \"979\", \"360\", \"230\", \"113\", \"1955\", \"561\", \"249\", \"184\", \"329\", \"12091\", \"5943\", \"3513\", \"687\", \"219\", \"102\", \"6767\", \"11292\", \"31\", \"5553\", \"2019\", \"4374\", \"190\", \"8647\", \"884\", \"33\", \"2104\", \"7097\", \"1242\", \"869\", \"7952\", \"133\", \"209\", \"3624\", \"363\", \"135\", \"626\", \"158\", \"3052\", \"19360\", \"209\", \"575\", \"738\", \"5584\", \"321\", \"256\", \"10588\", \"15881\", \"139\", \"326\", \"11988\", \"2745\", \"300\", \"1095\", \"3674\", \"1221\", \"1673\", \"493\", \"1299\", \"287\", \"2335\", \"726\", \"15686\", \"499\", \"26\", \"7613\", \"568\", \"7\", \"895\", \"779\", \"3399\", \"7887\", \"3379\", \"13\", \"51\", \"834\", \"29647\", \"1437\", \"8416\", \"579\", \"6372\", \"10\", \"572\", \"399\", \"696\", \"2487\", \"4905\", \"86\", \"2437\", \"271\", \"2179\", \"885\", \"699\", \"3921\", \"545\", \"1708\", \"141\", \"884\", \"530\", \"1762\", \"1102\", \"59\", \"10054\", \"4155\", \"2567\", \"62\", \"1165\", \"13231\", \"10181\", \"16420\", \"6901\", \"74\", \"2031\", \"2143\", \"137\", \"3711\", \"564\", \"701\", \"1540\", \"1446\", \"223\", \"1121\", \"3651\", \"518\", \"1524\", \"3597\", \"14956\", \"586\", \"142\", \"144\", \"1626\", \"128\", \"1546\", \"101\", \"766\", \"6557\", \"683\", \"428\", \"\", \"5024\", \"209\", \"602\", \"6811\", \"1044\", \"3749\", \"463\", \"10\", \"197\", \"18800\", \"215\", \"68\", \"2456\", \"242\", \"458\", \"3698\", \"46813\", \"3021\", \"1535\", \"3989\", \"11864\", \"766\", \"481\", \"519\", \"21\", \"2403\", \"4550\", \"170\", \"6475\", \"10\", \"1243\", \"134\", \"215\", \"497\", \"1485\", \"25257\", \"784\", \"1227\", \"48\", \"14167\", \"30\", \"175\", \"4617\", \"418\", \"3858\", \"99\", \"1092\", \"1470\", \"12\", \"2408\", \"394\", \"698\", \"465\", \"35\", \"840\", \"11\"]}],\n",
       "                        {\"template\": {\"data\": {\"bar\": [{\"error_x\": {\"color\": \"#2a3f5f\"}, \"error_y\": {\"color\": \"#2a3f5f\"}, \"marker\": {\"line\": {\"color\": \"#E5ECF6\", \"width\": 0.5}}, \"type\": \"bar\"}], \"barpolar\": [{\"marker\": {\"line\": {\"color\": \"#E5ECF6\", \"width\": 0.5}}, \"type\": \"barpolar\"}], \"carpet\": [{\"aaxis\": {\"endlinecolor\": \"#2a3f5f\", \"gridcolor\": \"white\", \"linecolor\": \"white\", \"minorgridcolor\": \"white\", \"startlinecolor\": \"#2a3f5f\"}, \"baxis\": {\"endlinecolor\": \"#2a3f5f\", \"gridcolor\": \"white\", \"linecolor\": \"white\", \"minorgridcolor\": \"white\", \"startlinecolor\": \"#2a3f5f\"}, \"type\": \"carpet\"}], \"choropleth\": [{\"colorbar\": {\"outlinewidth\": 0, \"ticks\": \"\"}, \"type\": \"choropleth\"}], \"contour\": [{\"colorbar\": {\"outlinewidth\": 0, \"ticks\": \"\"}, \"colorscale\": [[0.0, \"#0d0887\"], [0.1111111111111111, \"#46039f\"], [0.2222222222222222, \"#7201a8\"], [0.3333333333333333, \"#9c179e\"], [0.4444444444444444, \"#bd3786\"], [0.5555555555555556, \"#d8576b\"], [0.6666666666666666, \"#ed7953\"], [0.7777777777777778, \"#fb9f3a\"], [0.8888888888888888, \"#fdca26\"], [1.0, \"#f0f921\"]], \"type\": \"contour\"}], \"contourcarpet\": [{\"colorbar\": {\"outlinewidth\": 0, \"ticks\": \"\"}, \"type\": \"contourcarpet\"}], \"heatmap\": [{\"colorbar\": {\"outlinewidth\": 0, \"ticks\": \"\"}, \"colorscale\": [[0.0, \"#0d0887\"], [0.1111111111111111, \"#46039f\"], [0.2222222222222222, \"#7201a8\"], [0.3333333333333333, \"#9c179e\"], [0.4444444444444444, \"#bd3786\"], [0.5555555555555556, \"#d8576b\"], [0.6666666666666666, \"#ed7953\"], [0.7777777777777778, \"#fb9f3a\"], [0.8888888888888888, \"#fdca26\"], [1.0, \"#f0f921\"]], \"type\": \"heatmap\"}], \"heatmapgl\": [{\"colorbar\": {\"outlinewidth\": 0, \"ticks\": \"\"}, \"colorscale\": [[0.0, \"#0d0887\"], [0.1111111111111111, \"#46039f\"], [0.2222222222222222, \"#7201a8\"], [0.3333333333333333, \"#9c179e\"], [0.4444444444444444, \"#bd3786\"], [0.5555555555555556, \"#d8576b\"], [0.6666666666666666, \"#ed7953\"], [0.7777777777777778, \"#fb9f3a\"], [0.8888888888888888, \"#fdca26\"], [1.0, \"#f0f921\"]], \"type\": \"heatmapgl\"}], \"histogram\": [{\"marker\": {\"colorbar\": {\"outlinewidth\": 0, \"ticks\": \"\"}}, \"type\": \"histogram\"}], \"histogram2d\": [{\"colorbar\": {\"outlinewidth\": 0, \"ticks\": \"\"}, \"colorscale\": [[0.0, \"#0d0887\"], [0.1111111111111111, \"#46039f\"], [0.2222222222222222, \"#7201a8\"], [0.3333333333333333, \"#9c179e\"], [0.4444444444444444, \"#bd3786\"], [0.5555555555555556, \"#d8576b\"], [0.6666666666666666, \"#ed7953\"], [0.7777777777777778, \"#fb9f3a\"], [0.8888888888888888, \"#fdca26\"], [1.0, \"#f0f921\"]], \"type\": \"histogram2d\"}], \"histogram2dcontour\": [{\"colorbar\": {\"outlinewidth\": 0, \"ticks\": \"\"}, \"colorscale\": [[0.0, \"#0d0887\"], [0.1111111111111111, \"#46039f\"], [0.2222222222222222, \"#7201a8\"], [0.3333333333333333, \"#9c179e\"], [0.4444444444444444, \"#bd3786\"], [0.5555555555555556, \"#d8576b\"], [0.6666666666666666, \"#ed7953\"], [0.7777777777777778, \"#fb9f3a\"], [0.8888888888888888, \"#fdca26\"], [1.0, \"#f0f921\"]], \"type\": \"histogram2dcontour\"}], \"mesh3d\": [{\"colorbar\": {\"outlinewidth\": 0, \"ticks\": \"\"}, \"type\": \"mesh3d\"}], \"parcoords\": [{\"line\": {\"colorbar\": {\"outlinewidth\": 0, \"ticks\": \"\"}}, \"type\": \"parcoords\"}], \"pie\": [{\"automargin\": true, \"type\": \"pie\"}], \"scatter\": [{\"marker\": {\"colorbar\": {\"outlinewidth\": 0, \"ticks\": \"\"}}, \"type\": \"scatter\"}], \"scatter3d\": [{\"line\": {\"colorbar\": {\"outlinewidth\": 0, \"ticks\": \"\"}}, \"marker\": {\"colorbar\": {\"outlinewidth\": 0, \"ticks\": \"\"}}, \"type\": \"scatter3d\"}], \"scattercarpet\": [{\"marker\": {\"colorbar\": {\"outlinewidth\": 0, \"ticks\": \"\"}}, \"type\": \"scattercarpet\"}], \"scattergeo\": [{\"marker\": {\"colorbar\": {\"outlinewidth\": 0, \"ticks\": \"\"}}, \"type\": \"scattergeo\"}], \"scattergl\": [{\"marker\": {\"colorbar\": {\"outlinewidth\": 0, \"ticks\": \"\"}}, \"type\": \"scattergl\"}], \"scattermapbox\": [{\"marker\": {\"colorbar\": {\"outlinewidth\": 0, \"ticks\": \"\"}}, \"type\": \"scattermapbox\"}], \"scatterpolar\": [{\"marker\": {\"colorbar\": {\"outlinewidth\": 0, \"ticks\": \"\"}}, \"type\": \"scatterpolar\"}], \"scatterpolargl\": [{\"marker\": {\"colorbar\": {\"outlinewidth\": 0, \"ticks\": \"\"}}, \"type\": \"scatterpolargl\"}], \"scatterternary\": [{\"marker\": {\"colorbar\": {\"outlinewidth\": 0, \"ticks\": \"\"}}, \"type\": \"scatterternary\"}], \"surface\": [{\"colorbar\": {\"outlinewidth\": 0, \"ticks\": \"\"}, \"colorscale\": [[0.0, \"#0d0887\"], [0.1111111111111111, \"#46039f\"], [0.2222222222222222, \"#7201a8\"], [0.3333333333333333, \"#9c179e\"], [0.4444444444444444, \"#bd3786\"], [0.5555555555555556, \"#d8576b\"], [0.6666666666666666, \"#ed7953\"], [0.7777777777777778, \"#fb9f3a\"], [0.8888888888888888, \"#fdca26\"], [1.0, \"#f0f921\"]], \"type\": \"surface\"}], \"table\": [{\"cells\": {\"fill\": {\"color\": \"#EBF0F8\"}, \"line\": {\"color\": \"white\"}}, \"header\": {\"fill\": {\"color\": \"#C8D4E3\"}, \"line\": {\"color\": \"white\"}}, \"type\": \"table\"}]}, \"layout\": {\"annotationdefaults\": {\"arrowcolor\": \"#2a3f5f\", \"arrowhead\": 0, \"arrowwidth\": 1}, \"coloraxis\": {\"colorbar\": {\"outlinewidth\": 0, \"ticks\": \"\"}}, \"colorscale\": {\"diverging\": [[0, \"#8e0152\"], [0.1, \"#c51b7d\"], [0.2, \"#de77ae\"], [0.3, \"#f1b6da\"], [0.4, \"#fde0ef\"], [0.5, \"#f7f7f7\"], [0.6, \"#e6f5d0\"], [0.7, \"#b8e186\"], [0.8, \"#7fbc41\"], [0.9, \"#4d9221\"], [1, \"#276419\"]], \"sequential\": [[0.0, \"#0d0887\"], [0.1111111111111111, \"#46039f\"], [0.2222222222222222, \"#7201a8\"], [0.3333333333333333, \"#9c179e\"], [0.4444444444444444, \"#bd3786\"], [0.5555555555555556, \"#d8576b\"], [0.6666666666666666, \"#ed7953\"], [0.7777777777777778, \"#fb9f3a\"], [0.8888888888888888, \"#fdca26\"], [1.0, \"#f0f921\"]], \"sequentialminus\": [[0.0, \"#0d0887\"], [0.1111111111111111, \"#46039f\"], [0.2222222222222222, \"#7201a8\"], [0.3333333333333333, \"#9c179e\"], [0.4444444444444444, \"#bd3786\"], [0.5555555555555556, \"#d8576b\"], [0.6666666666666666, \"#ed7953\"], [0.7777777777777778, \"#fb9f3a\"], [0.8888888888888888, \"#fdca26\"], [1.0, \"#f0f921\"]]}, \"colorway\": [\"#636efa\", \"#EF553B\", \"#00cc96\", \"#ab63fa\", \"#FFA15A\", \"#19d3f3\", \"#FF6692\", \"#B6E880\", \"#FF97FF\", \"#FECB52\"], \"font\": {\"color\": \"#2a3f5f\"}, \"geo\": {\"bgcolor\": \"white\", \"lakecolor\": \"white\", \"landcolor\": \"#E5ECF6\", \"showlakes\": true, \"showland\": true, \"subunitcolor\": \"white\"}, \"hoverlabel\": {\"align\": \"left\"}, \"hovermode\": \"closest\", \"mapbox\": {\"style\": \"light\"}, \"paper_bgcolor\": \"white\", \"plot_bgcolor\": \"#E5ECF6\", \"polar\": {\"angularaxis\": {\"gridcolor\": \"white\", \"linecolor\": \"white\", \"ticks\": \"\"}, \"bgcolor\": \"#E5ECF6\", \"radialaxis\": {\"gridcolor\": \"white\", \"linecolor\": \"white\", \"ticks\": \"\"}}, \"scene\": {\"xaxis\": {\"backgroundcolor\": \"#E5ECF6\", \"gridcolor\": \"white\", \"gridwidth\": 2, \"linecolor\": \"white\", \"showbackground\": true, \"ticks\": \"\", \"zerolinecolor\": \"white\"}, \"yaxis\": {\"backgroundcolor\": \"#E5ECF6\", \"gridcolor\": \"white\", \"gridwidth\": 2, \"linecolor\": \"white\", \"showbackground\": true, \"ticks\": \"\", \"zerolinecolor\": \"white\"}, \"zaxis\": {\"backgroundcolor\": \"#E5ECF6\", \"gridcolor\": \"white\", \"gridwidth\": 2, \"linecolor\": \"white\", \"showbackground\": true, \"ticks\": \"\", \"zerolinecolor\": \"white\"}}, \"shapedefaults\": {\"line\": {\"color\": \"#2a3f5f\"}}, \"ternary\": {\"aaxis\": {\"gridcolor\": \"white\", \"linecolor\": \"white\", \"ticks\": \"\"}, \"baxis\": {\"gridcolor\": \"white\", \"linecolor\": \"white\", \"ticks\": \"\"}, \"bgcolor\": \"#E5ECF6\", \"caxis\": {\"gridcolor\": \"white\", \"linecolor\": \"white\", \"ticks\": \"\"}}, \"title\": {\"x\": 0.05}, \"xaxis\": {\"automargin\": true, \"gridcolor\": \"white\", \"linecolor\": \"white\", \"ticks\": \"\", \"title\": {\"standoff\": 15}, \"zerolinecolor\": \"white\", \"zerolinewidth\": 2}, \"yaxis\": {\"automargin\": true, \"gridcolor\": \"white\", \"linecolor\": \"white\", \"ticks\": \"\", \"title\": {\"standoff\": 15}, \"zerolinecolor\": \"white\", \"zerolinewidth\": 2}}}},\n",
       "                        {\"responsive\": true}\n",
       "                    ).then(function(){\n",
       "                            \n",
       "var gd = document.getElementById('ebfdb3f6-d05f-4c8d-9b9d-2ab1e916d835');\n",
       "var x = new MutationObserver(function (mutations, observer) {{\n",
       "        var display = window.getComputedStyle(gd).display;\n",
       "        if (!display || display === 'none') {{\n",
       "            console.log([gd, 'removed!']);\n",
       "            Plotly.purge(gd);\n",
       "            observer.disconnect();\n",
       "        }}\n",
       "}});\n",
       "\n",
       "// Listen for the removal of the full notebook cells\n",
       "var notebookContainer = gd.closest('#notebook-container');\n",
       "if (notebookContainer) {{\n",
       "    x.observe(notebookContainer, {childList: true});\n",
       "}}\n",
       "\n",
       "// Listen for the clearing of the current output cell\n",
       "var outputEl = gd.closest('.output');\n",
       "if (outputEl) {{\n",
       "    x.observe(outputEl, {childList: true});\n",
       "}}\n",
       "\n",
       "                        })\n",
       "                };\n",
       "                });\n",
       "            </script>\n",
       "        </div>"
      ]
     },
     "metadata": {},
     "output_type": "display_data"
    }
   ],
   "source": [
    "fig = go.Figure()\n",
    "fig.add_trace(go.Box(y=get_words(\"CO\"), name=\"Crossover\", boxpoints=False))\n",
    "fig.add_trace(go.Box(y=get_words(\"PJ\"), name=\"Percy Jackson\", boxpoints=False))\n",
    "fig.add_trace(go.Box(y=get_words(\"HP\"), name=\"Harry Potter\", boxpoints=False))\n",
    "\n",
    "fig.show()"
   ]
  },
  {
   "cell_type": "markdown",
   "metadata": {},
   "source": [
    "### Autorenvergleich"
   ]
  },
  {
   "cell_type": "code",
   "execution_count": 96,
   "metadata": {},
   "outputs": [
    {
     "name": "stdout",
     "output_type": "stream",
     "text": [
      "CO+HP:   2\n",
      "CO+PJ:   22\n",
      "PJ+HP:   9\n",
      "CO+HP+PJ:   1\n"
     ]
    }
   ],
   "source": [
    "ns_hp_author = get_frequency(\"Author\", \"HP\", \"x\")\n",
    "ns_co_author = get_frequency(\"Author\", \"CO\", \"x\")\n",
    "ns_pj_author = get_frequency(\"Author\", \"PJ\", \"x\")\n",
    "\n",
    "shared_co_hp = set(ns_hp_author).intersection(ns_co_author)\n",
    "print(\"CO+HP:   \" + str(len(shared_co_hp)))\n",
    "\n",
    "shared_co_pj = set(ns_co_author).intersection(ns_pj_author)\n",
    "print(\"CO+PJ:   \" + str(len(shared_co_pj)))\n",
    "\n",
    "shared_pj_hp = set(ns_hp_author).intersection(ns_pj_author)\n",
    "print(\"PJ+HP:   \" + str(len(shared_pj_hp)))\n",
    "\n",
    "shared_pj_hp_co = set(ns_hp_author).intersection(ns_pj_author).intersection(ns_co_author)\n",
    "print(\"CO+HP+PJ:   \" + str(len(shared_pj_hp_co)))"
   ]
  },
  {
   "cell_type": "code",
   "execution_count": 99,
   "metadata": {},
   "outputs": [
    {
     "name": "stdout",
     "output_type": "stream",
     "text": [
      "373\n"
     ]
    }
   ],
   "source": [
    "print(len(get_frequency(\"Author\", \"CO\", \"x\")))"
   ]
  },
  {
   "cell_type": "markdown",
   "metadata": {},
   "source": [
    "### Additional Tag Charts"
   ]
  },
  {
   "cell_type": "code",
   "execution_count": 84,
   "metadata": {},
   "outputs": [],
   "source": [
    "hp_t = get_frequency(\"Tags\", \"hp\")\n",
    "hp_t_g = freq_graph(hp_t, 20)\n",
    "hp_t_g.update_layout(title = \"HP Additional Tags\" , yaxis_title=\"appearences\", xaxis_title=\"tag\")\n",
    "\n",
    "hp_t_g.write_image(\"images/hp-addtag.png\", scale = 4)"
   ]
  },
  {
   "cell_type": "code",
   "execution_count": 81,
   "metadata": {},
   "outputs": [],
   "source": [
    "pj_t = get_frequency(\"Tags\", \"pj\")\n",
    "pj_t_g = freq_graph(pj_t, 20)\n",
    "pj_t_g.update_layout(title = \"PJ Additional Tags\" , yaxis_title=\"appearences\", xaxis_title=\"tag\")\n",
    "\n",
    "pj_t_g.write_image(\"images/pj-addtag.png\", scale = 4)"
   ]
  },
  {
   "cell_type": "code",
   "execution_count": 82,
   "metadata": {},
   "outputs": [],
   "source": [
    "co_t = get_frequency(\"Tags\", \"co\")\n",
    "co_t_g = freq_graph(co_t, 20)\n",
    "co_t_g.update_layout(title = \"CO Additional Tags\" , yaxis_title=\"appearences\", xaxis_title=\"tag\")\n",
    "\n",
    "co_t_g.write_image(\"images/co-addtag.png\", scale = 4)"
   ]
  },
  {
   "cell_type": "markdown",
   "metadata": {},
   "source": [
    "### CO Relationships with Colors"
   ]
  },
  {
   "cell_type": "code",
   "execution_count": 102,
   "metadata": {},
   "outputs": [
    {
     "data": {
      "application/vnd.plotly.v1+json": {
       "config": {
        "plotlyServerURL": "https://plot.ly"
       },
       "data": [
        {
         "marker": {
          "color": [
           "#1f77b4",
           "#1f77b4",
           "#1f77b4",
           "#1f77b4",
           "#1f77b4",
           "#1f77b4",
           "#1f77b4",
           "red",
           "#1f77b4",
           "#1f77b4",
           "#1f77b4",
           "#1f77b4",
           "#1f77b4",
           "#1f77b4",
           "red",
           "#1f77b4",
           "#1f77b4",
           "#1f77b4",
           "#1f77b4",
           "#1f77b4",
           "#1f77b4",
           "#1f77b4",
           "#1f77b4",
           "#1f77b4",
           "#1f77b4",
           "#1f77b4",
           "#1f77b4",
           "#1f77b4",
           "#1f77b4",
           "#1f77b4",
           "#1f77b4",
           "#1f77b4",
           "#1f77b4",
           "#1f77b4",
           "#1f77b4",
           "#1f77b4",
           "#1f77b4",
           "#1f77b4",
           "#1f77b4",
           "#1f77b4"
          ]
         },
         "type": "bar",
         "x": [
          "Annabeth Chase/Percy Jackson",
          "Nico di Angelo/Will Solace",
          "Jason Grace/Piper McLean",
          "Hermione Granger/Ron Weasley",
          "Hazel Levesque/Frank Zhang",
          "Draco Malfoy/Harry Potter",
          "Harry Potter/Ginny Weasley",
          "Percy Jackson/Harry Potter",
          "Calypso/Leo Valdez",
          "Jason Grace/Percy Jackson",
          "Thalia Grace/Reyna Avila Ramírez-Arellano",
          "Hermione Granger/Harry Potter",
          "Sirius Black/Remus Lupin",
          "Hermione Granger & Harry Potter & Ron Weasley",
          "Nico di Angelo/Harry Potter",
          "Luna Lovegood/Ginny Weasley",
          "James Potter/Lily Evans Potter",
          "Nico di Angelo/Percy Jackson",
          "Percy Jackson/Annabeth Chase",
          "Magnus Chase/Alex Fierro",
          "Seamus Finnigan/Dean Thomas",
          "Castiel/Dean Winchester",
          "Hermione Granger/Draco Malfoy",
          "Paul Blofis/Sally Jackson",
          "Gabriel/Sam Winchester",
          "Steve Rogers/Tony Stark",
          "Hades/Persephone (Percy Jackson)",
          "Nico di Angelo & Will Solace",
          "Annabeth Chase & Percy Jackson",
          "Nico di Angelo & Percy Jackson"
         ],
         "y": [
          157,
          84,
          60,
          56,
          52,
          36,
          33,
          33,
          32,
          14,
          13,
          11,
          11,
          10,
          10,
          9,
          9,
          9,
          8,
          8,
          8,
          8,
          7,
          7,
          7,
          7,
          6,
          6,
          6,
          6
         ]
        }
       ],
       "layout": {
        "template": {
         "data": {
          "bar": [
           {
            "error_x": {
             "color": "#2a3f5f"
            },
            "error_y": {
             "color": "#2a3f5f"
            },
            "marker": {
             "line": {
              "color": "#E5ECF6",
              "width": 0.5
             }
            },
            "type": "bar"
           }
          ],
          "barpolar": [
           {
            "marker": {
             "line": {
              "color": "#E5ECF6",
              "width": 0.5
             }
            },
            "type": "barpolar"
           }
          ],
          "carpet": [
           {
            "aaxis": {
             "endlinecolor": "#2a3f5f",
             "gridcolor": "white",
             "linecolor": "white",
             "minorgridcolor": "white",
             "startlinecolor": "#2a3f5f"
            },
            "baxis": {
             "endlinecolor": "#2a3f5f",
             "gridcolor": "white",
             "linecolor": "white",
             "minorgridcolor": "white",
             "startlinecolor": "#2a3f5f"
            },
            "type": "carpet"
           }
          ],
          "choropleth": [
           {
            "colorbar": {
             "outlinewidth": 0,
             "ticks": ""
            },
            "type": "choropleth"
           }
          ],
          "contour": [
           {
            "colorbar": {
             "outlinewidth": 0,
             "ticks": ""
            },
            "colorscale": [
             [
              0,
              "#0d0887"
             ],
             [
              0.1111111111111111,
              "#46039f"
             ],
             [
              0.2222222222222222,
              "#7201a8"
             ],
             [
              0.3333333333333333,
              "#9c179e"
             ],
             [
              0.4444444444444444,
              "#bd3786"
             ],
             [
              0.5555555555555556,
              "#d8576b"
             ],
             [
              0.6666666666666666,
              "#ed7953"
             ],
             [
              0.7777777777777778,
              "#fb9f3a"
             ],
             [
              0.8888888888888888,
              "#fdca26"
             ],
             [
              1,
              "#f0f921"
             ]
            ],
            "type": "contour"
           }
          ],
          "contourcarpet": [
           {
            "colorbar": {
             "outlinewidth": 0,
             "ticks": ""
            },
            "type": "contourcarpet"
           }
          ],
          "heatmap": [
           {
            "colorbar": {
             "outlinewidth": 0,
             "ticks": ""
            },
            "colorscale": [
             [
              0,
              "#0d0887"
             ],
             [
              0.1111111111111111,
              "#46039f"
             ],
             [
              0.2222222222222222,
              "#7201a8"
             ],
             [
              0.3333333333333333,
              "#9c179e"
             ],
             [
              0.4444444444444444,
              "#bd3786"
             ],
             [
              0.5555555555555556,
              "#d8576b"
             ],
             [
              0.6666666666666666,
              "#ed7953"
             ],
             [
              0.7777777777777778,
              "#fb9f3a"
             ],
             [
              0.8888888888888888,
              "#fdca26"
             ],
             [
              1,
              "#f0f921"
             ]
            ],
            "type": "heatmap"
           }
          ],
          "heatmapgl": [
           {
            "colorbar": {
             "outlinewidth": 0,
             "ticks": ""
            },
            "colorscale": [
             [
              0,
              "#0d0887"
             ],
             [
              0.1111111111111111,
              "#46039f"
             ],
             [
              0.2222222222222222,
              "#7201a8"
             ],
             [
              0.3333333333333333,
              "#9c179e"
             ],
             [
              0.4444444444444444,
              "#bd3786"
             ],
             [
              0.5555555555555556,
              "#d8576b"
             ],
             [
              0.6666666666666666,
              "#ed7953"
             ],
             [
              0.7777777777777778,
              "#fb9f3a"
             ],
             [
              0.8888888888888888,
              "#fdca26"
             ],
             [
              1,
              "#f0f921"
             ]
            ],
            "type": "heatmapgl"
           }
          ],
          "histogram": [
           {
            "marker": {
             "colorbar": {
              "outlinewidth": 0,
              "ticks": ""
             }
            },
            "type": "histogram"
           }
          ],
          "histogram2d": [
           {
            "colorbar": {
             "outlinewidth": 0,
             "ticks": ""
            },
            "colorscale": [
             [
              0,
              "#0d0887"
             ],
             [
              0.1111111111111111,
              "#46039f"
             ],
             [
              0.2222222222222222,
              "#7201a8"
             ],
             [
              0.3333333333333333,
              "#9c179e"
             ],
             [
              0.4444444444444444,
              "#bd3786"
             ],
             [
              0.5555555555555556,
              "#d8576b"
             ],
             [
              0.6666666666666666,
              "#ed7953"
             ],
             [
              0.7777777777777778,
              "#fb9f3a"
             ],
             [
              0.8888888888888888,
              "#fdca26"
             ],
             [
              1,
              "#f0f921"
             ]
            ],
            "type": "histogram2d"
           }
          ],
          "histogram2dcontour": [
           {
            "colorbar": {
             "outlinewidth": 0,
             "ticks": ""
            },
            "colorscale": [
             [
              0,
              "#0d0887"
             ],
             [
              0.1111111111111111,
              "#46039f"
             ],
             [
              0.2222222222222222,
              "#7201a8"
             ],
             [
              0.3333333333333333,
              "#9c179e"
             ],
             [
              0.4444444444444444,
              "#bd3786"
             ],
             [
              0.5555555555555556,
              "#d8576b"
             ],
             [
              0.6666666666666666,
              "#ed7953"
             ],
             [
              0.7777777777777778,
              "#fb9f3a"
             ],
             [
              0.8888888888888888,
              "#fdca26"
             ],
             [
              1,
              "#f0f921"
             ]
            ],
            "type": "histogram2dcontour"
           }
          ],
          "mesh3d": [
           {
            "colorbar": {
             "outlinewidth": 0,
             "ticks": ""
            },
            "type": "mesh3d"
           }
          ],
          "parcoords": [
           {
            "line": {
             "colorbar": {
              "outlinewidth": 0,
              "ticks": ""
             }
            },
            "type": "parcoords"
           }
          ],
          "pie": [
           {
            "automargin": true,
            "type": "pie"
           }
          ],
          "scatter": [
           {
            "marker": {
             "colorbar": {
              "outlinewidth": 0,
              "ticks": ""
             }
            },
            "type": "scatter"
           }
          ],
          "scatter3d": [
           {
            "line": {
             "colorbar": {
              "outlinewidth": 0,
              "ticks": ""
             }
            },
            "marker": {
             "colorbar": {
              "outlinewidth": 0,
              "ticks": ""
             }
            },
            "type": "scatter3d"
           }
          ],
          "scattercarpet": [
           {
            "marker": {
             "colorbar": {
              "outlinewidth": 0,
              "ticks": ""
             }
            },
            "type": "scattercarpet"
           }
          ],
          "scattergeo": [
           {
            "marker": {
             "colorbar": {
              "outlinewidth": 0,
              "ticks": ""
             }
            },
            "type": "scattergeo"
           }
          ],
          "scattergl": [
           {
            "marker": {
             "colorbar": {
              "outlinewidth": 0,
              "ticks": ""
             }
            },
            "type": "scattergl"
           }
          ],
          "scattermapbox": [
           {
            "marker": {
             "colorbar": {
              "outlinewidth": 0,
              "ticks": ""
             }
            },
            "type": "scattermapbox"
           }
          ],
          "scatterpolar": [
           {
            "marker": {
             "colorbar": {
              "outlinewidth": 0,
              "ticks": ""
             }
            },
            "type": "scatterpolar"
           }
          ],
          "scatterpolargl": [
           {
            "marker": {
             "colorbar": {
              "outlinewidth": 0,
              "ticks": ""
             }
            },
            "type": "scatterpolargl"
           }
          ],
          "scatterternary": [
           {
            "marker": {
             "colorbar": {
              "outlinewidth": 0,
              "ticks": ""
             }
            },
            "type": "scatterternary"
           }
          ],
          "surface": [
           {
            "colorbar": {
             "outlinewidth": 0,
             "ticks": ""
            },
            "colorscale": [
             [
              0,
              "#0d0887"
             ],
             [
              0.1111111111111111,
              "#46039f"
             ],
             [
              0.2222222222222222,
              "#7201a8"
             ],
             [
              0.3333333333333333,
              "#9c179e"
             ],
             [
              0.4444444444444444,
              "#bd3786"
             ],
             [
              0.5555555555555556,
              "#d8576b"
             ],
             [
              0.6666666666666666,
              "#ed7953"
             ],
             [
              0.7777777777777778,
              "#fb9f3a"
             ],
             [
              0.8888888888888888,
              "#fdca26"
             ],
             [
              1,
              "#f0f921"
             ]
            ],
            "type": "surface"
           }
          ],
          "table": [
           {
            "cells": {
             "fill": {
              "color": "#EBF0F8"
             },
             "line": {
              "color": "white"
             }
            },
            "header": {
             "fill": {
              "color": "#C8D4E3"
             },
             "line": {
              "color": "white"
             }
            },
            "type": "table"
           }
          ]
         },
         "layout": {
          "annotationdefaults": {
           "arrowcolor": "#2a3f5f",
           "arrowhead": 0,
           "arrowwidth": 1
          },
          "coloraxis": {
           "colorbar": {
            "outlinewidth": 0,
            "ticks": ""
           }
          },
          "colorscale": {
           "diverging": [
            [
             0,
             "#8e0152"
            ],
            [
             0.1,
             "#c51b7d"
            ],
            [
             0.2,
             "#de77ae"
            ],
            [
             0.3,
             "#f1b6da"
            ],
            [
             0.4,
             "#fde0ef"
            ],
            [
             0.5,
             "#f7f7f7"
            ],
            [
             0.6,
             "#e6f5d0"
            ],
            [
             0.7,
             "#b8e186"
            ],
            [
             0.8,
             "#7fbc41"
            ],
            [
             0.9,
             "#4d9221"
            ],
            [
             1,
             "#276419"
            ]
           ],
           "sequential": [
            [
             0,
             "#0d0887"
            ],
            [
             0.1111111111111111,
             "#46039f"
            ],
            [
             0.2222222222222222,
             "#7201a8"
            ],
            [
             0.3333333333333333,
             "#9c179e"
            ],
            [
             0.4444444444444444,
             "#bd3786"
            ],
            [
             0.5555555555555556,
             "#d8576b"
            ],
            [
             0.6666666666666666,
             "#ed7953"
            ],
            [
             0.7777777777777778,
             "#fb9f3a"
            ],
            [
             0.8888888888888888,
             "#fdca26"
            ],
            [
             1,
             "#f0f921"
            ]
           ],
           "sequentialminus": [
            [
             0,
             "#0d0887"
            ],
            [
             0.1111111111111111,
             "#46039f"
            ],
            [
             0.2222222222222222,
             "#7201a8"
            ],
            [
             0.3333333333333333,
             "#9c179e"
            ],
            [
             0.4444444444444444,
             "#bd3786"
            ],
            [
             0.5555555555555556,
             "#d8576b"
            ],
            [
             0.6666666666666666,
             "#ed7953"
            ],
            [
             0.7777777777777778,
             "#fb9f3a"
            ],
            [
             0.8888888888888888,
             "#fdca26"
            ],
            [
             1,
             "#f0f921"
            ]
           ]
          },
          "colorway": [
           "#636efa",
           "#EF553B",
           "#00cc96",
           "#ab63fa",
           "#FFA15A",
           "#19d3f3",
           "#FF6692",
           "#B6E880",
           "#FF97FF",
           "#FECB52"
          ],
          "font": {
           "color": "#2a3f5f"
          },
          "geo": {
           "bgcolor": "white",
           "lakecolor": "white",
           "landcolor": "#E5ECF6",
           "showlakes": true,
           "showland": true,
           "subunitcolor": "white"
          },
          "hoverlabel": {
           "align": "left"
          },
          "hovermode": "closest",
          "mapbox": {
           "style": "light"
          },
          "paper_bgcolor": "white",
          "plot_bgcolor": "#E5ECF6",
          "polar": {
           "angularaxis": {
            "gridcolor": "white",
            "linecolor": "white",
            "ticks": ""
           },
           "bgcolor": "#E5ECF6",
           "radialaxis": {
            "gridcolor": "white",
            "linecolor": "white",
            "ticks": ""
           }
          },
          "scene": {
           "xaxis": {
            "backgroundcolor": "#E5ECF6",
            "gridcolor": "white",
            "gridwidth": 2,
            "linecolor": "white",
            "showbackground": true,
            "ticks": "",
            "zerolinecolor": "white"
           },
           "yaxis": {
            "backgroundcolor": "#E5ECF6",
            "gridcolor": "white",
            "gridwidth": 2,
            "linecolor": "white",
            "showbackground": true,
            "ticks": "",
            "zerolinecolor": "white"
           },
           "zaxis": {
            "backgroundcolor": "#E5ECF6",
            "gridcolor": "white",
            "gridwidth": 2,
            "linecolor": "white",
            "showbackground": true,
            "ticks": "",
            "zerolinecolor": "white"
           }
          },
          "shapedefaults": {
           "line": {
            "color": "#2a3f5f"
           }
          },
          "ternary": {
           "aaxis": {
            "gridcolor": "white",
            "linecolor": "white",
            "ticks": ""
           },
           "baxis": {
            "gridcolor": "white",
            "linecolor": "white",
            "ticks": ""
           },
           "bgcolor": "#E5ECF6",
           "caxis": {
            "gridcolor": "white",
            "linecolor": "white",
            "ticks": ""
           }
          },
          "title": {
           "x": 0.05
          },
          "xaxis": {
           "automargin": true,
           "gridcolor": "white",
           "linecolor": "white",
           "ticks": "",
           "title": {
            "standoff": 15
           },
           "zerolinecolor": "white",
           "zerolinewidth": 2
          },
          "yaxis": {
           "automargin": true,
           "gridcolor": "white",
           "linecolor": "white",
           "ticks": "",
           "title": {
            "standoff": 15
           },
           "zerolinecolor": "white",
           "zerolinewidth": 2
          }
         }
        },
        "title": {
         "text": "CO Relationship Tags"
        },
        "xaxis": {
         "title": {
          "text": "raltionship tag"
         }
        },
        "yaxis": {
         "automargin": true,
         "title": {
          "text": "appearences"
         }
        }
       }
      },
      "text/html": [
       "<div>\n",
       "        \n",
       "        \n",
       "            <div id=\"e26add94-d920-4eb4-af7a-a2d2007f737e\" class=\"plotly-graph-div\" style=\"height:525px; width:100%;\"></div>\n",
       "            <script type=\"text/javascript\">\n",
       "                require([\"plotly\"], function(Plotly) {\n",
       "                    window.PLOTLYENV=window.PLOTLYENV || {};\n",
       "                    \n",
       "                if (document.getElementById(\"e26add94-d920-4eb4-af7a-a2d2007f737e\")) {\n",
       "                    Plotly.newPlot(\n",
       "                        'e26add94-d920-4eb4-af7a-a2d2007f737e',\n",
       "                        [{\"marker\": {\"color\": [\"#1f77b4\", \"#1f77b4\", \"#1f77b4\", \"#1f77b4\", \"#1f77b4\", \"#1f77b4\", \"#1f77b4\", \"red\", \"#1f77b4\", \"#1f77b4\", \"#1f77b4\", \"#1f77b4\", \"#1f77b4\", \"#1f77b4\", \"red\", \"#1f77b4\", \"#1f77b4\", \"#1f77b4\", \"#1f77b4\", \"#1f77b4\", \"#1f77b4\", \"#1f77b4\", \"#1f77b4\", \"#1f77b4\", \"#1f77b4\", \"#1f77b4\", \"#1f77b4\", \"#1f77b4\", \"#1f77b4\", \"#1f77b4\", \"#1f77b4\", \"#1f77b4\", \"#1f77b4\", \"#1f77b4\", \"#1f77b4\", \"#1f77b4\", \"#1f77b4\", \"#1f77b4\", \"#1f77b4\", \"#1f77b4\"]}, \"type\": \"bar\", \"x\": [\"Annabeth Chase/Percy Jackson\", \"Nico di Angelo/Will Solace\", \"Jason Grace/Piper McLean\", \"Hermione Granger/Ron Weasley\", \"Hazel Levesque/Frank Zhang\", \"Draco Malfoy/Harry Potter\", \"Harry Potter/Ginny Weasley\", \"Percy Jackson/Harry Potter\", \"Calypso/Leo Valdez\", \"Jason Grace/Percy Jackson\", \"Thalia Grace/Reyna Avila Ram\\u00edrez-Arellano\", \"Hermione Granger/Harry Potter\", \"Sirius Black/Remus Lupin\", \"Hermione Granger & Harry Potter & Ron Weasley\", \"Nico di Angelo/Harry Potter\", \"Luna Lovegood/Ginny Weasley\", \"James Potter/Lily Evans Potter\", \"Nico di Angelo/Percy Jackson\", \"Percy Jackson/Annabeth Chase\", \"Magnus Chase/Alex Fierro\", \"Seamus Finnigan/Dean Thomas\", \"Castiel/Dean Winchester\", \"Hermione Granger/Draco Malfoy\", \"Paul Blofis/Sally Jackson\", \"Gabriel/Sam Winchester\", \"Steve Rogers/Tony Stark\", \"Hades/Persephone (Percy Jackson)\", \"Nico di Angelo & Will Solace\", \"Annabeth Chase & Percy Jackson\", \"Nico di Angelo & Percy Jackson\"], \"y\": [157, 84, 60, 56, 52, 36, 33, 33, 32, 14, 13, 11, 11, 10, 10, 9, 9, 9, 8, 8, 8, 8, 7, 7, 7, 7, 6, 6, 6, 6]}],\n",
       "                        {\"template\": {\"data\": {\"bar\": [{\"error_x\": {\"color\": \"#2a3f5f\"}, \"error_y\": {\"color\": \"#2a3f5f\"}, \"marker\": {\"line\": {\"color\": \"#E5ECF6\", \"width\": 0.5}}, \"type\": \"bar\"}], \"barpolar\": [{\"marker\": {\"line\": {\"color\": \"#E5ECF6\", \"width\": 0.5}}, \"type\": \"barpolar\"}], \"carpet\": [{\"aaxis\": {\"endlinecolor\": \"#2a3f5f\", \"gridcolor\": \"white\", \"linecolor\": \"white\", \"minorgridcolor\": \"white\", \"startlinecolor\": \"#2a3f5f\"}, \"baxis\": {\"endlinecolor\": \"#2a3f5f\", \"gridcolor\": \"white\", \"linecolor\": \"white\", \"minorgridcolor\": \"white\", \"startlinecolor\": \"#2a3f5f\"}, \"type\": \"carpet\"}], \"choropleth\": [{\"colorbar\": {\"outlinewidth\": 0, \"ticks\": \"\"}, \"type\": \"choropleth\"}], \"contour\": [{\"colorbar\": {\"outlinewidth\": 0, \"ticks\": \"\"}, \"colorscale\": [[0.0, \"#0d0887\"], [0.1111111111111111, \"#46039f\"], [0.2222222222222222, \"#7201a8\"], [0.3333333333333333, \"#9c179e\"], [0.4444444444444444, \"#bd3786\"], [0.5555555555555556, \"#d8576b\"], [0.6666666666666666, \"#ed7953\"], [0.7777777777777778, \"#fb9f3a\"], [0.8888888888888888, \"#fdca26\"], [1.0, \"#f0f921\"]], \"type\": \"contour\"}], \"contourcarpet\": [{\"colorbar\": {\"outlinewidth\": 0, \"ticks\": \"\"}, \"type\": \"contourcarpet\"}], \"heatmap\": [{\"colorbar\": {\"outlinewidth\": 0, \"ticks\": \"\"}, \"colorscale\": [[0.0, \"#0d0887\"], [0.1111111111111111, \"#46039f\"], [0.2222222222222222, \"#7201a8\"], [0.3333333333333333, \"#9c179e\"], [0.4444444444444444, \"#bd3786\"], [0.5555555555555556, \"#d8576b\"], [0.6666666666666666, \"#ed7953\"], [0.7777777777777778, \"#fb9f3a\"], [0.8888888888888888, \"#fdca26\"], [1.0, \"#f0f921\"]], \"type\": \"heatmap\"}], \"heatmapgl\": [{\"colorbar\": {\"outlinewidth\": 0, \"ticks\": \"\"}, \"colorscale\": [[0.0, \"#0d0887\"], [0.1111111111111111, \"#46039f\"], [0.2222222222222222, \"#7201a8\"], [0.3333333333333333, \"#9c179e\"], [0.4444444444444444, \"#bd3786\"], [0.5555555555555556, \"#d8576b\"], [0.6666666666666666, \"#ed7953\"], [0.7777777777777778, \"#fb9f3a\"], [0.8888888888888888, \"#fdca26\"], [1.0, \"#f0f921\"]], \"type\": \"heatmapgl\"}], \"histogram\": [{\"marker\": {\"colorbar\": {\"outlinewidth\": 0, \"ticks\": \"\"}}, \"type\": \"histogram\"}], \"histogram2d\": [{\"colorbar\": {\"outlinewidth\": 0, \"ticks\": \"\"}, \"colorscale\": [[0.0, \"#0d0887\"], [0.1111111111111111, \"#46039f\"], [0.2222222222222222, \"#7201a8\"], [0.3333333333333333, \"#9c179e\"], [0.4444444444444444, \"#bd3786\"], [0.5555555555555556, \"#d8576b\"], [0.6666666666666666, \"#ed7953\"], [0.7777777777777778, \"#fb9f3a\"], [0.8888888888888888, \"#fdca26\"], [1.0, \"#f0f921\"]], \"type\": \"histogram2d\"}], \"histogram2dcontour\": [{\"colorbar\": {\"outlinewidth\": 0, \"ticks\": \"\"}, \"colorscale\": [[0.0, \"#0d0887\"], [0.1111111111111111, \"#46039f\"], [0.2222222222222222, \"#7201a8\"], [0.3333333333333333, \"#9c179e\"], [0.4444444444444444, \"#bd3786\"], [0.5555555555555556, \"#d8576b\"], [0.6666666666666666, \"#ed7953\"], [0.7777777777777778, \"#fb9f3a\"], [0.8888888888888888, \"#fdca26\"], [1.0, \"#f0f921\"]], \"type\": \"histogram2dcontour\"}], \"mesh3d\": [{\"colorbar\": {\"outlinewidth\": 0, \"ticks\": \"\"}, \"type\": \"mesh3d\"}], \"parcoords\": [{\"line\": {\"colorbar\": {\"outlinewidth\": 0, \"ticks\": \"\"}}, \"type\": \"parcoords\"}], \"pie\": [{\"automargin\": true, \"type\": \"pie\"}], \"scatter\": [{\"marker\": {\"colorbar\": {\"outlinewidth\": 0, \"ticks\": \"\"}}, \"type\": \"scatter\"}], \"scatter3d\": [{\"line\": {\"colorbar\": {\"outlinewidth\": 0, \"ticks\": \"\"}}, \"marker\": {\"colorbar\": {\"outlinewidth\": 0, \"ticks\": \"\"}}, \"type\": \"scatter3d\"}], \"scattercarpet\": [{\"marker\": {\"colorbar\": {\"outlinewidth\": 0, \"ticks\": \"\"}}, \"type\": \"scattercarpet\"}], \"scattergeo\": [{\"marker\": {\"colorbar\": {\"outlinewidth\": 0, \"ticks\": \"\"}}, \"type\": \"scattergeo\"}], \"scattergl\": [{\"marker\": {\"colorbar\": {\"outlinewidth\": 0, \"ticks\": \"\"}}, \"type\": \"scattergl\"}], \"scattermapbox\": [{\"marker\": {\"colorbar\": {\"outlinewidth\": 0, \"ticks\": \"\"}}, \"type\": \"scattermapbox\"}], \"scatterpolar\": [{\"marker\": {\"colorbar\": {\"outlinewidth\": 0, \"ticks\": \"\"}}, \"type\": \"scatterpolar\"}], \"scatterpolargl\": [{\"marker\": {\"colorbar\": {\"outlinewidth\": 0, \"ticks\": \"\"}}, \"type\": \"scatterpolargl\"}], \"scatterternary\": [{\"marker\": {\"colorbar\": {\"outlinewidth\": 0, \"ticks\": \"\"}}, \"type\": \"scatterternary\"}], \"surface\": [{\"colorbar\": {\"outlinewidth\": 0, \"ticks\": \"\"}, \"colorscale\": [[0.0, \"#0d0887\"], [0.1111111111111111, \"#46039f\"], [0.2222222222222222, \"#7201a8\"], [0.3333333333333333, \"#9c179e\"], [0.4444444444444444, \"#bd3786\"], [0.5555555555555556, \"#d8576b\"], [0.6666666666666666, \"#ed7953\"], [0.7777777777777778, \"#fb9f3a\"], [0.8888888888888888, \"#fdca26\"], [1.0, \"#f0f921\"]], \"type\": \"surface\"}], \"table\": [{\"cells\": {\"fill\": {\"color\": \"#EBF0F8\"}, \"line\": {\"color\": \"white\"}}, \"header\": {\"fill\": {\"color\": \"#C8D4E3\"}, \"line\": {\"color\": \"white\"}}, \"type\": \"table\"}]}, \"layout\": {\"annotationdefaults\": {\"arrowcolor\": \"#2a3f5f\", \"arrowhead\": 0, \"arrowwidth\": 1}, \"coloraxis\": {\"colorbar\": {\"outlinewidth\": 0, \"ticks\": \"\"}}, \"colorscale\": {\"diverging\": [[0, \"#8e0152\"], [0.1, \"#c51b7d\"], [0.2, \"#de77ae\"], [0.3, \"#f1b6da\"], [0.4, \"#fde0ef\"], [0.5, \"#f7f7f7\"], [0.6, \"#e6f5d0\"], [0.7, \"#b8e186\"], [0.8, \"#7fbc41\"], [0.9, \"#4d9221\"], [1, \"#276419\"]], \"sequential\": [[0.0, \"#0d0887\"], [0.1111111111111111, \"#46039f\"], [0.2222222222222222, \"#7201a8\"], [0.3333333333333333, \"#9c179e\"], [0.4444444444444444, \"#bd3786\"], [0.5555555555555556, \"#d8576b\"], [0.6666666666666666, \"#ed7953\"], [0.7777777777777778, \"#fb9f3a\"], [0.8888888888888888, \"#fdca26\"], [1.0, \"#f0f921\"]], \"sequentialminus\": [[0.0, \"#0d0887\"], [0.1111111111111111, \"#46039f\"], [0.2222222222222222, \"#7201a8\"], [0.3333333333333333, \"#9c179e\"], [0.4444444444444444, \"#bd3786\"], [0.5555555555555556, \"#d8576b\"], [0.6666666666666666, \"#ed7953\"], [0.7777777777777778, \"#fb9f3a\"], [0.8888888888888888, \"#fdca26\"], [1.0, \"#f0f921\"]]}, \"colorway\": [\"#636efa\", \"#EF553B\", \"#00cc96\", \"#ab63fa\", \"#FFA15A\", \"#19d3f3\", \"#FF6692\", \"#B6E880\", \"#FF97FF\", \"#FECB52\"], \"font\": {\"color\": \"#2a3f5f\"}, \"geo\": {\"bgcolor\": \"white\", \"lakecolor\": \"white\", \"landcolor\": \"#E5ECF6\", \"showlakes\": true, \"showland\": true, \"subunitcolor\": \"white\"}, \"hoverlabel\": {\"align\": \"left\"}, \"hovermode\": \"closest\", \"mapbox\": {\"style\": \"light\"}, \"paper_bgcolor\": \"white\", \"plot_bgcolor\": \"#E5ECF6\", \"polar\": {\"angularaxis\": {\"gridcolor\": \"white\", \"linecolor\": \"white\", \"ticks\": \"\"}, \"bgcolor\": \"#E5ECF6\", \"radialaxis\": {\"gridcolor\": \"white\", \"linecolor\": \"white\", \"ticks\": \"\"}}, \"scene\": {\"xaxis\": {\"backgroundcolor\": \"#E5ECF6\", \"gridcolor\": \"white\", \"gridwidth\": 2, \"linecolor\": \"white\", \"showbackground\": true, \"ticks\": \"\", \"zerolinecolor\": \"white\"}, \"yaxis\": {\"backgroundcolor\": \"#E5ECF6\", \"gridcolor\": \"white\", \"gridwidth\": 2, \"linecolor\": \"white\", \"showbackground\": true, \"ticks\": \"\", \"zerolinecolor\": \"white\"}, \"zaxis\": {\"backgroundcolor\": \"#E5ECF6\", \"gridcolor\": \"white\", \"gridwidth\": 2, \"linecolor\": \"white\", \"showbackground\": true, \"ticks\": \"\", \"zerolinecolor\": \"white\"}}, \"shapedefaults\": {\"line\": {\"color\": \"#2a3f5f\"}}, \"ternary\": {\"aaxis\": {\"gridcolor\": \"white\", \"linecolor\": \"white\", \"ticks\": \"\"}, \"baxis\": {\"gridcolor\": \"white\", \"linecolor\": \"white\", \"ticks\": \"\"}, \"bgcolor\": \"#E5ECF6\", \"caxis\": {\"gridcolor\": \"white\", \"linecolor\": \"white\", \"ticks\": \"\"}}, \"title\": {\"x\": 0.05}, \"xaxis\": {\"automargin\": true, \"gridcolor\": \"white\", \"linecolor\": \"white\", \"ticks\": \"\", \"title\": {\"standoff\": 15}, \"zerolinecolor\": \"white\", \"zerolinewidth\": 2}, \"yaxis\": {\"automargin\": true, \"gridcolor\": \"white\", \"linecolor\": \"white\", \"ticks\": \"\", \"title\": {\"standoff\": 15}, \"zerolinecolor\": \"white\", \"zerolinewidth\": 2}}}, \"title\": {\"text\": \"CO Relationship Tags\"}, \"xaxis\": {\"title\": {\"text\": \"raltionship tag\"}}, \"yaxis\": {\"automargin\": true, \"title\": {\"text\": \"appearences\"}}},\n",
       "                        {\"responsive\": true}\n",
       "                    ).then(function(){\n",
       "                            \n",
       "var gd = document.getElementById('e26add94-d920-4eb4-af7a-a2d2007f737e');\n",
       "var x = new MutationObserver(function (mutations, observer) {{\n",
       "        var display = window.getComputedStyle(gd).display;\n",
       "        if (!display || display === 'none') {{\n",
       "            console.log([gd, 'removed!']);\n",
       "            Plotly.purge(gd);\n",
       "            observer.disconnect();\n",
       "        }}\n",
       "}});\n",
       "\n",
       "// Listen for the removal of the full notebook cells\n",
       "var notebookContainer = gd.closest('#notebook-container');\n",
       "if (notebookContainer) {{\n",
       "    x.observe(notebookContainer, {childList: true});\n",
       "}}\n",
       "\n",
       "// Listen for the clearing of the current output cell\n",
       "var outputEl = gd.closest('.output');\n",
       "if (outputEl) {{\n",
       "    x.observe(outputEl, {childList: true});\n",
       "}}\n",
       "\n",
       "                        })\n",
       "                };\n",
       "                });\n",
       "            </script>\n",
       "        </div>"
      ]
     },
     "metadata": {},
     "output_type": "display_data"
    }
   ],
   "source": [
    "cco_r = get_frequency(\"Relationships\", \"co\")\n",
    "\n",
    "for c in cco_r:\n",
    "    if c[0] == \"Percy Jackson & Harry Potter\":\n",
    "        count1 = c[1]\n",
    "        cco_r.remove(c)\n",
    "    if c[0] == \"Percy Jackson/Harry Potter\":\n",
    "        count2 = c[1]\n",
    "        cco_r.remove(c)\n",
    "new = (\"Percy Jackson/Harry Potter\", count1+count2)\n",
    "cco_r.append(new)\n",
    "cco_r = sorted(cco_r, key = lambda x: x[1], reverse=True)\n",
    "\n",
    "colors = ['#1f77b4',] * 40\n",
    "\n",
    "red = [7, 14]\n",
    "for i in red:\n",
    "    colors[i] = 'red'\n",
    "\n",
    "x = []\n",
    "y = []\n",
    "    \n",
    "for item in cco_r:\n",
    "    x.append(item[0])\n",
    "    y.append(item[1])\n",
    "\n",
    "count = 30\n",
    "cco_r_g = go.Figure([go.Bar(x=x[:count], y = y[:count], marker_color = colors)])\n",
    "    \n",
    "cco_r_g.update_layout(title = \"CO Relationship Tags\" , yaxis_title=\"appearences\", xaxis_title=\"raltionship tag\")\n",
    "\n",
    "cco_r_g.update_yaxes(automargin=True)\n",
    "\n",
    "cco_r_g\n"
   ]
  },
  {
   "cell_type": "markdown",
   "metadata": {},
   "source": [
    "### CO Characters with Fandom Colors"
   ]
  },
  {
   "cell_type": "code",
   "execution_count": 66,
   "metadata": {
    "scrolled": true
   },
   "outputs": [],
   "source": [
    "cco_c = get_frequency(\"Characters\", \"co\")\n",
    "\n",
    "for c in cco_c:\n",
    "    if c[0] == \"Annabeth Chase (Percy Jackson)\":\n",
    "        count1 = c[1]\n",
    "        cco_c.remove(c)\n",
    "    if c[0] == \"Annabeth Chase\":\n",
    "        count2 = c[1]\n",
    "        cco_c.remove(c)\n",
    "new = (\"Annabeth Chase\", count1+count2)\n",
    "cco_c.append(new)\n",
    "cco_c = sorted(cco_c, key = lambda x: x[1], reverse=True)\n",
    "\n",
    "colors = ['#1f77b4',] * 40\n",
    "\n",
    "red  = [0, 2, 4, 6, 8, 9, 10, 11, 12, 15, 19, 25, 27, 28]\n",
    "\n",
    "for i in red:\n",
    "    colors[i] = 'red'\n",
    "    \n",
    "colors[29] = 'grey'\n",
    "\n",
    "x = []\n",
    "y = []\n",
    "    \n",
    "for item in cco_c:\n",
    "    x.append(item[0])\n",
    "    y.append(item[1])\n",
    "\n",
    "count = 30\n",
    "cco_c_g = go.Figure([go.Bar(x=x[:count], y = y[:count], marker_color = colors)])\n",
    "    \n",
    "cco_c_g.update_layout(title = \"CO Character Tags\", yaxis_title=\"appearences\", xaxis_title=\"character names\")\n",
    "\n",
    "cco_c_g\n",
    "\n",
    "cco_c_g.write_image(\"images/co-characters-marked.png\", scale = 4)"
   ]
  },
  {
   "cell_type": "markdown",
   "metadata": {},
   "source": [
    "### Versuch Duplikate mit fuzzywuzzy zu erkennen (verworfen)"
   ]
  },
  {
   "cell_type": "code",
   "execution_count": 9,
   "metadata": {},
   "outputs": [
    {
     "name": "stdout",
     "output_type": "stream",
     "text": [
      "ready\n"
     ]
    },
    {
     "data": {
      "application/vnd.plotly.v1+json": {
       "config": {
        "plotlyServerURL": "https://plot.ly"
       },
       "data": [
        {
         "type": "bar",
         "x": [
          "Annabeth Chase/Percy Jackson",
          "Nico di Angelo/Will Solace",
          "Jason Grace/Piper McLean",
          "Hermione Granger/Ron Weasley",
          "Hazel Levesque/Frank Zhang",
          "Draco Malfoy/Harry Potter",
          "Harry Potter/Ginny Weasley",
          "Calypso/Leo Valdez",
          "Percy Jackson/Harry Potter",
          "Jason Grace/Percy Jackson",
          "Thalia Grace/Reyna Avila Ramírez-Arellano",
          "Percy Jackson & Harry Potter",
          "Hermione Granger/Harry Potter",
          "Sirius Black/Remus Lupin",
          "Hermione Granger & Harry Potter & Ron Weasley",
          "Nico di Angelo/Harry Potter",
          "Luna Lovegood/Ginny Weasley",
          "James Potter/Lily Evans Potter",
          "Nico di Angelo/Percy Jackson",
          "Percy Jackson/Annabeth Chase"
         ],
         "y": [
          157,
          84,
          60,
          59,
          52,
          36,
          33,
          32,
          21,
          14,
          13,
          12,
          11,
          11,
          10,
          10,
          9,
          9,
          9,
          8
         ]
        }
       ],
       "layout": {
        "template": {
         "data": {
          "bar": [
           {
            "error_x": {
             "color": "#2a3f5f"
            },
            "error_y": {
             "color": "#2a3f5f"
            },
            "marker": {
             "line": {
              "color": "#E5ECF6",
              "width": 0.5
             }
            },
            "type": "bar"
           }
          ],
          "barpolar": [
           {
            "marker": {
             "line": {
              "color": "#E5ECF6",
              "width": 0.5
             }
            },
            "type": "barpolar"
           }
          ],
          "carpet": [
           {
            "aaxis": {
             "endlinecolor": "#2a3f5f",
             "gridcolor": "white",
             "linecolor": "white",
             "minorgridcolor": "white",
             "startlinecolor": "#2a3f5f"
            },
            "baxis": {
             "endlinecolor": "#2a3f5f",
             "gridcolor": "white",
             "linecolor": "white",
             "minorgridcolor": "white",
             "startlinecolor": "#2a3f5f"
            },
            "type": "carpet"
           }
          ],
          "choropleth": [
           {
            "colorbar": {
             "outlinewidth": 0,
             "ticks": ""
            },
            "type": "choropleth"
           }
          ],
          "contour": [
           {
            "colorbar": {
             "outlinewidth": 0,
             "ticks": ""
            },
            "colorscale": [
             [
              0,
              "#0d0887"
             ],
             [
              0.1111111111111111,
              "#46039f"
             ],
             [
              0.2222222222222222,
              "#7201a8"
             ],
             [
              0.3333333333333333,
              "#9c179e"
             ],
             [
              0.4444444444444444,
              "#bd3786"
             ],
             [
              0.5555555555555556,
              "#d8576b"
             ],
             [
              0.6666666666666666,
              "#ed7953"
             ],
             [
              0.7777777777777778,
              "#fb9f3a"
             ],
             [
              0.8888888888888888,
              "#fdca26"
             ],
             [
              1,
              "#f0f921"
             ]
            ],
            "type": "contour"
           }
          ],
          "contourcarpet": [
           {
            "colorbar": {
             "outlinewidth": 0,
             "ticks": ""
            },
            "type": "contourcarpet"
           }
          ],
          "heatmap": [
           {
            "colorbar": {
             "outlinewidth": 0,
             "ticks": ""
            },
            "colorscale": [
             [
              0,
              "#0d0887"
             ],
             [
              0.1111111111111111,
              "#46039f"
             ],
             [
              0.2222222222222222,
              "#7201a8"
             ],
             [
              0.3333333333333333,
              "#9c179e"
             ],
             [
              0.4444444444444444,
              "#bd3786"
             ],
             [
              0.5555555555555556,
              "#d8576b"
             ],
             [
              0.6666666666666666,
              "#ed7953"
             ],
             [
              0.7777777777777778,
              "#fb9f3a"
             ],
             [
              0.8888888888888888,
              "#fdca26"
             ],
             [
              1,
              "#f0f921"
             ]
            ],
            "type": "heatmap"
           }
          ],
          "heatmapgl": [
           {
            "colorbar": {
             "outlinewidth": 0,
             "ticks": ""
            },
            "colorscale": [
             [
              0,
              "#0d0887"
             ],
             [
              0.1111111111111111,
              "#46039f"
             ],
             [
              0.2222222222222222,
              "#7201a8"
             ],
             [
              0.3333333333333333,
              "#9c179e"
             ],
             [
              0.4444444444444444,
              "#bd3786"
             ],
             [
              0.5555555555555556,
              "#d8576b"
             ],
             [
              0.6666666666666666,
              "#ed7953"
             ],
             [
              0.7777777777777778,
              "#fb9f3a"
             ],
             [
              0.8888888888888888,
              "#fdca26"
             ],
             [
              1,
              "#f0f921"
             ]
            ],
            "type": "heatmapgl"
           }
          ],
          "histogram": [
           {
            "marker": {
             "colorbar": {
              "outlinewidth": 0,
              "ticks": ""
             }
            },
            "type": "histogram"
           }
          ],
          "histogram2d": [
           {
            "colorbar": {
             "outlinewidth": 0,
             "ticks": ""
            },
            "colorscale": [
             [
              0,
              "#0d0887"
             ],
             [
              0.1111111111111111,
              "#46039f"
             ],
             [
              0.2222222222222222,
              "#7201a8"
             ],
             [
              0.3333333333333333,
              "#9c179e"
             ],
             [
              0.4444444444444444,
              "#bd3786"
             ],
             [
              0.5555555555555556,
              "#d8576b"
             ],
             [
              0.6666666666666666,
              "#ed7953"
             ],
             [
              0.7777777777777778,
              "#fb9f3a"
             ],
             [
              0.8888888888888888,
              "#fdca26"
             ],
             [
              1,
              "#f0f921"
             ]
            ],
            "type": "histogram2d"
           }
          ],
          "histogram2dcontour": [
           {
            "colorbar": {
             "outlinewidth": 0,
             "ticks": ""
            },
            "colorscale": [
             [
              0,
              "#0d0887"
             ],
             [
              0.1111111111111111,
              "#46039f"
             ],
             [
              0.2222222222222222,
              "#7201a8"
             ],
             [
              0.3333333333333333,
              "#9c179e"
             ],
             [
              0.4444444444444444,
              "#bd3786"
             ],
             [
              0.5555555555555556,
              "#d8576b"
             ],
             [
              0.6666666666666666,
              "#ed7953"
             ],
             [
              0.7777777777777778,
              "#fb9f3a"
             ],
             [
              0.8888888888888888,
              "#fdca26"
             ],
             [
              1,
              "#f0f921"
             ]
            ],
            "type": "histogram2dcontour"
           }
          ],
          "mesh3d": [
           {
            "colorbar": {
             "outlinewidth": 0,
             "ticks": ""
            },
            "type": "mesh3d"
           }
          ],
          "parcoords": [
           {
            "line": {
             "colorbar": {
              "outlinewidth": 0,
              "ticks": ""
             }
            },
            "type": "parcoords"
           }
          ],
          "pie": [
           {
            "automargin": true,
            "type": "pie"
           }
          ],
          "scatter": [
           {
            "marker": {
             "colorbar": {
              "outlinewidth": 0,
              "ticks": ""
             }
            },
            "type": "scatter"
           }
          ],
          "scatter3d": [
           {
            "line": {
             "colorbar": {
              "outlinewidth": 0,
              "ticks": ""
             }
            },
            "marker": {
             "colorbar": {
              "outlinewidth": 0,
              "ticks": ""
             }
            },
            "type": "scatter3d"
           }
          ],
          "scattercarpet": [
           {
            "marker": {
             "colorbar": {
              "outlinewidth": 0,
              "ticks": ""
             }
            },
            "type": "scattercarpet"
           }
          ],
          "scattergeo": [
           {
            "marker": {
             "colorbar": {
              "outlinewidth": 0,
              "ticks": ""
             }
            },
            "type": "scattergeo"
           }
          ],
          "scattergl": [
           {
            "marker": {
             "colorbar": {
              "outlinewidth": 0,
              "ticks": ""
             }
            },
            "type": "scattergl"
           }
          ],
          "scattermapbox": [
           {
            "marker": {
             "colorbar": {
              "outlinewidth": 0,
              "ticks": ""
             }
            },
            "type": "scattermapbox"
           }
          ],
          "scatterpolar": [
           {
            "marker": {
             "colorbar": {
              "outlinewidth": 0,
              "ticks": ""
             }
            },
            "type": "scatterpolar"
           }
          ],
          "scatterpolargl": [
           {
            "marker": {
             "colorbar": {
              "outlinewidth": 0,
              "ticks": ""
             }
            },
            "type": "scatterpolargl"
           }
          ],
          "scatterternary": [
           {
            "marker": {
             "colorbar": {
              "outlinewidth": 0,
              "ticks": ""
             }
            },
            "type": "scatterternary"
           }
          ],
          "surface": [
           {
            "colorbar": {
             "outlinewidth": 0,
             "ticks": ""
            },
            "colorscale": [
             [
              0,
              "#0d0887"
             ],
             [
              0.1111111111111111,
              "#46039f"
             ],
             [
              0.2222222222222222,
              "#7201a8"
             ],
             [
              0.3333333333333333,
              "#9c179e"
             ],
             [
              0.4444444444444444,
              "#bd3786"
             ],
             [
              0.5555555555555556,
              "#d8576b"
             ],
             [
              0.6666666666666666,
              "#ed7953"
             ],
             [
              0.7777777777777778,
              "#fb9f3a"
             ],
             [
              0.8888888888888888,
              "#fdca26"
             ],
             [
              1,
              "#f0f921"
             ]
            ],
            "type": "surface"
           }
          ],
          "table": [
           {
            "cells": {
             "fill": {
              "color": "#EBF0F8"
             },
             "line": {
              "color": "white"
             }
            },
            "header": {
             "fill": {
              "color": "#C8D4E3"
             },
             "line": {
              "color": "white"
             }
            },
            "type": "table"
           }
          ]
         },
         "layout": {
          "annotationdefaults": {
           "arrowcolor": "#2a3f5f",
           "arrowhead": 0,
           "arrowwidth": 1
          },
          "coloraxis": {
           "colorbar": {
            "outlinewidth": 0,
            "ticks": ""
           }
          },
          "colorscale": {
           "diverging": [
            [
             0,
             "#8e0152"
            ],
            [
             0.1,
             "#c51b7d"
            ],
            [
             0.2,
             "#de77ae"
            ],
            [
             0.3,
             "#f1b6da"
            ],
            [
             0.4,
             "#fde0ef"
            ],
            [
             0.5,
             "#f7f7f7"
            ],
            [
             0.6,
             "#e6f5d0"
            ],
            [
             0.7,
             "#b8e186"
            ],
            [
             0.8,
             "#7fbc41"
            ],
            [
             0.9,
             "#4d9221"
            ],
            [
             1,
             "#276419"
            ]
           ],
           "sequential": [
            [
             0,
             "#0d0887"
            ],
            [
             0.1111111111111111,
             "#46039f"
            ],
            [
             0.2222222222222222,
             "#7201a8"
            ],
            [
             0.3333333333333333,
             "#9c179e"
            ],
            [
             0.4444444444444444,
             "#bd3786"
            ],
            [
             0.5555555555555556,
             "#d8576b"
            ],
            [
             0.6666666666666666,
             "#ed7953"
            ],
            [
             0.7777777777777778,
             "#fb9f3a"
            ],
            [
             0.8888888888888888,
             "#fdca26"
            ],
            [
             1,
             "#f0f921"
            ]
           ],
           "sequentialminus": [
            [
             0,
             "#0d0887"
            ],
            [
             0.1111111111111111,
             "#46039f"
            ],
            [
             0.2222222222222222,
             "#7201a8"
            ],
            [
             0.3333333333333333,
             "#9c179e"
            ],
            [
             0.4444444444444444,
             "#bd3786"
            ],
            [
             0.5555555555555556,
             "#d8576b"
            ],
            [
             0.6666666666666666,
             "#ed7953"
            ],
            [
             0.7777777777777778,
             "#fb9f3a"
            ],
            [
             0.8888888888888888,
             "#fdca26"
            ],
            [
             1,
             "#f0f921"
            ]
           ]
          },
          "colorway": [
           "#636efa",
           "#EF553B",
           "#00cc96",
           "#ab63fa",
           "#FFA15A",
           "#19d3f3",
           "#FF6692",
           "#B6E880",
           "#FF97FF",
           "#FECB52"
          ],
          "font": {
           "color": "#2a3f5f"
          },
          "geo": {
           "bgcolor": "white",
           "lakecolor": "white",
           "landcolor": "#E5ECF6",
           "showlakes": true,
           "showland": true,
           "subunitcolor": "white"
          },
          "hoverlabel": {
           "align": "left"
          },
          "hovermode": "closest",
          "mapbox": {
           "style": "light"
          },
          "paper_bgcolor": "white",
          "plot_bgcolor": "#E5ECF6",
          "polar": {
           "angularaxis": {
            "gridcolor": "white",
            "linecolor": "white",
            "ticks": ""
           },
           "bgcolor": "#E5ECF6",
           "radialaxis": {
            "gridcolor": "white",
            "linecolor": "white",
            "ticks": ""
           }
          },
          "scene": {
           "xaxis": {
            "backgroundcolor": "#E5ECF6",
            "gridcolor": "white",
            "gridwidth": 2,
            "linecolor": "white",
            "showbackground": true,
            "ticks": "",
            "zerolinecolor": "white"
           },
           "yaxis": {
            "backgroundcolor": "#E5ECF6",
            "gridcolor": "white",
            "gridwidth": 2,
            "linecolor": "white",
            "showbackground": true,
            "ticks": "",
            "zerolinecolor": "white"
           },
           "zaxis": {
            "backgroundcolor": "#E5ECF6",
            "gridcolor": "white",
            "gridwidth": 2,
            "linecolor": "white",
            "showbackground": true,
            "ticks": "",
            "zerolinecolor": "white"
           }
          },
          "shapedefaults": {
           "line": {
            "color": "#2a3f5f"
           }
          },
          "ternary": {
           "aaxis": {
            "gridcolor": "white",
            "linecolor": "white",
            "ticks": ""
           },
           "baxis": {
            "gridcolor": "white",
            "linecolor": "white",
            "ticks": ""
           },
           "bgcolor": "#E5ECF6",
           "caxis": {
            "gridcolor": "white",
            "linecolor": "white",
            "ticks": ""
           }
          },
          "title": {
           "x": 0.05
          },
          "xaxis": {
           "automargin": true,
           "gridcolor": "white",
           "linecolor": "white",
           "ticks": "",
           "title": {
            "standoff": 15
           },
           "zerolinecolor": "white",
           "zerolinewidth": 2
          },
          "yaxis": {
           "automargin": true,
           "gridcolor": "white",
           "linecolor": "white",
           "ticks": "",
           "title": {
            "standoff": 15
           },
           "zerolinecolor": "white",
           "zerolinewidth": 2
          }
         }
        }
       }
      },
      "text/html": [
       "<div>\n",
       "        \n",
       "        \n",
       "            <div id=\"e2c5f240-b939-4dee-b53e-79153e99d6ad\" class=\"plotly-graph-div\" style=\"height:525px; width:100%;\"></div>\n",
       "            <script type=\"text/javascript\">\n",
       "                require([\"plotly\"], function(Plotly) {\n",
       "                    window.PLOTLYENV=window.PLOTLYENV || {};\n",
       "                    \n",
       "                if (document.getElementById(\"e2c5f240-b939-4dee-b53e-79153e99d6ad\")) {\n",
       "                    Plotly.newPlot(\n",
       "                        'e2c5f240-b939-4dee-b53e-79153e99d6ad',\n",
       "                        [{\"type\": \"bar\", \"x\": [\"Annabeth Chase/Percy Jackson\", \"Nico di Angelo/Will Solace\", \"Jason Grace/Piper McLean\", \"Hermione Granger/Ron Weasley\", \"Hazel Levesque/Frank Zhang\", \"Draco Malfoy/Harry Potter\", \"Harry Potter/Ginny Weasley\", \"Calypso/Leo Valdez\", \"Percy Jackson/Harry Potter\", \"Jason Grace/Percy Jackson\", \"Thalia Grace/Reyna Avila Ram\\u00edrez-Arellano\", \"Percy Jackson & Harry Potter\", \"Hermione Granger/Harry Potter\", \"Sirius Black/Remus Lupin\", \"Hermione Granger & Harry Potter & Ron Weasley\", \"Nico di Angelo/Harry Potter\", \"Luna Lovegood/Ginny Weasley\", \"James Potter/Lily Evans Potter\", \"Nico di Angelo/Percy Jackson\", \"Percy Jackson/Annabeth Chase\"], \"y\": [157, 84, 60, 59, 52, 36, 33, 32, 21, 14, 13, 12, 11, 11, 10, 10, 9, 9, 9, 8]}],\n",
       "                        {\"template\": {\"data\": {\"bar\": [{\"error_x\": {\"color\": \"#2a3f5f\"}, \"error_y\": {\"color\": \"#2a3f5f\"}, \"marker\": {\"line\": {\"color\": \"#E5ECF6\", \"width\": 0.5}}, \"type\": \"bar\"}], \"barpolar\": [{\"marker\": {\"line\": {\"color\": \"#E5ECF6\", \"width\": 0.5}}, \"type\": \"barpolar\"}], \"carpet\": [{\"aaxis\": {\"endlinecolor\": \"#2a3f5f\", \"gridcolor\": \"white\", \"linecolor\": \"white\", \"minorgridcolor\": \"white\", \"startlinecolor\": \"#2a3f5f\"}, \"baxis\": {\"endlinecolor\": \"#2a3f5f\", \"gridcolor\": \"white\", \"linecolor\": \"white\", \"minorgridcolor\": \"white\", \"startlinecolor\": \"#2a3f5f\"}, \"type\": \"carpet\"}], \"choropleth\": [{\"colorbar\": {\"outlinewidth\": 0, \"ticks\": \"\"}, \"type\": \"choropleth\"}], \"contour\": [{\"colorbar\": {\"outlinewidth\": 0, \"ticks\": \"\"}, \"colorscale\": [[0.0, \"#0d0887\"], [0.1111111111111111, \"#46039f\"], [0.2222222222222222, \"#7201a8\"], [0.3333333333333333, \"#9c179e\"], [0.4444444444444444, \"#bd3786\"], [0.5555555555555556, \"#d8576b\"], [0.6666666666666666, \"#ed7953\"], [0.7777777777777778, \"#fb9f3a\"], [0.8888888888888888, \"#fdca26\"], [1.0, \"#f0f921\"]], \"type\": \"contour\"}], \"contourcarpet\": [{\"colorbar\": {\"outlinewidth\": 0, \"ticks\": \"\"}, \"type\": \"contourcarpet\"}], \"heatmap\": [{\"colorbar\": {\"outlinewidth\": 0, \"ticks\": \"\"}, \"colorscale\": [[0.0, \"#0d0887\"], [0.1111111111111111, \"#46039f\"], [0.2222222222222222, \"#7201a8\"], [0.3333333333333333, \"#9c179e\"], [0.4444444444444444, \"#bd3786\"], [0.5555555555555556, \"#d8576b\"], [0.6666666666666666, \"#ed7953\"], [0.7777777777777778, \"#fb9f3a\"], [0.8888888888888888, \"#fdca26\"], [1.0, \"#f0f921\"]], \"type\": \"heatmap\"}], \"heatmapgl\": [{\"colorbar\": {\"outlinewidth\": 0, \"ticks\": \"\"}, \"colorscale\": [[0.0, \"#0d0887\"], [0.1111111111111111, \"#46039f\"], [0.2222222222222222, \"#7201a8\"], [0.3333333333333333, \"#9c179e\"], [0.4444444444444444, \"#bd3786\"], [0.5555555555555556, \"#d8576b\"], [0.6666666666666666, \"#ed7953\"], [0.7777777777777778, \"#fb9f3a\"], [0.8888888888888888, \"#fdca26\"], [1.0, \"#f0f921\"]], \"type\": \"heatmapgl\"}], \"histogram\": [{\"marker\": {\"colorbar\": {\"outlinewidth\": 0, \"ticks\": \"\"}}, \"type\": \"histogram\"}], \"histogram2d\": [{\"colorbar\": {\"outlinewidth\": 0, \"ticks\": \"\"}, \"colorscale\": [[0.0, \"#0d0887\"], [0.1111111111111111, \"#46039f\"], [0.2222222222222222, \"#7201a8\"], [0.3333333333333333, \"#9c179e\"], [0.4444444444444444, \"#bd3786\"], [0.5555555555555556, \"#d8576b\"], [0.6666666666666666, \"#ed7953\"], [0.7777777777777778, \"#fb9f3a\"], [0.8888888888888888, \"#fdca26\"], [1.0, \"#f0f921\"]], \"type\": \"histogram2d\"}], \"histogram2dcontour\": [{\"colorbar\": {\"outlinewidth\": 0, \"ticks\": \"\"}, \"colorscale\": [[0.0, \"#0d0887\"], [0.1111111111111111, \"#46039f\"], [0.2222222222222222, \"#7201a8\"], [0.3333333333333333, \"#9c179e\"], [0.4444444444444444, \"#bd3786\"], [0.5555555555555556, \"#d8576b\"], [0.6666666666666666, \"#ed7953\"], [0.7777777777777778, \"#fb9f3a\"], [0.8888888888888888, \"#fdca26\"], [1.0, \"#f0f921\"]], \"type\": \"histogram2dcontour\"}], \"mesh3d\": [{\"colorbar\": {\"outlinewidth\": 0, \"ticks\": \"\"}, \"type\": \"mesh3d\"}], \"parcoords\": [{\"line\": {\"colorbar\": {\"outlinewidth\": 0, \"ticks\": \"\"}}, \"type\": \"parcoords\"}], \"pie\": [{\"automargin\": true, \"type\": \"pie\"}], \"scatter\": [{\"marker\": {\"colorbar\": {\"outlinewidth\": 0, \"ticks\": \"\"}}, \"type\": \"scatter\"}], \"scatter3d\": [{\"line\": {\"colorbar\": {\"outlinewidth\": 0, \"ticks\": \"\"}}, \"marker\": {\"colorbar\": {\"outlinewidth\": 0, \"ticks\": \"\"}}, \"type\": \"scatter3d\"}], \"scattercarpet\": [{\"marker\": {\"colorbar\": {\"outlinewidth\": 0, \"ticks\": \"\"}}, \"type\": \"scattercarpet\"}], \"scattergeo\": [{\"marker\": {\"colorbar\": {\"outlinewidth\": 0, \"ticks\": \"\"}}, \"type\": \"scattergeo\"}], \"scattergl\": [{\"marker\": {\"colorbar\": {\"outlinewidth\": 0, \"ticks\": \"\"}}, \"type\": \"scattergl\"}], \"scattermapbox\": [{\"marker\": {\"colorbar\": {\"outlinewidth\": 0, \"ticks\": \"\"}}, \"type\": \"scattermapbox\"}], \"scatterpolar\": [{\"marker\": {\"colorbar\": {\"outlinewidth\": 0, \"ticks\": \"\"}}, \"type\": \"scatterpolar\"}], \"scatterpolargl\": [{\"marker\": {\"colorbar\": {\"outlinewidth\": 0, \"ticks\": \"\"}}, \"type\": \"scatterpolargl\"}], \"scatterternary\": [{\"marker\": {\"colorbar\": {\"outlinewidth\": 0, \"ticks\": \"\"}}, \"type\": \"scatterternary\"}], \"surface\": [{\"colorbar\": {\"outlinewidth\": 0, \"ticks\": \"\"}, \"colorscale\": [[0.0, \"#0d0887\"], [0.1111111111111111, \"#46039f\"], [0.2222222222222222, \"#7201a8\"], [0.3333333333333333, \"#9c179e\"], [0.4444444444444444, \"#bd3786\"], [0.5555555555555556, \"#d8576b\"], [0.6666666666666666, \"#ed7953\"], [0.7777777777777778, \"#fb9f3a\"], [0.8888888888888888, \"#fdca26\"], [1.0, \"#f0f921\"]], \"type\": \"surface\"}], \"table\": [{\"cells\": {\"fill\": {\"color\": \"#EBF0F8\"}, \"line\": {\"color\": \"white\"}}, \"header\": {\"fill\": {\"color\": \"#C8D4E3\"}, \"line\": {\"color\": \"white\"}}, \"type\": \"table\"}]}, \"layout\": {\"annotationdefaults\": {\"arrowcolor\": \"#2a3f5f\", \"arrowhead\": 0, \"arrowwidth\": 1}, \"coloraxis\": {\"colorbar\": {\"outlinewidth\": 0, \"ticks\": \"\"}}, \"colorscale\": {\"diverging\": [[0, \"#8e0152\"], [0.1, \"#c51b7d\"], [0.2, \"#de77ae\"], [0.3, \"#f1b6da\"], [0.4, \"#fde0ef\"], [0.5, \"#f7f7f7\"], [0.6, \"#e6f5d0\"], [0.7, \"#b8e186\"], [0.8, \"#7fbc41\"], [0.9, \"#4d9221\"], [1, \"#276419\"]], \"sequential\": [[0.0, \"#0d0887\"], [0.1111111111111111, \"#46039f\"], [0.2222222222222222, \"#7201a8\"], [0.3333333333333333, \"#9c179e\"], [0.4444444444444444, \"#bd3786\"], [0.5555555555555556, \"#d8576b\"], [0.6666666666666666, \"#ed7953\"], [0.7777777777777778, \"#fb9f3a\"], [0.8888888888888888, \"#fdca26\"], [1.0, \"#f0f921\"]], \"sequentialminus\": [[0.0, \"#0d0887\"], [0.1111111111111111, \"#46039f\"], [0.2222222222222222, \"#7201a8\"], [0.3333333333333333, \"#9c179e\"], [0.4444444444444444, \"#bd3786\"], [0.5555555555555556, \"#d8576b\"], [0.6666666666666666, \"#ed7953\"], [0.7777777777777778, \"#fb9f3a\"], [0.8888888888888888, \"#fdca26\"], [1.0, \"#f0f921\"]]}, \"colorway\": [\"#636efa\", \"#EF553B\", \"#00cc96\", \"#ab63fa\", \"#FFA15A\", \"#19d3f3\", \"#FF6692\", \"#B6E880\", \"#FF97FF\", \"#FECB52\"], \"font\": {\"color\": \"#2a3f5f\"}, \"geo\": {\"bgcolor\": \"white\", \"lakecolor\": \"white\", \"landcolor\": \"#E5ECF6\", \"showlakes\": true, \"showland\": true, \"subunitcolor\": \"white\"}, \"hoverlabel\": {\"align\": \"left\"}, \"hovermode\": \"closest\", \"mapbox\": {\"style\": \"light\"}, \"paper_bgcolor\": \"white\", \"plot_bgcolor\": \"#E5ECF6\", \"polar\": {\"angularaxis\": {\"gridcolor\": \"white\", \"linecolor\": \"white\", \"ticks\": \"\"}, \"bgcolor\": \"#E5ECF6\", \"radialaxis\": {\"gridcolor\": \"white\", \"linecolor\": \"white\", \"ticks\": \"\"}}, \"scene\": {\"xaxis\": {\"backgroundcolor\": \"#E5ECF6\", \"gridcolor\": \"white\", \"gridwidth\": 2, \"linecolor\": \"white\", \"showbackground\": true, \"ticks\": \"\", \"zerolinecolor\": \"white\"}, \"yaxis\": {\"backgroundcolor\": \"#E5ECF6\", \"gridcolor\": \"white\", \"gridwidth\": 2, \"linecolor\": \"white\", \"showbackground\": true, \"ticks\": \"\", \"zerolinecolor\": \"white\"}, \"zaxis\": {\"backgroundcolor\": \"#E5ECF6\", \"gridcolor\": \"white\", \"gridwidth\": 2, \"linecolor\": \"white\", \"showbackground\": true, \"ticks\": \"\", \"zerolinecolor\": \"white\"}}, \"shapedefaults\": {\"line\": {\"color\": \"#2a3f5f\"}}, \"ternary\": {\"aaxis\": {\"gridcolor\": \"white\", \"linecolor\": \"white\", \"ticks\": \"\"}, \"baxis\": {\"gridcolor\": \"white\", \"linecolor\": \"white\", \"ticks\": \"\"}, \"bgcolor\": \"#E5ECF6\", \"caxis\": {\"gridcolor\": \"white\", \"linecolor\": \"white\", \"ticks\": \"\"}}, \"title\": {\"x\": 0.05}, \"xaxis\": {\"automargin\": true, \"gridcolor\": \"white\", \"linecolor\": \"white\", \"ticks\": \"\", \"title\": {\"standoff\": 15}, \"zerolinecolor\": \"white\", \"zerolinewidth\": 2}, \"yaxis\": {\"automargin\": true, \"gridcolor\": \"white\", \"linecolor\": \"white\", \"ticks\": \"\", \"title\": {\"standoff\": 15}, \"zerolinecolor\": \"white\", \"zerolinewidth\": 2}}}},\n",
       "                        {\"responsive\": true}\n",
       "                    ).then(function(){\n",
       "                            \n",
       "var gd = document.getElementById('e2c5f240-b939-4dee-b53e-79153e99d6ad');\n",
       "var x = new MutationObserver(function (mutations, observer) {{\n",
       "        var display = window.getComputedStyle(gd).display;\n",
       "        if (!display || display === 'none') {{\n",
       "            console.log([gd, 'removed!']);\n",
       "            Plotly.purge(gd);\n",
       "            observer.disconnect();\n",
       "        }}\n",
       "}});\n",
       "\n",
       "// Listen for the removal of the full notebook cells\n",
       "var notebookContainer = gd.closest('#notebook-container');\n",
       "if (notebookContainer) {{\n",
       "    x.observe(notebookContainer, {childList: true});\n",
       "}}\n",
       "\n",
       "// Listen for the clearing of the current output cell\n",
       "var outputEl = gd.closest('.output');\n",
       "if (outputEl) {{\n",
       "    x.observe(outputEl, {childList: true});\n",
       "}}\n",
       "\n",
       "                        })\n",
       "                };\n",
       "                });\n",
       "            </script>\n",
       "        </div>"
      ]
     },
     "metadata": {},
     "output_type": "display_data"
    }
   ],
   "source": [
    "from fuzzywuzzy import fuzz\n",
    "from fuzzywuzzy import process\n",
    "import re\n",
    "\n",
    "ns_co_tags = get_frequency(\"Relationships\", \"CO\", \"x\")\n",
    "\n",
    "condensed = {}\n",
    "\n",
    "for item in ns_co_tags:\n",
    "    if condensed != {}:\n",
    "        for x in condensed:\n",
    "                y = re.split(r'\\s*[\\/\\&]\\s*', x)\n",
    "                y = \"%\".join(y)\n",
    "                z = re.split(r'\\s*[\\/\\&]\\s*', item)\n",
    "                z =  \"%\".join(z)\n",
    "                if int(fuzz.ratio(z, y)) > 90 or int(fuzz.token_sort_ratio(z, y)) > 90 or int(fuzz.token_sort_ratio(y, z)) > 90:\n",
    "                    new = 0\n",
    "                    add = x\n",
    "                else:\n",
    "                    new = 1\n",
    "    else:\n",
    "        new = 1\n",
    "    if new == 0:\n",
    "        condensed[add] += ns_co_tags[item]\n",
    "    else:\n",
    "        condensed[item] = ns_co_tags[item]\n",
    "                \n",
    "print(\"ready\")          \n",
    "\n",
    "test = sorted(condensed.items(), key=lambda x: x[1], reverse=True)\n",
    "\n",
    "testx = freq_graph(test, 20)\n",
    "testx"
   ]
  },
  {
   "cell_type": "code",
   "execution_count": null,
   "metadata": {},
   "outputs": [],
   "source": []
  }
 ],
 "metadata": {
  "kernelspec": {
   "display_name": "Python 3",
   "language": "python",
   "name": "python3"
  },
  "language_info": {
   "codemirror_mode": {
    "name": "ipython",
    "version": 3
   },
   "file_extension": ".py",
   "mimetype": "text/x-python",
   "name": "python",
   "nbconvert_exporter": "python",
   "pygments_lexer": "ipython3",
   "version": "3.7.6"
  }
 },
 "nbformat": 4,
 "nbformat_minor": 4
}
